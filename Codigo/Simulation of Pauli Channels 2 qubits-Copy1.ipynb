{
 "cells": [
  {
   "cell_type": "code",
   "execution_count": 2,
   "id": "e10c7682",
   "metadata": {},
   "outputs": [],
   "source": [
    "import numpy as np\n",
    "import matplotlib.pyplot as plt\n",
    "import itertools\n",
    "import csv\n",
    "\n",
    "import qiskit\n",
    "from qiskit_experiments import library\n",
    "import qiskit.quantum_info as qi\n",
    "from qiskit.circuit.library import XGate, YGate, ZGate, U1Gate\n",
    "from qiskit.quantum_info import Choi, Kraus\n",
    "#import qiskit.aqua.utils as utils\n",
    "from qiskit.tools.monitor import job_monitor\n",
    "from qiskit import QuantumCircuit, QuantumRegister,execute, Aer\n",
    "import qiskit.quantum_info.operators.channel.transformations as qtrans\n",
    "from qiskit_aer import AerSimulator\n",
    "\n",
    "from qiskit.ignis.verification.tomography import state_tomography_circuits, StateTomographyFitter\n",
    "from qiskit.ignis.verification.tomography import process_tomography_circuits, ProcessTomographyFitter\n",
    "from qiskit.ignis.verification.tomography import gateset_tomography_circuits, GatesetTomographyFitter\n",
    "import qiskit.ignis.mitigation.measurement as mc\n",
    "#Pauli matrices:\n",
    "I = np.array([[1,0],[0,1]])\n",
    "X = np.array([[0,1],[1,0]])\n",
    "Y = np.array([[0,-1j],[1j,0]])\n",
    "Z = np.array([[1,0],[0,-1]])\n"
   ]
  },
  {
   "cell_type": "markdown",
   "id": "e3edaf94",
   "metadata": {},
   "source": [
    "# 2 Qubit-channel\n",
    "\n",
    "Now we will use the algorithm to simulate a 2-qubit quantum channel. In particular, the channel we will simulate is \n",
    "\n",
    "$$ \\varepsilon(\\rho) = k_0 \\rho + k_1 (\\sigma_3 \\otimes I) \\rho (\\sigma_3 \\otimes I) + k_2 (I \\otimes \\sigma_3) \\rho (I \\otimes \\sigma_3) . $$\n",
    "\n",
    "with $k_0 + k_1 + k_2 = 1$. To simulate this particular channel, we will need the two principal qubits and two ancilla qubits (to create the probabilities $k_0, k_1, k_2$. \n"
   ]
  },
  {
   "cell_type": "code",
   "execution_count": 22,
   "id": "3de76cdc",
   "metadata": {},
   "outputs": [
    {
     "data": {
      "text/html": [
       "<pre style=\"word-wrap: normal;white-space: pre;background: #fff0;line-height: 1.1;font-family: &quot;Courier New&quot;,Courier,monospace\">                         \n",
       "q_0: ───────────────■────\n",
       "                    │    \n",
       "q_1: ───────────────┼──■─\n",
       "     ┌────────────┐ │  │ \n",
       "q_2: ┤ Ry(1.7722) ├─■──■─\n",
       "     └────────────┘      </pre>"
      ],
      "text/plain": [
       "                         \n",
       "q_0: ───────────────■────\n",
       "                    │    \n",
       "q_1: ───────────────┼──■─\n",
       "     ┌────────────┐ │  │ \n",
       "q_2: ┤ Ry(1.7722) ├─■──■─\n",
       "     └────────────┘      "
      ]
     },
     "execution_count": 22,
     "metadata": {},
     "output_type": "execute_result"
    }
   ],
   "source": [
    "\"\"\"Function to create the circuit given the values of k:\"\"\"\n",
    "\n",
    "def ks_to_circuit(k0):\n",
    "    \n",
    "    theta = np.arcsin(np.sqrt(k0))\n",
    "    \n",
    "    #We calculate the angles theta0, theta1, theta2.\n",
    "    theta0 = 2*np.arcsin(np.sqrt(k0))\n",
    "    \n",
    "    # We create the circuit with 3 qubits.\n",
    "    qreg_q = QuantumRegister(3, 'q') \n",
    "    circ = QuantumCircuit(qreg_q)\n",
    "    \n",
    "    #Add the quantum gates to create the ancilla qubit state.\n",
    "    circ.ry(theta0,2)\n",
    "    \n",
    "    #Add the controlled gates.\n",
    "    czz = ZGate.control(ZGate(),num_ctrl_qubits=1,ctrl_state='1')\n",
    "\n",
    "    #     czi = ZGate.control(ZGate(),num_ctrl_qubits=2,ctrl_state='10')\n",
    "    \n",
    "    \n",
    "    \n",
    "    \n",
    "    circ.append(czz, [0, 2])\n",
    "    circ.append(czz, [1, 2])\n",
    "\n",
    "    #     circ.append(czi, [2,3, 1])\n",
    "\n",
    "    return(circ)\n",
    "\n",
    "circ = ks_to_circuit(0.6)\n",
    "circ.draw()"
   ]
  },
  {
   "cell_type": "markdown",
   "id": "8cd76ac4",
   "metadata": {},
   "source": [
    "Create many instances of the channel for different values of $p_0,p_1,p_2$:"
   ]
  },
  {
   "cell_type": "code",
   "execution_count": 24,
   "id": "64b3788e",
   "metadata": {
    "scrolled": true
   },
   "outputs": [
    {
     "data": {
      "text/plain": [
       "[0.0,\n",
       " 0.04,\n",
       " 0.08,\n",
       " 0.12,\n",
       " 0.16,\n",
       " 0.2,\n",
       " 0.24,\n",
       " 0.28,\n",
       " 0.32,\n",
       " 0.36,\n",
       " 0.4,\n",
       " 0.44,\n",
       " 0.48,\n",
       " 0.52,\n",
       " 0.56,\n",
       " 0.6,\n",
       " 0.64,\n",
       " 0.68,\n",
       " 0.72,\n",
       " 0.76,\n",
       " 0.8,\n",
       " 0.84,\n",
       " 0.88,\n",
       " 0.92,\n",
       " 0.96]"
      ]
     },
     "execution_count": 24,
     "metadata": {},
     "output_type": "execute_result"
    }
   ],
   "source": [
    "points = []\n",
    "for k in np.arange(0,1,0.04):\n",
    "    points.append(np.around(k,2))\n",
    "points\n"
   ]
  },
  {
   "cell_type": "code",
   "execution_count": 26,
   "id": "ca3d9447",
   "metadata": {},
   "outputs": [
    {
     "data": {
      "text/html": [
       "<pre style=\"word-wrap: normal;white-space: pre;background: #fff0;line-height: 1.1;font-family: &quot;Courier New&quot;,Courier,monospace\">                         \n",
       "q_0: ───────────────■────\n",
       "                    │    \n",
       "q_1: ───────────────┼──■─\n",
       "     ┌────────────┐ │  │ \n",
       "q_2: ┤ Ry(1.6108) ├─■──■─\n",
       "     └────────────┘      </pre>"
      ],
      "text/plain": [
       "                         \n",
       "q_0: ───────────────■────\n",
       "                    │    \n",
       "q_1: ───────────────┼──■─\n",
       "     ┌────────────┐ │  │ \n",
       "q_2: ┤ Ry(1.6108) ├─■──■─\n",
       "     └────────────┘      "
      ]
     },
     "execution_count": 26,
     "metadata": {},
     "output_type": "execute_result"
    }
   ],
   "source": [
    "\n",
    "circuits = []\n",
    "for k in points:\n",
    "    circuits.append(ks_to_circuit(k))\n",
    "\n",
    "circuits[13].draw()\n"
   ]
  },
  {
   "cell_type": "markdown",
   "id": "6a6cb6b0",
   "metadata": {},
   "source": [
    "### Run Quantum Process tomography"
   ]
  },
  {
   "cell_type": "code",
   "execution_count": 27,
   "id": "92a4ccde",
   "metadata": {},
   "outputs": [],
   "source": [
    "def choi_theoretical(k0):\n",
    "    '''For some values of taus describing a Pauli channel, this function\n",
    "    returns the choi matrix of said channel.\n",
    "    \n",
    "    Args:\n",
    "        taus (list): The list of taus [tau1,tau2,tau3] that defines a Pauli channel.\n",
    "    \n",
    "    Returns:\n",
    "        mat_choi (qi.choi): The choi matrix of the channel.\n",
    "    '''\n",
    "\n",
    "    \n",
    "    #First we convert the taus to the ks that describe the channel.\n",
    "#     k0,k1,k2 = ks\n",
    "    \n",
    "    #We can write the Kraus representation of the channel, using that the \n",
    "    # Kraus operators are \\sqrt{k_i} \\sigma_i with \\sigma_i the ith Pauli matrix.\n",
    "    \n",
    "    k = Kraus([np.sqrt(1-k0)*np.kron(I,I),np.sqrt(k0)*np.kron(Z,Z)])\n",
    "    \n",
    "    #We convert the Kraus representation to the choi representation of the channel.\n",
    "    mat_choi = np.array(qtrans._kraus_to_choi([k.data,None]))\n",
    "    \n",
    "    return(qi.Choi(mat_choi))\n",
    "\n"
   ]
  },
  {
   "cell_type": "code",
   "execution_count": 28,
   "id": "9f465607",
   "metadata": {},
   "outputs": [],
   "source": [
    "from qiskit_experiments.library import ProcessTomography\n",
    "import qiskit\n",
    "from qiskit_aer import AerSimulator\n",
    "from qiskit.providers.fake_provider import FakeLima"
   ]
  },
  {
   "cell_type": "code",
   "execution_count": 36,
   "id": "f62b5cb5",
   "metadata": {},
   "outputs": [
    {
     "name": "stdout",
     "output_type": "stream",
     "text": [
      "0\n",
      "1\n",
      "2\n",
      "3\n",
      "4\n",
      "5\n",
      "6\n",
      "7\n",
      "8\n",
      "9\n",
      "10\n",
      "11\n",
      "12\n",
      "13\n",
      "14\n",
      "15\n",
      "16\n",
      "17\n",
      "18\n",
      "19\n",
      "20\n",
      "21\n",
      "22\n",
      "23\n",
      "24\n"
     ]
    }
   ],
   "source": [
    "backend = AerSimulator.from_backend(FakeLima())\n",
    "# backend = Aer.get_backend('aer_simulator')\n",
    "\n",
    "fidelities = []\n",
    "for i in range(len(points)):\n",
    "    print(i)\n",
    "    point = points[i]\n",
    "    circ = circuits[i]\n",
    "    \n",
    "    \n",
    "    qpt = ProcessTomography(circ,backend,*measurement_indices=[0,1],\n",
    "                            preparation_indices=[0,1])\n",
    "    qpt.set_run_options(shots=20000)\n",
    "    \n",
    "    qpt_run = qpt.run()\n",
    "    qptdata = qpt_run.block_for_results()\n",
    "    \n",
    "    \n",
    "    \n",
    "    choi_simu = qptdata.analysis_results(\"state\").value\n",
    "    choi_theo = choi_theoretical(point)\n",
    "    \n",
    "    dis =qi.diamond_norm(qi.Choi(choi_simu)-choi_theo)\n",
    "    fidelities.append(1-0.5*dis)\n",
    "    "
   ]
  },
  {
   "cell_type": "code",
   "execution_count": 37,
   "id": "c70393ad",
   "metadata": {},
   "outputs": [],
   "source": [
    "with open(\"pruebas/Resultados/fidelity-2qbit-zz.csv\",\"w\") as f:\n",
    "    f.write(\"p,fid\")\n",
    "    \n",
    "    for i in range(len(points)):\n",
    "        f.write(\"\\n\" + str(points[i]) + \",\" + str(fidelities[i]))\n",
    "        "
   ]
  },
  {
   "cell_type": "code",
   "execution_count": 38,
   "id": "f7fd0c2a",
   "metadata": {
    "scrolled": true
   },
   "outputs": [],
   "source": [
    "fidelities =[]\n",
    "\n",
    "import csv\n",
    "import pandas as pd\n",
    "\n",
    "\n",
    "data = pd.read_csv(\"pruebas/Resultados/fidelity-2qbit-zz.csv\")\n",
    "\n",
    "        \n",
    "fidelities = data['fid']\n",
    "fidelities = np.array(fidelities)"
   ]
  },
  {
   "cell_type": "code",
   "execution_count": 39,
   "id": "2a900f1e",
   "metadata": {},
   "outputs": [
    {
     "data": {
      "text/plain": [
       "[<matplotlib.lines.Line2D at 0x294f72d24a0>]"
      ]
     },
     "execution_count": 39,
     "metadata": {},
     "output_type": "execute_result"
    },
    {
     "data": {
      "image/png": "[encoded data removed]",
      "text/plain": [
       "<Figure size 640x480 with 1 Axes>"
      ]
     },
     "metadata": {},
     "output_type": "display_data"
    }
   ],
   "source": [
    "plt.plot(fidelities)"
   ]
  },
  {
   "cell_type": "code",
   "execution_count": null,
   "id": "8dc0899f",
   "metadata": {},
   "outputs": [],
   "source": []
  }
 ],
 "metadata": {
  "kernelspec": {
   "display_name": "Python 3 (ipykernel)",
   "language": "python",
   "name": "python3"
  },
  "language_info": {
   "codemirror_mode": {
    "name": "ipython",
    "version": 3
   },
   "file_extension": ".py",
   "mimetype": "text/x-python",
   "name": "python",
   "nbconvert_exporter": "python",
   "pygments_lexer": "ipython3",
   "version": "3.10.11"
  }
 },
 "nbformat": 4,
 "nbformat_minor": 5
}
