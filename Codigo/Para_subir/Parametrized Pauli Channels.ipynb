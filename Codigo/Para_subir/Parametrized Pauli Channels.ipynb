{
 "cells": [
  {
   "cell_type": "code",
   "execution_count": 20,
   "id": "b6021489",
   "metadata": {},
   "outputs": [],
   "source": [
    "import numpy as np\n",
    "import matplotlib.pyplot as plt\n",
    "import itertools\n",
    "import csv\n",
    "\n",
    "import qiskit\n",
    "from qiskit_experiments import library\n",
    "import qiskit.quantum_info as qi\n",
    "from qiskit.circuit.library import XGate, YGate, ZGate, U1Gate\n",
    "from qiskit.quantum_info import Choi, Kraus\n",
    "#import qiskit.aqua.utils as utils\n",
    "from qiskit.tools.monitor import job_monitor\n",
    "from qiskit import QuantumCircuit, QuantumRegister,execute, Aer\n",
    "import qiskit.quantum_info.operators.channel.transformations as qtrans\n",
    "from qiskit_aer import AerSimulator\n",
    "\n",
    "from qiskit.ignis.verification.tomography import state_tomography_circuits, StateTomographyFitter\n",
    "from qiskit.ignis.verification.tomography import process_tomography_circuits, ProcessTomographyFitter\n",
    "from qiskit.ignis.verification.tomography import gateset_tomography_circuits, GatesetTomographyFitter\n",
    "import qiskit.ignis.mitigation.measurement as mc\n",
    "#Pauli matrices:\n",
    "I = np.array([[1,0],[0,1]])\n",
    "X = np.array([[0,1],[1,0]])\n",
    "Y = np.array([[0,-1j],[1j,0]])\n",
    "Z = np.array([[1,0],[0,-1]])\n",
    "\n",
    "from qiskit_experiments.library import ProcessTomography\n",
    "import qiskit\n",
    "from qiskit_aer import AerSimulator\n"
   ]
  },
  {
   "cell_type": "markdown",
   "id": "b75056c0",
   "metadata": {},
   "source": [
    "## Depolarizing\n",
    "\n",
    "The depolarizing dynamical map is defined by:\n",
    "\n",
    "$$ \\epsilon(\\rho) = (1-3p/4) \\rho + (p/4) \\sigma_1 \\rho \\sigma_1 + (p/4) \\sigma_2 \\rho \\sigma_2 + (p/4) \\sigma_3 \\rho \\sigma_3 $$\n",
    "\n",
    "As seen in the text, to implement this types of maps, we need to create the state $|\\beta(p)\\rangle = \\sqrt{1-3p/4} |0\\rangle + \\sqrt{p/4} |1\\rangle + \\sqrt{p/4} |2 \\rangle + \\sqrt{p/4} |3 \\rangle$ on the ancilla qubits.\n",
    "\n",
    "This state we want to create can be rewritten as:\n",
    "\n",
    "\n",
    "$ = e^{is} \\left(\\dfrac{1}{2}, \\dfrac{-i}{2\\sqrt{3}}, \\dfrac{-i}{2\\sqrt{3}}, \\dfrac{-i}{2\\sqrt{3}} \\right) + e^{-is}\\left(\\dfrac{1}{2}, \\dfrac{i}{2\\sqrt{3}}, \\dfrac{i}{2\\sqrt{3}},\\dfrac{i}{2\\sqrt{3}} \\right)  = |c\\rangle + |a\\rangle e^{is} + |b\\rangle e^{-is}$,\n",
    "\n",
    "so that $|c\\rangle= 0$, $|a\\rangle = \\dfrac{1}{2}|0\\rangle - \\dfrac{i}{2\\sqrt{3}} |1\\rangle - \\dfrac{i}{2\\sqrt{3}} |2\\rangle - \\dfrac{i}{2\\sqrt{3}} |3\\rangle$ and $|b\\rangle = \\dfrac{1}{2} |0\\rangle + \\dfrac{i}{2\\sqrt{3}} |1\\rangle + \\dfrac{i}{2\\sqrt{3}} |2 \\rangle  + \\dfrac{i}{2\\sqrt{3}} |3\\rangle $,\n",
    "\n",
    "with $\\sin s = \\sqrt{3p/4}$. Therefore, the matrices $A$ and $B$ described in the article can be taken to be:\n",
    "\n",
    "$ B = \\begin{pmatrix}\n",
    "0 & 0 & 0 & 1 \\\\\n",
    "0 & 0 & 1 & 0 \\\\\n",
    "1/\\sqrt{2} & -1/\\sqrt{2} & 0 & 0 \\\\\n",
    "1/\\sqrt{2} & 1/\\sqrt{2} & 0 & 0\n",
    "\\end{pmatrix}$\n",
    "\n",
    "\n",
    "$ A = \\begin{pmatrix}\n",
    "0 & 0 & 1/\\sqrt{2} & 1/\\sqrt{2} \\\\\n",
    "1/\\sqrt{6} & -1/\\sqrt{2} & i/\\sqrt{6} & -i/\\sqrt{6} \\\\\n",
    "1/\\sqrt{6} & 1/\\sqrt{2} & i/\\sqrt{6} & -i/\\sqrt{6} \\\\\n",
    "-\\sqrt{2/3} & 0 & i/\\sqrt{6} & -i/\\sqrt{6} \\\\\n",
    "\\end{pmatrix}$\n",
    "\n",
    "\n",
    "\n"
   ]
  },
  {
   "cell_type": "markdown",
   "id": "fb8647ff",
   "metadata": {},
   "source": [
    "First, we define a function that builds the circuit as shown in figure 5 of the article for any value of $p$."
   ]
  },
  {
   "cell_type": "code",
   "execution_count": 21,
   "id": "5dc719cd",
   "metadata": {},
   "outputs": [
    {
     "data": {
      "text/html": [
       "<pre style=\"word-wrap: normal;white-space: pre;background: #fff0;line-height: 1.1;font-family: &quot;Courier New&quot;,Courier,monospace\">                               ┌───┐┌───┐   \n",
       "q_0: ──────────────────────────┤ X ├┤ Y ├─■─\n",
       "     ┌────┐              ┌────┐└─┬─┘└─┬─┘ │ \n",
       "q_1: ┤1   ├──────■───────┤1   ├──o────■───■─\n",
       "     │  B │┌─────┴──────┐│  A │  │    │   │ \n",
       "q_2: ┤0   ├┤ Rz(1.1593) ├┤0   ├──■────o───■─\n",
       "     └────┘└────────────┘└────┘             </pre>"
      ],
      "text/plain": [
       "                               ┌───┐┌───┐   \n",
       "q_0: ──────────────────────────┤ X ├┤ Y ├─■─\n",
       "     ┌────┐              ┌────┐└─┬─┘└─┬─┘ │ \n",
       "q_1: ┤1   ├──────■───────┤1   ├──o────■───■─\n",
       "     │  B │┌─────┴──────┐│  A │  │    │   │ \n",
       "q_2: ┤0   ├┤ Rz(1.1593) ├┤0   ├──■────o───■─\n",
       "     └────┘└────────────┘└────┘             "
      ]
     },
     "execution_count": 21,
     "metadata": {},
     "output_type": "execute_result"
    }
   ],
   "source": [
    "B = np.array([[0,0,0,1],\n",
    "             [0,0,1,0],\n",
    "            [1/2**0.5,-1/2**0.5,0,0],\n",
    "              [1/2**0.5,1/2**0.5,0,0]])\n",
    "\n",
    "A = np.array([[0,0,1/2**0.5,1/2**0.5],\n",
    "             [1/6**0.5,-1/2**0.5,1j/6**0.5,-1j/6**0.5],\n",
    "             [1/6**0.5,1/2**0.5,1j/6**0.5,-1j/6**0.5],\n",
    "             [-(2/3)**0.5,0,1j/6**0.5,-1j/6**0.5]])\n",
    "\n",
    "\n",
    "\n",
    "\n",
    "def circ_depo(p):\n",
    "    '''Function that creates a circuit for depolarizing channel.\n",
    "    Args:\n",
    "        p: Value for the depolarizing.\n",
    "        \n",
    "    Returns:\n",
    "        A circuit that applies depolarizing with value $p$ to qubit 0.\n",
    "    '''\n",
    "    \n",
    "    s = np.arcsin(np.sqrt(3*p/4))\n",
    "    \n",
    "    qreg_q = QuantumRegister(3, 'q')  \n",
    "    circ = QuantumCircuit(3)\n",
    "\n",
    "    circ.unitary(qi.operators.Operator(B),[2,1],label='B')\n",
    "    \n",
    "    circ.crz(2*s,qreg_q[1],qreg_q[2])\n",
    "    \n",
    "    circ.unitary(qi.operators.Operator(A),[2,1],label='A')\n",
    "    \n",
    "    c2y = YGate.control(YGate(),num_ctrl_qubits=2,ctrl_state='01')\n",
    "    c2x = XGate.control(XGate(),num_ctrl_qubits=2,ctrl_state='10')\n",
    "    c2z = ZGate.control(ZGate(),num_ctrl_qubits=2,ctrl_state='11')\n",
    "    circ.append(c2x, [1, 2, 0])\n",
    "    circ.append(c2y, [1, 2, 0])\n",
    "    circ.append(c2z, [1, 2, 0])\n",
    "\n",
    "    return(circ)\n",
    "\n",
    "depo = circ_depo(0.4)\n",
    "depo.draw()\n"
   ]
  },
  {
   "cell_type": "markdown",
   "id": "d4df7cad",
   "metadata": {},
   "source": [
    "### Simulation of Depolarizing channel\n",
    "\n",
    "The following function calculates the theoretical value of the choi matrix for the depolarizing channel."
   ]
  },
  {
   "cell_type": "code",
   "execution_count": 22,
   "id": "4420e4b7",
   "metadata": {},
   "outputs": [],
   "source": [
    "import qiskit.quantum_info.operators.channel.transformations as qtrans\n",
    "def choi_depo(p):    \n",
    "    k = qiskit.quantum_info.Kraus([np.sqrt((1-3*p/4))*I,np.sqrt(p/4)*X,\n",
    "                               np.sqrt(p/4)*Y,np.sqrt(p/4)*Z])\n",
    "    mat_choi = np.array(qtrans._kraus_to_choi([k.data,None]))\n",
    "    \n",
    "    return(Choi(mat_choi))\n",
    "\n",
    "choi_objetivo = choi_depo(0.4)"
   ]
  },
  {
   "cell_type": "markdown",
   "id": "dddc0039",
   "metadata": {},
   "source": [
    "Log in to ibmq account"
   ]
  },
  {
   "cell_type": "code",
   "execution_count": 23,
   "id": "5198aa36",
   "metadata": {},
   "outputs": [
    {
     "name": "stderr",
     "output_type": "stream",
     "text": [
      "ibmqfactory.load_account:WARNING:2023-09-17 16:30:49,460: Credentials are already in use. The existing account in the session will be replaced.\n"
     ]
    }
   ],
   "source": [
    "\n",
    "from qiskit import IBMQ\n",
    "provider = IBMQ.load_account()\n",
    "provider = IBMQ.get_provider('ibm-q')"
   ]
  },
  {
   "cell_type": "code",
   "execution_count": 24,
   "id": "501156e5",
   "metadata": {},
   "outputs": [
    {
     "name": "stdout",
     "output_type": "stream",
     "text": [
      "Amount of channels:  25\n"
     ]
    },
    {
     "data": {
      "text/plain": [
       "array([0.        , 0.04166667, 0.08333333, 0.125     , 0.16666667,\n",
       "       0.20833333, 0.25      , 0.29166667, 0.33333333, 0.375     ,\n",
       "       0.41666667, 0.45833333, 0.5       , 0.54166667, 0.58333333,\n",
       "       0.625     , 0.66666667, 0.70833333, 0.75      , 0.79166667,\n",
       "       0.83333333, 0.875     , 0.91666667, 0.95833333, 1.        ])"
      ]
     },
     "execution_count": 24,
     "metadata": {},
     "output_type": "execute_result"
    }
   ],
   "source": [
    "# We will do it for 25 values of p from 0 to 1\n",
    "points = np.linspace(0,1,25)\n",
    "print(\"Amount of channels: \", len(points))\n",
    "points"
   ]
  },
  {
   "cell_type": "code",
   "execution_count": 25,
   "id": "cc74d396",
   "metadata": {
    "scrolled": true
   },
   "outputs": [],
   "source": [
    "#  We create the circuits for these points.\n",
    "circuits= []\n",
    "for p in points:\n",
    "    circuits.append(circ_depo(p))\n"
   ]
  },
  {
   "cell_type": "code",
   "execution_count": null,
   "id": "bdaf590e",
   "metadata": {},
   "outputs": [],
   "source": [
    "# backend = Aer.get_backend('aer_simulator')\n",
    "backend = provider.get_backend('ibmq_lima')\n",
    "\n",
    "with open(\"Results/depolarizing-fidelities.csv\",\"w\") as f:\n",
    "#     f.write(\"p,fid\")\n",
    "    \n",
    "    for i in range(len(points)):\n",
    "        print(i)\n",
    "        p = points[i]\n",
    "        \n",
    "        circ = circuits[i]\n",
    "        res = []\n",
    "        \n",
    "        f.write(\"\\n\" + str(p))\n",
    "    #We take 20 repetitions for each value of p\n",
    "        for j in range(20):\n",
    "            qpt = ProcessTomography(circ,backend,measurement_indices=[0],\n",
    "                            preparation_indices=[0])\n",
    "            \n",
    "            qpt.set_run_options(shots=20000)\n",
    "            \n",
    "            qpt_run = qpt.run()\n",
    "            qptdata = qpt_run.block_for_results()\n",
    "            \n",
    "            choi_simu = qptdata.analysis_results(\"state\").value\n",
    "            choi_theo = choi_depo(p)\n",
    "\n",
    "            dis =qi.diamond_norm(qi.Choi(choi_simu)-choi_theo)\n",
    "            \n",
    "            res.append(1-0.5*dis) \n",
    "\n",
    "            f.write(','+ str(1-0.5*dis))\n",
    "\n",
    "    \n"
   ]
  },
  {
   "cell_type": "code",
   "execution_count": 138,
   "id": "46dd0512",
   "metadata": {},
   "outputs": [
    {
     "data": {
      "text/plain": [
       "Text(0, 0.5, 'f')"
      ]
     },
     "execution_count": 138,
     "metadata": {},
     "output_type": "execute_result"
    },
    {
     "data": {
      "image/png": "[encoded data removed]",
      "text/plain": [
       "<Figure size 640x480 with 1 Axes>"
      ]
     },
     "metadata": {},
     "output_type": "display_data"
    }
   ],
   "source": [
    "import pandas as pd\n",
    "\n",
    "df = pd.read_csv(\"Results/depolarizing-fidelities.csv\",header=None)\n",
    "    \n",
    "    \n",
    "plt.boxplot(df.iloc[:,1:].T,positions= np.array(df.iloc[:,0]).T,\n",
    "            widths=0.03, showcaps =True,\n",
    "           manage_ticks=False,\n",
    "           showfliers =False,patch_artist=True,\n",
    "            boxprops=dict(facecolor=\"peachpuff\", color=\"red\"));\n",
    "plt.ylim([0.5,1])\n",
    "plt.yticks([0.6,0.7,0.8,0.9])\n",
    "# plt.title(\"Depolarizing dynamical map fidelities\")\n",
    "plt.xlabel(\"p\",fontsize=17)\n",
    "plt.ylabel(\"f\",fontsize=17)"
   ]
  },
  {
   "cell_type": "markdown",
   "id": "effe1419",
   "metadata": {},
   "source": [
    "### Parabolic\n",
    "\n",
    "We now do the same for the parabolic map:\n",
    "\n",
    "<br>\n",
    "This map is defined by\n",
    "\n",
    "$$ \\tau_1 = p, \\tau_2 = p, \\tau_3 = p^2$$\n",
    "Con $p \\in [-1,1]$,\n",
    "\n",
    "which means that:\n",
    "$$ k_0 = 1/4(1+p)^2  \\\\\n",
    "k_1 = 1/4(1-p^2) \\\\\n",
    "k_2 = 1/4(1-p^2) \\\\\n",
    "k_3 = 1/4(1-p)^2 $$,\n",
    "\n",
    "so that the maps can be represented in the Kraus representation as:\n",
    "\n",
    "\n",
    "$$ \\varepsilon_p(\\rho) = 1/4(1-p)^2 \\rho + 1/4(1-p^2) X \\rho X + 1/4(1-p^2) Y \\rho Y + 1/4 (1+p)^2 Z \\rho Z$$\n",
    "\n",
    "Therefore, to implement it, we need to create the state $(1/2(1-p) , 1/2\\sqrt{1-p^2}, 1/2 \\sqrt{1-p^2},  1/2(1+p))$ on the ancilla qubits. ancilla. This state can be rewritten as:\n",
    "\n",
    "$(1/2(1+p) , 1/2\\sqrt{1-p^2}, 1/2 \\sqrt{1-p^2},  1/2(1-p)) = (1/2,0,0,1/2) + \\cos s (0,1/2,1/2,0) + \\sin s (-1/2,0,0,1/2)$ \n",
    "\n",
    "$ = (1/2,0,0,1/2) + (i/4,1/4,1/4,-i/4) e^{is} + (-i/4,1/4,1/4,i/4) e^{-is}$ <br> <br>\n",
    "    \n",
    "with $s = arcsin(p)$. <br>\n",
    "\n",
    "Therefore, it can be implemented with only one parametrized rotation with $A$ and $B$ matrices defined as:\n",
    "\n",
    "\n",
    "$$ B = \\begin{pmatrix} \n",
    "0 &          1 & 0           & 0 \\\\\n",
    "1/\\sqrt{2} & 0 & 0           &  -1/\\sqrt{2} \\\\\n",
    "1/2 &        0 & 1/\\sqrt{2} &  1/2 \\\\\n",
    "1/2 &        0 & -1/\\sqrt{2} & 1/2 \n",
    "\\end{pmatrix}$$\n",
    "\n",
    "\n",
    "$$ A = \\begin{pmatrix} \n",
    "0             &  1/\\sqrt{2}    &  -i/2     & i/2 \\\\\n",
    "-1/\\sqrt{2}   & 0             &  1/2     & 1/2 \\\\\n",
    "1/\\sqrt{2}    & 0              &  1/2     & 1/2 \\\\\n",
    "0             & 1/\\sqrt{2}    &  i/2    & -i/2\n",
    "\\end{pmatrix} $$ \n",
    "\n",
    "\n",
    "We will define the function that creates the circuit for any value of $p$"
   ]
  },
  {
   "cell_type": "code",
   "execution_count": 28,
   "id": "76e1e0dc",
   "metadata": {},
   "outputs": [
    {
     "data": {
      "text/html": [
       "<pre style=\"word-wrap: normal;white-space: pre;background: #fff0;line-height: 1.1;font-family: &quot;Courier New&quot;,Courier,monospace\">                                ┌───┐┌───┐   \n",
       "q_0: ───────────────────────────┤ X ├┤ Y ├─■─\n",
       "     ┌────┐               ┌────┐└─┬─┘└─┬─┘ │ \n",
       "q_1: ┤1   ├───────■───────┤1   ├──o────■───■─\n",
       "     │  B │┌──────┴──────┐│  A │  │    │   │ \n",
       "q_2: ┤0   ├┤ Rz(0.82303) ├┤0   ├──■────o───■─\n",
       "     └────┘└─────────────┘└────┘             </pre>"
      ],
      "text/plain": [
       "                                ┌───┐┌───┐   \n",
       "q_0: ───────────────────────────┤ X ├┤ Y ├─■─\n",
       "     ┌────┐               ┌────┐└─┬─┘└─┬─┘ │ \n",
       "q_1: ┤1   ├───────■───────┤1   ├──o────■───■─\n",
       "     │  B │┌──────┴──────┐│  A │  │    │   │ \n",
       "q_2: ┤0   ├┤ Rz(0.82303) ├┤0   ├──■────o───■─\n",
       "     └────┘└─────────────┘└────┘             "
      ]
     },
     "execution_count": 28,
     "metadata": {},
     "output_type": "execute_result"
    }
   ],
   "source": [
    "# Definimos la matriz B y A\n",
    "B = np.array([[0,1,0,0],\n",
    "             [1/2**0.5,0,0,-1/2**0.5],\n",
    "             [1/2,0,1/2**0.5,1/2],\n",
    "             [1/2,0,-1/2**0.5,1/2]])\n",
    "\n",
    "\n",
    "A =np.array([[0,1/2**0.5,-1j/2,1j/2],\n",
    "            [-1/2**0.5,0,1/2,1/2],\n",
    "            [1/2**0.5,0,1/2,1/2],\n",
    "            [0,1/2**0.5,1j/2,-1j/2]])\n",
    "\n",
    "def circ_para(p):\n",
    "    '''Function to create a circuit that implements the parabolic channel\n",
    "       '''\n",
    "    s = np.arcsin(p)\n",
    "    \n",
    "    qreg_q = QuantumRegister(3, 'q')  #3 registros cuánticos\n",
    "    circ = QuantumCircuit(qreg_q)\n",
    "    \n",
    "    circ.unitary(qi.operators.Operator(B),[2,1],label='B')\n",
    "    \n",
    "    circ.crz(2*s,qreg_q[1],qreg_q[2])\n",
    "    \n",
    "    circ.unitary(qi.operators.Operator(A),[2,1],label='A')\n",
    "    \n",
    "    c2y = YGate.control(YGate(),num_ctrl_qubits=2,ctrl_state='01')\n",
    "    c2x = XGate.control(XGate(),num_ctrl_qubits=2,ctrl_state='10')\n",
    "    c2z = ZGate.control(ZGate(),num_ctrl_qubits=2,ctrl_state='11')\n",
    "    circ.append(c2x, [1, 2, 0])\n",
    "    circ.append(c2y, [1, 2, 0])\n",
    "    circ.append(c2z, [1, 2, 0])\n",
    "\n",
    "    return(circ)\n",
    "\n",
    "para = circ_para(0.4)\n",
    "para.draw()"
   ]
  },
  {
   "cell_type": "code",
   "execution_count": 29,
   "id": "55f4726e",
   "metadata": {},
   "outputs": [],
   "source": [
    "def choi_para(p):    \n",
    "    k = qiskit.quantum_info.Kraus([1/2*(1-p)*I,1/2*np.sqrt(1-p**2)*X,\n",
    "                               1/2*np.sqrt(1-p**2)*Y,1/2*(1+p)*Z])\n",
    "    mat_choi = np.array(qtrans._kraus_to_choi([k.data,None]))\n",
    "    \n",
    "    return(Choi(mat_choi))\n"
   ]
  },
  {
   "cell_type": "code",
   "execution_count": 30,
   "id": "6a139040",
   "metadata": {},
   "outputs": [
    {
     "name": "stdout",
     "output_type": "stream",
     "text": [
      "Amount of channels:  25\n"
     ]
    }
   ],
   "source": [
    "# We will do it for 25 values of p from -1 to 1\n",
    "points = np.linspace(-1,1,25)\n",
    "print(\"Amount of channels: \", len(points))\n",
    "points\n",
    "\n",
    "circuits= []\n",
    "for p in points:\n",
    "    circuits.append(circ_para(p))\n"
   ]
  },
  {
   "cell_type": "code",
   "execution_count": 31,
   "id": "d176cec8",
   "metadata": {},
   "outputs": [
    {
     "name": "stderr",
     "output_type": "stream",
     "text": [
      "ibmqfactory.load_account:WARNING:2023-09-17 17:00:44,280: Credentials are already in use. The existing account in the session will be replaced.\n"
     ]
    }
   ],
   "source": [
    "\n",
    "from qiskit import IBMQ\n",
    "provider = IBMQ.load_account()\n",
    "provider = IBMQ.get_provider('ibm-q')"
   ]
  },
  {
   "cell_type": "code",
   "execution_count": null,
   "id": "e1f48a9b",
   "metadata": {},
   "outputs": [],
   "source": [
    "# backend = Aer.get_backend('aer_simulator')\n",
    "backend = provider.get_backend('ibmq_lima')\n",
    "\n",
    "with open(\"Results/parabolic-fidelities.csv\",\"w\") as f:\n",
    "    \n",
    "    for i in range(len(points)):\n",
    "        print(i)\n",
    "        p = points[i]\n",
    "        \n",
    "        circ = circuits[i]\n",
    "        res = []\n",
    "        \n",
    "        f.write(\"\\n\" + str(p))\n",
    "    #We take 20 repetitions for each value of p\n",
    "        for j in range(20):\n",
    "            qpt = ProcessTomography(circ,backend,measurement_indices=[0],\n",
    "                            preparation_indices=[0])\n",
    "            \n",
    "            qpt.set_run_options(shots=20000)\n",
    "            \n",
    "            qpt_run = qpt.run()\n",
    "            qptdata = qpt_run.block_for_results()\n",
    "            \n",
    "            choi_simu = qptdata.analysis_results(\"state\").value\n",
    "            choi_theo = choi_para(p)\n",
    "\n",
    "            dis =qi.diamond_norm(qi.Choi(choi_simu)-choi_theo)\n",
    "            \n",
    "            res.append(1-0.5*dis) \n",
    "\n",
    "            f.write(','+ str(1-0.5*dis))\n",
    "\n",
    "    \n"
   ]
  },
  {
   "cell_type": "code",
   "execution_count": 9,
   "id": "405de2df",
   "metadata": {},
   "outputs": [],
   "source": [
    "with open(\"Results/parabolic-fidelities.csv\",\"w\") as f:\n",
    "    f.write(\"p,fid\")\n",
    "    \n",
    "    for i in range(len(points)):\n",
    "        f.write(\"\\n\" + str(points[i]) + \",\" + str(fidelities[i]))\n",
    "        "
   ]
  },
  {
   "cell_type": "code",
   "execution_count": 136,
   "id": "842b4b53",
   "metadata": {},
   "outputs": [
    {
     "data": {
      "text/plain": [
       "Text(0, 0.5, 'f')"
      ]
     },
     "execution_count": 136,
     "metadata": {},
     "output_type": "execute_result"
    },
    {
     "data": {
      "image/png": "[encoded data removed]",
      "text/plain": [
       "<Figure size 640x480 with 1 Axes>"
      ]
     },
     "metadata": {},
     "output_type": "display_data"
    }
   ],
   "source": [
    "import pandas as pd\n",
    "\n",
    "df = pd.read_csv(\"Results/parabolic-fidelities.csv\",header=None)\n",
    "    \n",
    "    \n",
    "plt.boxplot(df.iloc[:,1:].T,positions= np.array(df.iloc[:,0]).T,\n",
    "            widths=0.06, showcaps =True,\n",
    "           manage_ticks=False,\n",
    "           showfliers =False,\n",
    "           patch_artist=True,\n",
    "            boxprops=dict(facecolor=\"chartreuse\", color=\"green\")\n",
    "           \n",
    "           );\n",
    "plt.ylim([0.4,1])\n",
    "plt.yticks([0.5,0.6,0.7,0.8,0.9])\n",
    "# plt.title(\"Parabolic dynamical map fidelities\")\n",
    "plt.xlabel(\"p\",fontsize=17)\n",
    "plt.ylabel(\"f\",fontsize=17)"
   ]
  },
  {
   "cell_type": "markdown",
   "id": "b115df99",
   "metadata": {},
   "source": [
    "## Bit Flip\n",
    "\n",
    "The bit flip dynamical map is defined by:\n",
    "\n",
    "$$ \\epsilon(\\rho) = (1-p) \\rho + p \\sigma_3 \\rho \\sigma_3 $$\n",
    "\n",
    "As seen in the text, to implement this map, we need to create the state $|\\beta(p)\\rangle = \\sqrt{1-p} |0\\rangle + \\sqrt{p} |1\\rangle on the ancilla qubits (in this case one qubit is enough).\n",
    "\n",
    "This state we want to create can be rewritten as:\n",
    "\n",
    "$ |\\beta(p) \\rangle = e^{is} \\left( \\dfrac{1}{2} |0\\rangle + \\dfrac{-i}{2} |1\\rangle \\right)+ e^{-is} \\left( \\dfrac{1}{2} |0\\rangle + \\dfrac{i}{2} |1\\rangle \\right)\n",
    " = |c \\rangle + |a\\rangle e^{is} + |b\\rangle e^{-is}$,\n",
    "\n",
    "so that $|c\\rangle= 0$, $|a\\rangle = \\dfrac{1}{2} |0\\rangle + \\dfrac{-i}{2} |1\\rangle $ and $|b\\rangle =\\dfrac{1}{2} |0\\rangle + \\dfrac{i}{2} |1\\rangle $,\n",
    "\n",
    "with $\\sin s = \\sqrt{p}$. Therefore, the matrices $A$ and $B$ described in the article can be taken to be:\n",
    "\n",
    "$ B = \\begin{pmatrix}\n",
    "0 & 0 & 0 & 1 \\\\\n",
    "0 & 0 & 1 & 0 \\\\\n",
    "1/\\sqrt{2} & -1/\\sqrt{2} & 0 & 0 \\\\\n",
    "1/\\sqrt{2} & 1/\\sqrt{2} & 0 & 0\n",
    "\\end{pmatrix}$\n",
    "\n",
    "\n",
    "$ A = \\begin{pmatrix}\n",
    "0 & 0 & 1/\\sqrt{2} & 1/\\sqrt{2} \\\\\n",
    "0 & 0 & i/\\sqrt{2} & -i/\\sqrt{2} \\\\\n",
    "1/\\sqrt{2} & 1/\\sqrt{2} & 0 & 0 \\\\\n",
    "1/\\sqrt{2} & -1/\\sqrt{2} & 0 & 0  \\\\\n",
    "\\end{pmatrix}$\n",
    "\n",
    "\n",
    "\n",
    "\n"
   ]
  },
  {
   "cell_type": "code",
   "execution_count": 43,
   "id": "c274e14b",
   "metadata": {},
   "outputs": [
    {
     "data": {
      "text/html": [
       "<pre style=\"word-wrap: normal;white-space: pre;background: #fff0;line-height: 1.1;font-family: &quot;Courier New&quot;,Courier,monospace\">                               ┌───┐┌───┐   \n",
       "q_0: ──────────────────────────┤ X ├┤ Y ├─■─\n",
       "     ┌────┐              ┌────┐└─┬─┘└─┬─┘ │ \n",
       "q_1: ┤1   ├──────■───────┤1   ├──o────■───■─\n",
       "     │  B │┌─────┴──────┐│  A │  │    │   │ \n",
       "q_2: ┤0   ├┤ Rz(1.3694) ├┤0   ├──■────o───■─\n",
       "     └────┘└────────────┘└────┘             </pre>"
      ],
      "text/plain": [
       "                               ┌───┐┌───┐   \n",
       "q_0: ──────────────────────────┤ X ├┤ Y ├─■─\n",
       "     ┌────┐              ┌────┐└─┬─┘└─┬─┘ │ \n",
       "q_1: ┤1   ├──────■───────┤1   ├──o────■───■─\n",
       "     │  B │┌─────┴──────┐│  A │  │    │   │ \n",
       "q_2: ┤0   ├┤ Rz(1.3694) ├┤0   ├──■────o───■─\n",
       "     └────┘└────────────┘└────┘             "
      ]
     },
     "execution_count": 43,
     "metadata": {},
     "output_type": "execute_result"
    }
   ],
   "source": [
    "B = np.array([[0,0,0,1],\n",
    "             [0,0,1,0],\n",
    "            [1/2**0.5,-1/2**0.5,0,0],\n",
    "              [1/2**0.5,1/2**0.5,0,0]])\n",
    "\n",
    "A = np.array([[0,0,1/2**0.5,1/2**0.5],\n",
    "              [0,0,1j/2**0.5,-1j/2**0.5],\n",
    "              [1/2**0.5,1/2**0.5,0,0],\n",
    "              [1/2**0.5,-1/2**0.5,0,0]])\n",
    "\n",
    "\n",
    "\n",
    "\n",
    "def circ_flip(p):\n",
    "    '''Function that creates a circuit for depolarizing channel.\n",
    "    Args:\n",
    "        p: Value for the depolarizing.\n",
    "        \n",
    "    Returns:\n",
    "        A circuit that applies depolarizing with value $p$ to qubit 0.\n",
    "    '''\n",
    "    \n",
    "    s = np.arcsin(np.sqrt(p))\n",
    "    \n",
    "    qreg_q = QuantumRegister(3, 'q')  \n",
    "    circ = QuantumCircuit(3)\n",
    "\n",
    "    circ.unitary(qi.operators.Operator(B),[2,1],label='B')\n",
    "    \n",
    "    circ.crz(2*s,qreg_q[1],qreg_q[2])\n",
    "    \n",
    "    circ.unitary(qi.operators.Operator(A),[2,1],label='A')\n",
    "    \n",
    "    c2y = YGate.control(YGate(),num_ctrl_qubits=2,ctrl_state='01')\n",
    "    c2x = XGate.control(XGate(),num_ctrl_qubits=2,ctrl_state='10')\n",
    "    c2z = ZGate.control(ZGate(),num_ctrl_qubits=2,ctrl_state='11')\n",
    "    circ.append(c2x, [1, 2, 0])\n",
    "    circ.append(c2y, [1, 2, 0])\n",
    "    circ.append(c2z, [1, 2, 0])\n",
    "\n",
    "    return(circ)\n",
    "\n",
    "flip = circ_flip(0.4)\n",
    "flip.draw()\n"
   ]
  },
  {
   "cell_type": "code",
   "execution_count": 44,
   "id": "cf383061",
   "metadata": {},
   "outputs": [],
   "source": [
    "import qiskit.quantum_info.operators.channel.transformations as qtrans\n",
    "def choi_flip(p):    \n",
    "    k = qiskit.quantum_info.Kraus([np.sqrt(1-p)*I,np.sqrt(p)*X])\n",
    "    mat_choi = np.array(qtrans._kraus_to_choi([k.data,None]))\n",
    "    \n",
    "    return(Choi(mat_choi))\n",
    "\n"
   ]
  },
  {
   "cell_type": "code",
   "execution_count": 45,
   "id": "4021165d",
   "metadata": {},
   "outputs": [
    {
     "name": "stderr",
     "output_type": "stream",
     "text": [
      "ibmqfactory.load_account:WARNING:2023-09-17 17:52:41,501: Credentials are already in use. The existing account in the session will be replaced.\n"
     ]
    },
    {
     "name": "stdout",
     "output_type": "stream",
     "text": [
      "Amount of channels:  25\n"
     ]
    },
    {
     "data": {
      "text/plain": [
       "array([0.        , 0.04166667, 0.08333333, 0.125     , 0.16666667,\n",
       "       0.20833333, 0.25      , 0.29166667, 0.33333333, 0.375     ,\n",
       "       0.41666667, 0.45833333, 0.5       , 0.54166667, 0.58333333,\n",
       "       0.625     , 0.66666667, 0.70833333, 0.75      , 0.79166667,\n",
       "       0.83333333, 0.875     , 0.91666667, 0.95833333, 1.        ])"
      ]
     },
     "execution_count": 45,
     "metadata": {},
     "output_type": "execute_result"
    }
   ],
   "source": [
    "from qiskit import IBMQ\n",
    "provider = IBMQ.load_account()\n",
    "provider = IBMQ.get_provider('ibm-q')\n",
    "\n",
    "# We will do it for 25 values of p from 0 to 1\n",
    "points = np.linspace(0,1,25)\n",
    "print(\"Amount of channels: \", len(points))\n",
    "points\n",
    "\n",
    "\n"
   ]
  },
  {
   "cell_type": "code",
   "execution_count": 46,
   "id": "571bb393",
   "metadata": {},
   "outputs": [],
   "source": [
    "# We create the circuits for these points.\n",
    "circuits= []\n",
    "for p in points:\n",
    "    circuits.append(circ_flip(p))\n"
   ]
  },
  {
   "cell_type": "code",
   "execution_count": null,
   "id": "ab25535d",
   "metadata": {},
   "outputs": [],
   "source": [
    "# backend = Aer.get_backend('aer_simulator')\n",
    "backend = provider.get_backend('ibmq_lima')\n",
    "\n",
    "with open(\"Results/bit-flip-fidelities.csv\",\"w\") as f:\n",
    "    f.write(\"p,fid\")\n",
    "    \n",
    "    for i in range(len(points)):\n",
    "        print(i)\n",
    "        p = points[i]\n",
    "        \n",
    "        circ = circuits[i]\n",
    "        res = []\n",
    "        \n",
    "        f.write(\"\\n\" + str(p))\n",
    "    #We take 20 repetitions for each value of p\n",
    "        for j in range(20):\n",
    "            qpt = ProcessTomography(circ,backend,measurement_indices=[0],\n",
    "                            preparation_indices=[0])\n",
    "            \n",
    "            qpt.set_run_options(shots=20000)\n",
    "            \n",
    "            qpt_run = qpt.run()\n",
    "            qptdata = qpt_run.block_for_results()\n",
    "            \n",
    "            choi_simu = qptdata.analysis_results(\"state\").value\n",
    "            choi_theo = choi_flip(p)\n",
    "\n",
    "            dis =qi.diamond_norm(qi.Choi(choi_simu)-choi_theo)\n",
    "            \n",
    "            res.append(1-0.5*dis) \n",
    "\n",
    "            f.write(','+ str(1-0.5*dis))\n",
    "\n",
    "    \n"
   ]
  },
  {
   "cell_type": "code",
   "execution_count": 135,
   "id": "1e8683da",
   "metadata": {},
   "outputs": [
    {
     "data": {
      "text/plain": [
       "Text(0, 0.5, 'f')"
      ]
     },
     "execution_count": 135,
     "metadata": {},
     "output_type": "execute_result"
    },
    {
     "data": {
      "image/png": "[encoded data removed]",
      "text/plain": [
       "<Figure size 640x480 with 1 Axes>"
      ]
     },
     "metadata": {},
     "output_type": "display_data"
    }
   ],
   "source": [
    "import pandas as pd\n",
    "\n",
    "\n",
    "\n",
    "df = pd.read_csv(\"Results/bit-flip-fidelities.csv\",header=None)\n",
    "\n",
    "\n",
    "plt.boxplot(df.iloc[:,1:].T,positions= np.array(df.iloc[:,0]).T,\n",
    "            widths=0.03, showcaps =True,\n",
    "           manage_ticks=False,\n",
    "           showfliers =False,patch_artist=True,\n",
    "            boxprops=dict(facecolor=\"lightsteelblue\", color=\"blue\"));\n",
    "\n",
    "\n",
    "plt.ylim([0.5,1])\n",
    "plt.yticks([0.5,0.6,0.7,0.8,0.9])\n",
    "# plt.title(\"Bit flip dynamical map fidelities\")\n",
    "plt.xlabel(\"p\",fontsize=17)\n",
    "plt.ylabel(\"f\",fontsize=17)"
   ]
  },
  {
   "cell_type": "code",
   "execution_count": 134,
   "id": "3e7185e2",
   "metadata": {},
   "outputs": [
    {
     "data": {
      "text/plain": [
       "Text(0, 0.5, 'f')"
      ]
     },
     "execution_count": 134,
     "metadata": {},
     "output_type": "execute_result"
    },
    {
     "data": {
      "image/png": "[encoded data removed]",
      "text/plain": [
       "<Figure size 640x480 with 1 Axes>"
      ]
     },
     "metadata": {},
     "output_type": "display_data"
    }
   ],
   "source": [
    "df1 = pd.read_csv(\"Results/bit-flip-fidelities.csv\",header=None)\n",
    "df2 = pd.read_csv(\"Results/depolarizing-fidelities.csv\",header=None)\n",
    "df3 = pd.read_csv(\"Results/parabolic-fidelities.csv\",header=None)\n",
    "\n",
    "\n",
    "plt.boxplot(df1.iloc[:,1:].T,positions= np.array(df1.iloc[:,0]).T,\n",
    "            widths=0.03, showcaps =True,\n",
    "           manage_ticks=False,\n",
    "           showfliers =False,patch_artist=True,\n",
    "            boxprops=dict(facecolor=\"lightsteelblue\", color=\"blue\"));\n",
    "\n",
    "plt.boxplot(df2.iloc[:,1:].T,positions= np.array(df2.iloc[:,0]).T,\n",
    "            widths=0.03, showcaps =True,\n",
    "           manage_ticks=False,\n",
    "           showfliers =False,patch_artist=True,\n",
    "            boxprops=dict(facecolor=\"chartreuse\", color=\"green\"));\n",
    "\n",
    "plt.boxplot(df3.iloc[:,1:].T,positions= np.array(df2.iloc[:,0]).T,\n",
    "            widths=0.03, showcaps =True,\n",
    "           manage_ticks=False,\n",
    "           showfliers =False,patch_artist=True,\n",
    "            boxprops=dict(facecolor=\"peachpuff\", color=\"red\"));\n",
    "\n",
    "from matplotlib.lines import Line2D\n",
    "\n",
    "custom_lines = [Line2D([0], [0], color=\"lightsteelblue\", lw=4),\n",
    "                Line2D([0], [0], color=\"chartreuse\", lw=4),\n",
    "                Line2D([0], [0], color=\"peachpuff\", lw=4)]\n",
    "\n",
    "\n",
    "plt.legend(custom_lines, ['Bit Flip', 'Depolarizing', 'Parabolic'])\n",
    "\n",
    "plt.ylim([0.45,1])\n",
    "plt.yticks([0.5,0.6,0.7,0.8,0.9])\n",
    "plt.title(\"Dynamical map fidelities\")\n",
    "plt.xlabel(\"p\",fontsize=17)\n",
    "plt.ylabel(\"f\",fontsize=17)"
   ]
  },
  {
   "cell_type": "code",
   "execution_count": null,
   "id": "9ab3576f",
   "metadata": {},
   "outputs": [],
   "source": []
  }
 ],
 "metadata": {
  "kernelspec": {
   "display_name": "Python 3 (ipykernel)",
   "language": "python",
   "name": "python3"
  },
  "language_info": {
   "codemirror_mode": {
    "name": "ipython",
    "version": 3
   },
   "file_extension": ".py",
   "mimetype": "text/x-python",
   "name": "python",
   "nbconvert_exporter": "python",
   "pygments_lexer": "ipython3",
   "version": "3.10.11"
  }
 },
 "nbformat": 4,
 "nbformat_minor": 5
}
