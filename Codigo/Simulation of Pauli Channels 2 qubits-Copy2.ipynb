{
 "cells": [
  {
   "cell_type": "code",
   "execution_count": 2,
   "id": "e10c7682",
   "metadata": {},
   "outputs": [],
   "source": [
    "import numpy as np\n",
    "import matplotlib.pyplot as plt\n",
    "import itertools\n",
    "import csv\n",
    "\n",
    "import qiskit\n",
    "from qiskit_experiments import library\n",
    "import qiskit.quantum_info as qi\n",
    "from qiskit.circuit.library import XGate, YGate, ZGate, U1Gate\n",
    "from qiskit.quantum_info import Choi, Kraus\n",
    "#import qiskit.aqua.utils as utils\n",
    "from qiskit.tools.monitor import job_monitor\n",
    "from qiskit import QuantumCircuit, QuantumRegister,execute, Aer\n",
    "import qiskit.quantum_info.operators.channel.transformations as qtrans\n",
    "from qiskit_aer import AerSimulator\n",
    "\n",
    "from qiskit.ignis.verification.tomography import state_tomography_circuits, StateTomographyFitter\n",
    "from qiskit.ignis.verification.tomography import process_tomography_circuits, ProcessTomographyFitter\n",
    "from qiskit.ignis.verification.tomography import gateset_tomography_circuits, GatesetTomographyFitter\n",
    "import qiskit.ignis.mitigation.measurement as mc\n",
    "#Pauli matrices:\n",
    "I = np.array([[1,0],[0,1]])\n",
    "X = np.array([[0,1],[1,0]])\n",
    "Y = np.array([[0,-1j],[1j,0]])\n",
    "Z = np.array([[1,0],[0,-1]])\n"
   ]
  },
  {
   "cell_type": "markdown",
   "id": "e3edaf94",
   "metadata": {},
   "source": [
    "# 2 Qubit-channel\n",
    "\n",
    "Now we will use the algorithm to simulate a 2-qubit quantum channel. In particular, the channel we will simulate is \n",
    "\n",
    "$$ \\varepsilon(\\rho) = k_0 \\rho + k_1 (\\sigma_3 \\otimes I) \\rho (\\sigma_3 \\otimes I) + k_2 (I \\otimes \\sigma_3) \\rho (I \\otimes \\sigma_3) . $$\n",
    "\n",
    "with $k_0 + k_1 + k_2 = 1$. To simulate this particular channel, we will need the two principal qubits and two ancilla qubits (to create the probabilities $k_0, k_1, k_2$. \n"
   ]
  },
  {
   "cell_type": "code",
   "execution_count": 32,
   "id": "3de76cdc",
   "metadata": {},
   "outputs": [
    {
     "data": {
      "text/html": [
       "<pre style=\"word-wrap: normal;white-space: pre;background: #fff0;line-height: 1.1;font-family: &quot;Courier New&quot;,Courier,monospace\">                                            ┌───┐     \n",
       "q_0: ──────────────────────────────────■────┤ X ├─────\n",
       "                                       │    └─┬─┘┌───┐\n",
       "q_1: ──────────────────────────────────┼──■───┼──┤ X ├\n",
       "       ┌─────────┐                     │  │   │  └─┬─┘\n",
       "q_2: ──┤ Ry(π/2) ├────■────────────────■──■───o────o──\n",
       "     ┌─┴─────────┴──┐ │ ┌────────────┐ │  │   │    │  \n",
       "q_3: ┤ Ry(-0.42243) ├─■─┤ Ry(1.3497) ├─o──o───■────■──\n",
       "     └──────────────┘   └────────────┘                </pre>"
      ],
      "text/plain": [
       "                                            ┌───┐     \n",
       "q_0: ──────────────────────────────────■────┤ X ├─────\n",
       "                                       │    └─┬─┘┌───┐\n",
       "q_1: ──────────────────────────────────┼──■───┼──┤ X ├\n",
       "       ┌─────────┐                     │  │   │  └─┬─┘\n",
       "q_2: ──┤ Ry(π/2) ├────■────────────────■──■───o────o──\n",
       "     ┌─┴─────────┴──┐ │ ┌────────────┐ │  │   │    │  \n",
       "q_3: ┤ Ry(-0.42243) ├─■─┤ Ry(1.3497) ├─o──o───■────■──\n",
       "     └──────────────┘   └────────────┘                "
      ]
     },
     "execution_count": 32,
     "metadata": {},
     "output_type": "execute_result"
    }
   ],
   "source": [
    "\"\"\"Function to create the circuit given the values of k:\"\"\"\n",
    "\n",
    "def ks_to_circuit(ks):\n",
    "    k0,k1,k2,k3 = ks\n",
    "    \n",
    "    #We calculate the angles theta0, theta1, theta2.\n",
    "    theta0 = np.angle(np.sqrt(k0)+1j*np.sqrt(k1)) - np.angle(np.sqrt(k2)+1j*np.sqrt(k3))\n",
    "    theta1 = 2*np.arccos(np.sqrt(k0+k1))\n",
    "    theta2 = np.angle(np.sqrt(k0)+1j*np.sqrt(k1)) + np.angle(np.sqrt(k2)+1j*np.sqrt(k3))\n",
    "    \n",
    "    # We create the circuit with 3 qubits.\n",
    "    qreg_q = QuantumRegister(4, 'q') \n",
    "    circ = QuantumCircuit(qreg_q)\n",
    "    \n",
    "    #Add the quantum gates to create the ancilla qubit state.\n",
    "    circ.ry(theta1,2)\n",
    "    circ.ry(theta0,3)\n",
    "    circ.cz(2,3)\n",
    "    circ.ry(theta2,3)\n",
    "    \n",
    "    #Add the controlled gates.\n",
    "    cz = ZGate.control(ZGate(),num_ctrl_qubits=2,ctrl_state='01')\n",
    "    cx = XGate.control(XGate(),num_ctrl_qubits=2,ctrl_state='10')\n",
    "    cy = YGate.control(YGate(),num_ctrl_qubits=2,ctrl_state='11')\n",
    "\n",
    "    #     czi = ZGate.control(ZGate(),num_ctrl_qubits=2,ctrl_state='10')\n",
    "    \n",
    "    \n",
    "    \n",
    "    \n",
    "    circ.append(cz, [ 2,3, 0])\n",
    "    circ.append(cz, [ 2,3, 1])\n",
    "    circ.append(cx, [ 2,3, 0])\n",
    "    circ.append(cx, [ 2,3, 1])\n",
    "#     circ.append(cy, [ 2,3, 0])\n",
    "#     circ.append(cy, [ 2,3, 1])\n",
    "\n",
    "    #     circ.append(czi, [2,3, 1])\n",
    "\n",
    "    return(circ)\n",
    "\n",
    "circ = ks_to_circuit([0.4,0.1,0.2,0.3])\n",
    "circ.draw()"
   ]
  },
  {
   "cell_type": "markdown",
   "id": "8cd76ac4",
   "metadata": {},
   "source": [
    "Create many instances of the channel for different values of $p_0,p_1,p_2$:"
   ]
  },
  {
   "cell_type": "code",
   "execution_count": 38,
   "id": "64b3788e",
   "metadata": {
    "scrolled": true
   },
   "outputs": [
    {
     "data": {
      "text/plain": [
       "[array([1., 0., 0., 0.]),\n",
       " array([0.8, 0.1, 0.1, 0. ]),\n",
       " array([0.6, 0.2, 0.2, 0. ]),\n",
       " array([0.4, 0.3, 0.3, 0. ]),\n",
       " array([0.2, 0.4, 0.4, 0. ])]"
      ]
     },
     "execution_count": 38,
     "metadata": {},
     "output_type": "execute_result"
    }
   ],
   "source": [
    "points = []\n",
    "for k in np.arange(0,1.5,0.3):\n",
    "    points.append(np.around([1-2*k/3,k/3,k/3,0],2))\n",
    "points\n"
   ]
  },
  {
   "cell_type": "code",
   "execution_count": 39,
   "id": "ca3d9447",
   "metadata": {},
   "outputs": [
    {
     "data": {
      "text/html": [
       "<pre style=\"word-wrap: normal;white-space: pre;background: #fff0;line-height: 1.1;font-family: &quot;Courier New&quot;,Courier,monospace\">                                       ┌───┐     \n",
       "q_0: ─────────────────────────────■────┤ X ├─────\n",
       "                                  │    └─┬─┘┌───┐\n",
       "q_1: ─────────────────────────────┼──■───┼──┤ X ├\n",
       "     ┌────────────┐               │  │   │  └─┬─┘\n",
       "q_2: ┤ Ry(0.9273) ├─■─────────────■──■───o────o──\n",
       "     └┬─────────┬─┘ │ ┌─────────┐ │  │   │    │  \n",
       "q_3: ─┤ Ry(π/6) ├───■─┤ Ry(π/6) ├─o──o───■────■──\n",
       "      └─────────┘     └─────────┘                </pre>"
      ],
      "text/plain": [
       "                                       ┌───┐     \n",
       "q_0: ─────────────────────────────■────┤ X ├─────\n",
       "                                  │    └─┬─┘┌───┐\n",
       "q_1: ─────────────────────────────┼──■───┼──┤ X ├\n",
       "     ┌────────────┐               │  │   │  └─┬─┘\n",
       "q_2: ┤ Ry(0.9273) ├─■─────────────■──■───o────o──\n",
       "     └┬─────────┬─┘ │ ┌─────────┐ │  │   │    │  \n",
       "q_3: ─┤ Ry(π/6) ├───■─┤ Ry(π/6) ├─o──o───■────■──\n",
       "      └─────────┘     └─────────┘                "
      ]
     },
     "execution_count": 39,
     "metadata": {},
     "output_type": "execute_result"
    }
   ],
   "source": [
    "\n",
    "circuits = []\n",
    "for k in points:\n",
    "    circuits.append(ks_to_circuit(k))\n",
    "\n",
    "circuits[2].draw()\n"
   ]
  },
  {
   "cell_type": "markdown",
   "id": "6a6cb6b0",
   "metadata": {},
   "source": [
    "### Run Quantum Process tomography"
   ]
  },
  {
   "cell_type": "code",
   "execution_count": 40,
   "id": "92a4ccde",
   "metadata": {},
   "outputs": [],
   "source": [
    "def choi_theoretical(ks):\n",
    "    '''For some values of taus describing a Pauli channel, this function\n",
    "    returns the choi matrix of said channel.\n",
    "    \n",
    "    Args:\n",
    "        taus (list): The list of taus [tau1,tau2,tau3] that defines a Pauli channel.\n",
    "    \n",
    "    Returns:\n",
    "        mat_choi (qi.choi): The choi matrix of the channel.\n",
    "    '''\n",
    "    \n",
    "    \n",
    "    #First we convert the taus to the ks that describe the channel.\n",
    "    k0,k1,k2,k3 = ks\n",
    "    \n",
    "    #We can write the Kraus representation of the channel, using that the \n",
    "    # Kraus operators are \\sqrt{k_i} \\sigma_i with \\sigma_i the ith Pauli matrix.\n",
    "    \n",
    "    k = Kraus([np.sqrt(k0)*np.kron(I,I),np.sqrt(k1)*np.kron(Z,Z),\n",
    "              np.sqrt(k2)*np.kron(X,X),np.sqrt(k3)*np.kron(Y,Y)])\n",
    "    \n",
    "    #We convert the Kraus repre,,np.sqrt(k1)*np.kron(X,X)sentation to the choi representation of the channel.\n",
    "    mat_choi = np.array(qtrans._kraus_to_choi([k.data,None]))\n",
    "    \n",
    "    return(qi.Choi(mat_choi))\n",
    "\n"
   ]
  },
  {
   "cell_type": "code",
   "execution_count": 41,
   "id": "9f465607",
   "metadata": {},
   "outputs": [],
   "source": [
    "from qiskit_experiments.library import ProcessTomography\n",
    "import qiskit\n",
    "from qiskit_aer import AerSimulator\n",
    "from qiskit.providers.fake_provider import FakeLima"
   ]
  },
  {
   "cell_type": "code",
   "execution_count": 42,
   "id": "37a7b55b",
   "metadata": {},
   "outputs": [],
   "source": [
    "from qiskit.providers.fake_provider import FakeManila"
   ]
  },
  {
   "cell_type": "code",
   "execution_count": 43,
   "id": "d250ca2a",
   "metadata": {},
   "outputs": [
    {
     "data": {
      "text/html": [
       "<pre style=\"word-wrap: normal;white-space: pre;background: #fff0;line-height: 1.1;font-family: &quot;Courier New&quot;,Courier,monospace\">                                            ┌───┐     \n",
       "q_0: ──────────────────────────────────■────┤ X ├─────\n",
       "                                       │    └─┬─┘┌───┐\n",
       "q_1: ──────────────────────────────────┼──■───┼──┤ X ├\n",
       "      ┌────────────┐                   │  │   │  └─┬─┘\n",
       "q_2: ─┤ Ry(0.6435) ├─■─────────────────■──■───o────o──\n",
       "     ┌┴────────────┤ │ ┌─────────────┐ │  │   │    │  \n",
       "q_3: ┤ Ry(0.33984) ├─■─┤ Ry(0.33984) ├─o──o───■────■──\n",
       "     └─────────────┘   └─────────────┘                </pre>"
      ],
      "text/plain": [
       "                                            ┌───┐     \n",
       "q_0: ──────────────────────────────────■────┤ X ├─────\n",
       "                                       │    └─┬─┘┌───┐\n",
       "q_1: ──────────────────────────────────┼──■───┼──┤ X ├\n",
       "      ┌────────────┐                   │  │   │  └─┬─┘\n",
       "q_2: ─┤ Ry(0.6435) ├─■─────────────────■──■───o────o──\n",
       "     ┌┴────────────┤ │ ┌─────────────┐ │  │   │    │  \n",
       "q_3: ┤ Ry(0.33984) ├─■─┤ Ry(0.33984) ├─o──o───■────■──\n",
       "     └─────────────┘   └─────────────┘                "
      ]
     },
     "execution_count": 43,
     "metadata": {},
     "output_type": "execute_result"
    }
   ],
   "source": [
    "circuits[1].draw()"
   ]
  },
  {
   "cell_type": "code",
   "execution_count": 45,
   "id": "f62b5cb5",
   "metadata": {},
   "outputs": [
    {
     "name": "stdout",
     "output_type": "stream",
     "text": [
      "0\n",
      "0.3327946663412462\n",
      "1\n",
      "0.35893172573300547\n",
      "2\n",
      "0.43334497495575963\n",
      "3\n",
      "0.4483228971172485\n",
      "4\n",
      "0.4066901125285547\n"
     ]
    }
   ],
   "source": [
    "backend = AerSimulator.from_backend(FakeManila())\n",
    "# backend = Aer.get_backend('aer_simulator')\n",
    "\n",
    "fidelities = []\n",
    "for i in range(len(points)):\n",
    "    print(i)\n",
    "    point = points[i]\n",
    "    circ = circuits[i]\n",
    "    \n",
    "    \n",
    "    qpt = ProcessTomography(circ,backend,measurement_indices=[0,1],\n",
    "                            preparation_indices=[0,1])\n",
    "    qpt.set_run_options(shots=20000)\n",
    "    \n",
    "    qpt_run = qpt.run()\n",
    "    qptdata = qpt_run.block_for_results()\n",
    "    \n",
    "    \n",
    "    \n",
    "    choi_simu = qptdata.analysis_results(\"state\").value\n",
    "    choi_theo = choi_theoretical(point)\n",
    "    \n",
    "    dis =qi.diamond_norm(qi.Choi(choi_simu)-choi_theo)\n",
    "    fidelities.append(1-0.5*dis)\n",
    "    print(1-0.5*dis)\n",
    "    "
   ]
  },
  {
   "cell_type": "code",
   "execution_count": 11,
   "id": "0cd04464",
   "metadata": {},
   "outputs": [
    {
     "data": {
      "text/plain": [
       "0.9831039812929737"
      ]
     },
     "execution_count": 11,
     "metadata": {},
     "output_type": "execute_result"
    }
   ],
   "source": [
    "fidelities[0]"
   ]
  },
  {
   "cell_type": "code",
   "execution_count": null,
   "id": "fe4dd9fd",
   "metadata": {},
   "outputs": [],
   "source": []
  },
  {
   "cell_type": "code",
   "execution_count": 29,
   "id": "c70393ad",
   "metadata": {},
   "outputs": [],
   "source": [
    "with open(\"pruebas/Resultados/fidelity-2qbit-xxyyzz.csv\",\"w\") as f:\n",
    "    f.write(\"p,fid\")\n",
    "    \n",
    "    for i in range(len(points)):\n",
    "        f.write(\"\\n\" + str(points[i]) + \",\" + str(fidelities[i]))\n",
    "        "
   ]
  },
  {
   "cell_type": "code",
   "execution_count": 30,
   "id": "f7fd0c2a",
   "metadata": {
    "scrolled": true
   },
   "outputs": [],
   "source": [
    "fidelities =[]\n",
    "\n",
    "import csv\n",
    "import pandas as pd\n",
    "\n",
    "\n",
    "data = pd.read_csv(\"pruebas/Resultados/fidelity-2qbit-xxyyzz.csv\")\n",
    "\n",
    "        \n",
    "fidelities = data['fid']\n",
    "fidelities = np.array(fidelities)"
   ]
  },
  {
   "cell_type": "code",
   "execution_count": 46,
   "id": "2a900f1e",
   "metadata": {},
   "outputs": [
    {
     "data": {
      "text/plain": [
       "[<matplotlib.lines.Line2D at 0x26eafbb64d0>]"
      ]
     },
     "execution_count": 46,
     "metadata": {},
     "output_type": "execute_result"
    },
    {
     "data": {
      "image/png": "[encoded data removed]",
      "text/plain": [
       "<Figure size 640x480 with 1 Axes>"
      ]
     },
     "metadata": {},
     "output_type": "display_data"
    }
   ],
   "source": [
    "plt.plot(fidelities)"
   ]
  },
  {
   "cell_type": "code",
   "execution_count": null,
   "id": "8dc0899f",
   "metadata": {},
   "outputs": [],
   "source": []
  }
 ],
 "metadata": {
  "kernelspec": {
   "display_name": "Python 3 (ipykernel)",
   "language": "python",
   "name": "python3"
  },
  "language_info": {
   "codemirror_mode": {
    "name": "ipython",
    "version": 3
   },
   "file_extension": ".py",
   "mimetype": "text/x-python",
   "name": "python",
   "nbconvert_exporter": "python",
   "pygments_lexer": "ipython3",
   "version": "3.10.11"
  }
 },
 "nbformat": 4,
 "nbformat_minor": 5
}
