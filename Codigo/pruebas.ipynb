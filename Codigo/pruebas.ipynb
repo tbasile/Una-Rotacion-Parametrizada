{
 "cells": [
  {
   "cell_type": "code",
   "execution_count": 2,
   "id": "c9ade81d",
   "metadata": {
    "scrolled": true
   },
   "outputs": [],
   "source": [
    "#Importamos algunas cosas\n",
    "\n",
    "import numpy as np\n",
    "import matplotlib.pyplot as plt\n",
    "\n",
    "from qiskit.providers.ibmq import least_busy\n",
    "import qiskit\n",
    "from qiskit.visualization import plot_histogram\n",
    "from qiskit_experiments import library\n",
    "\n",
    "\n",
    "# Needed for functions\n",
    "import time\n",
    "\n",
    "import qiskit.quantum_info as qi\n",
    "from qiskit.providers.aer import noise\n",
    "from qiskit.compiler import assemble\n",
    "\n",
    "from qiskit.ignis.verification.tomography import state_tomography_circuits, StateTomographyFitter\n",
    "from qiskit.ignis.verification.tomography import process_tomography_circuits, ProcessTomographyFitter\n",
    "from qiskit.circuit.library import XGate, YGate, ZGate, U1Gate\n",
    "\n",
    "from qiskit.quantum_info import Choi, Kraus\n",
    "from qiskit.extensions import HGate, XGate\n",
    "import qiskit.quantum_info.operators.channel.transformations as qtrans\n",
    "import itertools\n",
    "import csv\n",
    "#import qiskit.aqua.utils as utils\n",
    "from qiskit.tools.monitor import job_monitor\n",
    "\n",
    "from qiskit import QuantumCircuit, QuantumRegister,execute, Aer\n",
    "\n",
    "\n",
    "from qiskit_aer import AerSimulator\n",
    "from qiskit.providers.fake_provider import FakeLima\n",
    "#Definimos las matrices de Pauli\n",
    "I = np.array([[1,0],[0,1]])\n",
    "X = np.array([[0,1],[1,0]])\n",
    "Y = np.array([[0,-1j],[1j,0]])\n",
    "Z = np.array([[1,0],[0,-1]])"
   ]
  },
  {
   "cell_type": "code",
   "execution_count": 3,
   "id": "0ab47b8b",
   "metadata": {},
   "outputs": [
    {
     "name": "stderr",
     "output_type": "stream",
     "text": [
      "C:\\Users\\tbasi\\AppData\\Local\\Temp\\ipykernel_6460\\1003815817.py:4: DeprecationWarning: The qiskit.IBMQ entrypoint and the qiskit-ibmq-provider package (accessible from 'qiskit.providers.ibmq`) are deprecated and will be removed in a future release. Instead you should use the qiskit-ibm-provider package which is accessible from 'qiskit_ibm_provider'. You can install it with 'pip install qiskit_ibm_provider'. Just replace 'qiskit.IBMQ' with 'qiskit_ibm_provider.IBMProvider'\n",
      "  provider = IBMQ.load_account()\n"
     ]
    }
   ],
   "source": [
    "# Primero iniciamos sesion\n",
    "from qiskit import IBMQ\n",
    "# Cargando cuenta de IBM (para realizar esto es necesaria una cuenta de IBM, preferiblemente esta sección se peude cargar desde IBM quantum lab)\n",
    "provider = IBMQ.load_account()\n",
    "provider = IBMQ.get_provider('ibm-q')\n",
    "\n",
    "#Entrar aqui https://quantum-computing.ibm.com/\n",
    "#con el correo @ciencias para ver los trabajos enviados y demás"
   ]
  },
  {
   "cell_type": "code",
   "execution_count": 20,
   "id": "7c4a7f8b",
   "metadata": {},
   "outputs": [
    {
     "name": "stdout",
     "output_type": "stream",
     "text": [
      "     \n",
      "q_0: \n",
      "     \n",
      "q_1: \n",
      "     \n",
      "q_2: \n",
      "     \n"
     ]
    }
   ],
   "source": [
    "qreg_q = QuantumRegister(3, 'q')  #3 registros cuánticos\n",
    "\n",
    "circ = QuantumCircuit(qreg_q)\n",
    "print(circ)"
   ]
  },
  {
   "cell_type": "code",
   "execution_count": 5,
   "id": "900b06ab",
   "metadata": {},
   "outputs": [],
   "source": [
    "def crear_puntos(cantidad):\n",
    "    '''Crear puntos en el tetraedro'''\n",
    "    conjunto=[]\n",
    "\n",
    "    #Creamos los puntos de lambdas 1, 2 y 3.\n",
    "    l1s = np.linspace(-1,1,cantidad)\n",
    "    l2s = np.linspace(-1,1,cantidad)\n",
    "    l3s = np.linspace(-1,1,cantidad)\n",
    "\n",
    "    #Vamos iterando sobre cada punto\n",
    "    for elem in itertools.product(l1s,l2s,l3s):\n",
    "        #Checamos si el punto pertenece al tetrahedro (sino, continuamos)\n",
    "        if 1+elem[0]-elem[1]-elem[2]<0:\n",
    "            continue\n",
    "        if 1+elem[1]-elem[2]-elem[0]<0:\n",
    "            continue\n",
    "        if 1+elem[2]-elem[1]-elem[0]<0:\n",
    "            continue\n",
    "        if 1+elem[0]+elem[1]+elem[2]<0:\n",
    "            continue\n",
    "            \n",
    "        else:\n",
    "            #si pertenece, lo agregamos al conjunto de puntos\n",
    "            conjunto.append(elem)\n",
    "    return(conjunto)\n",
    "\n",
    "def tomar_elemento(dic,key):\n",
    "    #Función para tomar un elemento de un diccionario sin obtener error\n",
    "    # si la key que se busca no existe, sino que da como resultado 0.\n",
    "    if key in dic:\n",
    "        return(dic[key])\n",
    "    else:\n",
    "        return(0)\n",
    "\n",
    "def crear_circs(cantidad=9):\n",
    "    '''Crear circuitos correspondientes a puntos en el tetraedro'''\n",
    "    #Creamos la cuadricula\n",
    "    conjunto = crear_puntos(cantidad)\n",
    "    \n",
    "    \n",
    "    circuitos = []\n",
    "    # Creamos los 12 circuitos de tomografia para cada punto y los ponemos\n",
    "    #todos en una lista.\n",
    "    for i in range(len(conjunto)):\n",
    "        lambdas = conjunto[i]\n",
    "        circ = lambdas_a_circ(lambdas)\n",
    "        qpt_circs = process_tomography_circuits(circ,[0],prepared_qubits=[0])\n",
    "        for c in qpt_circs:\n",
    "            circuitos.append(c)\n",
    "            \n",
    "    return(circuitos)\n"
   ]
  },
  {
   "cell_type": "code",
   "execution_count": 6,
   "id": "316db9cf",
   "metadata": {},
   "outputs": [
    {
     "data": {
      "text/plain": [
       "Choi([[ 0.65+0.j,  0.  +0.j,  0.  +0.j,  0.45+0.j],\n",
       "      [ 0.  +0.j,  0.35+0.j, -0.05+0.j,  0.  +0.j],\n",
       "      [ 0.  +0.j, -0.05+0.j,  0.35+0.j,  0.  +0.j],\n",
       "      [ 0.45+0.j,  0.  +0.j,  0.  +0.j,  0.65+0.j]],\n",
       "     input_dims=(2,), output_dims=(2,))"
      ]
     },
     "execution_count": 6,
     "metadata": {},
     "output_type": "execute_result"
    }
   ],
   "source": [
    "def choi_objetivo(lambdas):\n",
    "    '''Para valores de las lambdas, regresa la matriz de Choi objetivo'''\n",
    "    \n",
    "    #Primero calculamos las alphas correspondientes\n",
    "    l1,l2,l3 = lambdas\n",
    "    al1 =  1/4*(1+l1-l2-l3)\n",
    "    al2 = 1/4*(1-l1+l2-l3)\n",
    "    al3 = 1/4*(1-l1-l2+l3)\n",
    "    al0=1-al1-al2-al3\n",
    "    \n",
    "    #Escribimos la representación de Kraus a partir de las alphas \n",
    "    k = Kraus([np.sqrt(al0)*I,np.sqrt(al1)*X,\n",
    "                               np.sqrt(al2)*Y,np.sqrt(al3)*Z])\n",
    "    \n",
    "    #Ahora lo convertimos a choi usando _kraus_to_choi\n",
    "    mat_choi = np.array(qtrans._kraus_to_choi([k.data,None]))\n",
    "    \n",
    "    return(Choi(mat_choi))\n",
    "choi_objetivo([0.4,0.5,0.3])"
   ]
  },
  {
   "cell_type": "code",
   "execution_count": 18,
   "id": "69ddaeaa",
   "metadata": {},
   "outputs": [],
   "source": [
    "import os\n",
    "\n",
    "def correr_circs(compu,circuitos,agregar='',header=False,inicio=0):\n",
    "    #Creamos una carpeta dentro de resultados, si es que no existe\n",
    "    if agregar == '':\n",
    "        agregar = str(np.random.randint(1,1000))\n",
    "    \n",
    "    directory = \"Resultados/\"+compu+agregar\n",
    "    if os.path.exists(directory) == False:\n",
    "        os.mkdir(directory)\n",
    "        \n",
    "    strin = directory+\"/Resultados-Binarios\"+'.csv'\n",
    "    if header==False:\n",
    "        with open(strin,\"a\") as f:\n",
    "            f.write(\"0,1\")\n",
    "            f.flush()\n",
    "\n",
    " \n",
    "    repeticiones = len(circuitos)//100\n",
    "    resultados = []\n",
    "#     qcomp=  provider.get_backend(compu)\n",
    "    qcomp = AerSimulator.from_backend(FakeLima())\n",
    "\n",
    "    \n",
    "    circs=circuitos[100*repeticiones:]\n",
    "    job = qiskit.execute(circs,backend=qcomp, shots=20000)\n",
    "\n",
    "    # Esto es para saber cuantos trabajos van antes en la fila y como va el nuestro\n",
    "    job_monitor(job)\n",
    "        \n",
    "\n",
    "    res = job.result().get_counts()\n",
    "        \n",
    "    with open(strin,\"a\") as f:\n",
    "        for res_i in res:\n",
    "    \n",
    "            data = [tomar_elemento(res_i,'0'),tomar_elemento(res_i,'1')]\n",
    "            \n",
    "            f.write(\"\\n\"+str(data[0])+\",\" + str(data[1]))\n",
    "                \n",
    "            \n",
    "            resultados.append(res_i)\n",
    "            \n",
    "            f.flush()\n",
    "    return(resultados)        \n"
   ]
  },
  {
   "cell_type": "code",
   "execution_count": 8,
   "id": "d8c8cc50",
   "metadata": {},
   "outputs": [],
   "source": [
    "def rho_final(x1,x0,y1,y0,z1,z0):\n",
    "    #Dados los resultados de un circuito medido en las 3 bases,\n",
    "    #Calculamos la matriz de densidad del estado final creado\n",
    "    total = x1+x0\n",
    "    trax = (x0/total)**2 - (x1/total)**2\n",
    "    tray = (y0/total)**2 - (y1/total)**2\n",
    "    traz = (z0/total)**2 - (z1/total)**2\n",
    "    rho = (I+trax*X+tray*Y+traz*Z)/2\n",
    "    return(np.array(rho))\n",
    "\n",
    "\n",
    "\n",
    "def tomar_elemento(dic,key):\n",
    "    #Función para tomar un elemento de un diccionario sin obtener error\n",
    "    # si la key que se busca no existe, sino que da como resultado 0.\n",
    "    if key in dic:\n",
    "        return(dic[key])\n",
    "    else:\n",
    "        return(0)\n",
    "    \n",
    "    \n",
    "def choi_desde_res(res):\n",
    "    # Obtenemos la matriz de densidad final para los 4 estados de entrada\n",
    "    #El estado 0, el estado 1, el + y el R. \n",
    "    #Los se obtienen en los 12 conteos de los circuitos qpt.\n",
    "    erho0 = rho_final(tomar_elemento(res[0],'1'),tomar_elemento(res[0],'0'),\n",
    "                      tomar_elemento(res[1],'1'),tomar_elemento(res[1],'0'),\n",
    "                    tomar_elemento(res[2],'1'),tomar_elemento(res[2],'0'))\n",
    "    \n",
    "    erho1 = rho_final(tomar_elemento(res[3],'1'),tomar_elemento(res[3],'0'),\n",
    "                      tomar_elemento(res[4],'1'),tomar_elemento(res[4],'0'),\n",
    "                    tomar_elemento(res[5],'1'),tomar_elemento(res[5],'0'))\n",
    "    \n",
    "    erhomas = rho_final(tomar_elemento(res[6],'1'),tomar_elemento(res[6],'0'),\n",
    "                      tomar_elemento(res[7],'1'),tomar_elemento(res[7],'0'),\n",
    "                    tomar_elemento(res[8],'1'),tomar_elemento(res[8],'0'))\n",
    "    \n",
    "    erhoR = rho_final(tomar_elemento(res[9],'1'),tomar_elemento(res[9],'0'),\n",
    "                      tomar_elemento(res[10],'1'),tomar_elemento(res[10],'0'),\n",
    "                    tomar_elemento(res[11],'1'),tomar_elemento(res[11],'0'))\n",
    "    \n",
    "    \n",
    "\n",
    "    #A partir de esto, calculamos la matriz de Choi\n",
    "    #sumando |i><j| \\otimes eps(|i><j|)\n",
    "    #Los eps(|i><j|) se pueden escribir como combinación lineal de los\n",
    "    # calculados en erho0, erho1, erhomas, erhoR,\n",
    "    \n",
    "    choi = np.kron(np.array([[1,0],[0,0]]),erho0)\n",
    "    choi+= np.kron(np.array([[0,1],[0,0]]),\n",
    "    erhomas+1j*erhoR-(1+1j)/2*erho0-(1+1j)/2*erho1)\n",
    "    \n",
    "    choi+= np.kron(np.array([[0,0],[1,0]]),\n",
    "            erhomas-1j*erhoR-(1-1j)/2*erho1-(1-1j)/2*erho0)\n",
    "    \n",
    "    choi+= np.kron(np.array([[0,0],[0,1]]),erho1)\n",
    "    return(qi.Choi(choi))\n",
    "\n",
    "\n",
    "import pandas as pd\n",
    "\n",
    "def crear_dict(df):\n",
    "    d = []\n",
    "    lista = np.array(df)\n",
    "    for a in lista:\n",
    "        d.append({'0': a[0], '1': a[1]})\n",
    "    return(d)\n",
    "\n",
    "\n",
    "def fidelidades(direction,lista):\n",
    "    resultados_bin = pd.read_csv(direction + \"/Resultados-Binarios.csv\")\n",
    "    strin = direction+\"/fidelidades.csv\"\n",
    "    \n",
    "    with open(strin,\"w\") as f:\n",
    "        f.write(\"lambda1, lambda2, lambda3, fidelidad\")\n",
    "    \n",
    "    for i, lam in enumerate(lista):\n",
    "        resul_i = resultados_bin.iloc[12*i:12*i+12]\n",
    "        d = crear_dict(resul_i)\n",
    "        \n",
    "        choi_obj = choi_objetivo(lam)\n",
    "        choi_compu = choi_desde_res(d)\n",
    "        \n",
    "        fid =qi.process_fidelity(qi.Choi(choi_compu),target=choi_obj)\n",
    "        \n",
    "        \n",
    "        data = (lam[0],lam[1],lam[2],fid)\n",
    "        \n",
    "        with open(strin,\"a\") as f:\n",
    "            f.write(\"\\n\"+str(data[0])+\",\" + str(data[1])+\",\"+str(data[2])+\",\"+str(data[3]))\n",
    "\n",
    "            \n",
    "            \n",
    "def fidelidades_diam(direction,lista):\n",
    "    resultados_bin = pd.read_csv(direction + \"/Resultados-Binarios.csv\")\n",
    "    strin = direction+\"/fidelidades_diam1.csv\"\n",
    "    \n",
    "    with open(strin,\"w\") as f:\n",
    "        f.write(\"lambda1, lambda2, lambda3, fidelidad\")\n",
    "    \n",
    "    for i, lam in enumerate(lista):\n",
    "        resul_i = resultados_bin.iloc[12*i:12*i+12]\n",
    "        d = crear_dict(resul_i)\n",
    "        \n",
    "        choi_obj = choi_objetivo(lam)\n",
    "        choi_compu = choi_desde_res(d)\n",
    "        \n",
    "        fid =qi.diamond_norm(qi.Choi(choi_compu)-choi_obj)\n",
    "        \n",
    "        proba= 1/2+1/4*fid\n",
    "        data = (lam[0],lam[1],lam[2],proba)\n",
    "        \n",
    "        with open(strin,\"a\") as f:\n",
    "            f.write(\"\\n\"+str(data[0])+\",\" + str(data[1])+\",\"+str(data[2])+\",\"+str(data[3]))\n",
    "\n",
    "            \n"
   ]
  },
  {
   "cell_type": "code",
   "execution_count": 25,
   "id": "ba53ec75",
   "metadata": {},
   "outputs": [
    {
     "name": "stdout",
     "output_type": "stream",
     "text": [
      "Job Status: job has successfully run\n"
     ]
    }
   ],
   "source": [
    "circ_qpt = library.ProcessTomography(circ, physical_qubits=[0],\n",
    "                                    measurement_indices=[0])\n",
    "\n",
    "correr_circs(\"ibmq_lima\",circ_qpt.circuits(),agregar=\"-id\",header=False);"
   ]
  },
  {
   "cell_type": "code",
   "execution_count": null,
   "id": "f1e428f7",
   "metadata": {},
   "outputs": [],
   "source": []
  },
  {
   "cell_type": "code",
   "execution_count": 28,
   "id": "c5ebad08",
   "metadata": {},
   "outputs": [
    {
     "name": "stdout",
     "output_type": "stream",
     "text": [
      "0.2520249999999997\n"
     ]
    }
   ],
   "source": [
    "\n",
    "import pandas as pd \n",
    "resultados_bin = pd.read_csv(\"Resultados/ibmq_lima-id/Resultados-Binarios.csv\")\n",
    "    \n",
    "resul_i = resultados_bin.iloc[0:12]\n",
    "d = crear_dict(resul_i)\n",
    "\n",
    "choi_obj = choi_objetivo([1,1,1])\n",
    "choi_compu = choi_desde_res(d)\n",
    "    \n",
    "fid =qi.process_fidelity(qi.Choi(choi_compu),target=choi_obj)\n",
    "      \n",
    "print(fid)\n",
    "        "
   ]
  },
  {
   "cell_type": "code",
   "execution_count": 33,
   "id": "8046a92d",
   "metadata": {},
   "outputs": [],
   "source": [
    "fidelidades(\"Resultados/ibmq_lima-id\",[[1,1,1]])"
   ]
  },
  {
   "cell_type": "code",
   "execution_count": null,
   "id": "c655ee45",
   "metadata": {},
   "outputs": [],
   "source": []
  },
  {
   "cell_type": "code",
   "execution_count": 52,
   "id": "a54d270c",
   "metadata": {},
   "outputs": [],
   "source": [
    "Operator.tensor?"
   ]
  },
  {
   "cell_type": "code",
   "execution_count": 73,
   "id": "1363ce80",
   "metadata": {},
   "outputs": [
    {
     "data": {
      "text/plain": [
       "Choi([[ 0.4852  +0.j      ,  0.49405 -0.0052j  ,  0.000925+0.508025j,\n",
       "        0.0257  -0.5072j  ],\n",
       "      [ 0.49405 +0.0052j  ,  0.5148  +0.j      , -0.06665 +0.46915j ,\n",
       "       -0.000925-0.508025j],\n",
       "      [ 0.000925-0.508025j, -0.06665 -0.46915j ,  0.47785 +0.j      ,\n",
       "       -0.4543  +0.00585j ],\n",
       "      [ 0.0257  +0.5072j  , -0.000925+0.508025j, -0.4543  -0.00585j ,\n",
       "        0.52215 +0.j      ]],\n",
       "     input_dims=(2,), output_dims=(2,))"
      ]
     },
     "execution_count": 73,
     "metadata": {},
     "output_type": "execute_result"
    }
   ],
   "source": [
    "choi_compu"
   ]
  },
  {
   "cell_type": "code",
   "execution_count": 91,
   "id": "78d0383e",
   "metadata": {},
   "outputs": [
    {
     "data": {
      "image/png": "[encoded data removed]",
      "text/plain": [
       "<Figure size 941.081x367.889 with 1 Axes>"
      ]
     },
     "execution_count": 91,
     "metadata": {},
     "output_type": "execute_result"
    }
   ],
   "source": [
    "circuitos[11].draw(\"mpl\")"
   ]
  },
  {
   "cell_type": "code",
   "execution_count": 99,
   "id": "130ad9df",
   "metadata": {},
   "outputs": [
    {
     "data": {
      "text/plain": [
       "Choi([[0.5+0.j, 0. +0.j, 0. +0.j, 0. +0.j],\n",
       "      [0. +0.j, 0.5+0.j, 0. +0.j, 0. +0.j],\n",
       "      [0. +0.j, 0. +0.j, 0.5+0.j, 0. +0.j],\n",
       "      [0. +0.j, 0. +0.j, 0. +0.j, 0.5+0.j]],\n",
       "     input_dims=(2,), output_dims=(2,))"
      ]
     },
     "execution_count": 99,
     "metadata": {},
     "output_type": "execute_result"
    }
   ],
   "source": [
    "choi_objetivo([0,0,0])"
   ]
  },
  {
   "cell_type": "code",
   "execution_count": null,
   "id": "c59323d6",
   "metadata": {},
   "outputs": [],
   "source": []
  }
 ],
 "metadata": {
  "kernelspec": {
   "display_name": "Python 3 (ipykernel)",
   "language": "python",
   "name": "python3"
  },
  "language_info": {
   "codemirror_mode": {
    "name": "ipython",
    "version": 3
   },
   "file_extension": ".py",
   "mimetype": "text/x-python",
   "name": "python",
   "nbconvert_exporter": "python",
   "pygments_lexer": "ipython3",
   "version": "3.10.11"
  }
 },
 "nbformat": 4,
 "nbformat_minor": 5
}
