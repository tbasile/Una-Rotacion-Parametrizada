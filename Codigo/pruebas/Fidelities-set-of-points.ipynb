{
 "cells": [
  {
   "cell_type": "code",
   "execution_count": 202,
   "id": "e10c7682",
   "metadata": {},
   "outputs": [],
   "source": [
    "#Importamos algunas cosas\n",
    "\n",
    "import numpy as np\n",
    "import matplotlib.pyplot as plt\n",
    "\n",
    "from qiskit.providers.ibmq import least_busy\n",
    "import qiskit\n",
    "from qiskit.visualization import plot_histogram\n",
    "from qiskit_experiments import library\n",
    "\n",
    "\n",
    "# Needed for functions\n",
    "import time\n",
    "\n",
    "import qiskit.quantum_info as qi\n",
    "from qiskit.providers.aer import noise\n",
    "from qiskit.compiler import assemble\n",
    "\n",
    "from qiskit.ignis.verification.tomography import state_tomography_circuits, StateTomographyFitter\n",
    "from qiskit.ignis.verification.tomography import process_tomography_circuits, ProcessTomographyFitter\n",
    "from qiskit.circuit.library import XGate, YGate, ZGate, U1Gate\n",
    "\n",
    "from qiskit.quantum_info import Choi, Kraus\n",
    "from qiskit.extensions import HGate, XGate\n",
    "import qiskit.quantum_info.operators.channel.transformations as qtrans\n",
    "import itertools\n",
    "import csv\n",
    "#import qiskit.aqua.utils as utils\n",
    "from qiskit.tools.monitor import job_monitor\n",
    "\n",
    "from qiskit import QuantumCircuit, QuantumRegister,execute, Aer\n",
    "\n",
    "\n",
    "from qiskit_aer import AerSimulator\n",
    "from qiskit.providers.fake_provider import FakeLima\n",
    "#Definimos las matrices de Pauli\n",
    "I = np.array([[1,0],[0,1]])\n",
    "X = np.array([[0,1],[1,0]])\n",
    "Y = np.array([[0,-1j],[1j,0]])\n",
    "Z = np.array([[1,0],[0,-1]])"
   ]
  },
  {
   "cell_type": "markdown",
   "id": "18ef280d",
   "metadata": {},
   "source": [
    "### Crear una lista de lambdas\n",
    "Crear una lista de lambdas que se van a simular\n"
   ]
  },
  {
   "cell_type": "code",
   "execution_count": 203,
   "id": "512c56b0",
   "metadata": {},
   "outputs": [
    {
     "data": {
      "text/plain": [
       "249"
      ]
     },
     "execution_count": 203,
     "metadata": {},
     "output_type": "execute_result"
    }
   ],
   "source": [
    "def crear_puntos(cantidad):\n",
    "    '''Crear puntos en el tetraedro'''\n",
    "    conjunto=[]\n",
    "\n",
    "    #Creamos los puntos de lambdas 1, 2 y 3.\n",
    "    l1s = np.linspace(-1,1,cantidad)\n",
    "    l2s = np.linspace(-1,1,cantidad)\n",
    "    l3s = np.linspace(-1,1,cantidad)\n",
    "\n",
    "    #Vamos iterando sobre cada punto\n",
    "    for elem in itertools.product(l1s,l2s,l3s):\n",
    "        #Checamos si el punto pertenece al tetrahedro (sino, continuamos)\n",
    "        if 1+elem[0]-elem[1]-elem[2]<0:\n",
    "            continue\n",
    "        if 1+elem[1]-elem[2]-elem[0]<0:\n",
    "            continue\n",
    "        if 1+elem[2]-elem[1]-elem[0]<0:\n",
    "            continue\n",
    "        if 1+elem[0]+elem[1]+elem[2]<0:\n",
    "            continue\n",
    "            \n",
    "        else:\n",
    "            #si pertenece, lo agregamos al conjunto de puntos\n",
    "            conjunto.append(elem)\n",
    "    return(conjunto)\n",
    "\n",
    "lista =crear_puntos(9)\n",
    "len(lista)"
   ]
  },
  {
   "cell_type": "code",
   "execution_count": 328,
   "id": "8ed4e7c5",
   "metadata": {},
   "outputs": [
    {
     "name": "stdout",
     "output_type": "stream",
     "text": [
      "170\n"
     ]
    }
   ],
   "source": [
    "\n",
    "def crear_puntos(cantidad,tz):\n",
    "    '''Crear puntos en un corte del tetraedro'''\n",
    "    conjunto=[]\n",
    "\n",
    "    #Creamos los puntos de lambdas 1, 2 y 3.\n",
    "    l1s = np.linspace(-1,1,cantidad)\n",
    "    l2s = np.linspace(-1,1,cantidad)\n",
    "    l3s = tz\n",
    "\n",
    "    #Vamos iterando sobre cada punto\n",
    "    for elem in itertools.product(l1s,l2s):\n",
    "        elem = [elem[0],elem[1],tz]\n",
    "\n",
    "        if np.around(1+elem[0]-elem[1]-elem[2],8)<0:\n",
    "            continue\n",
    "        \n",
    "        elif np.around(1+elem[1]-elem[2]-elem[0],8)<0:\n",
    "            continue\n",
    "        elif np.around(1+elem[2]-elem[1]-elem[0],8)<0:\n",
    "            continue\n",
    "            \n",
    "        elif np.around(1+elem[0]+elem[1]+elem[2],8)<0:\n",
    "            continue   \n",
    "        else:\n",
    "            conjunto.append(elem)\n",
    "\n",
    "    return(conjunto)\n",
    "\n",
    "\n",
    "lista =crear_puntos(22,-0.5)\n",
    "print(len(lista))"
   ]
  },
  {
   "cell_type": "markdown",
   "id": "b3da2270",
   "metadata": {},
   "source": [
    "### Funciones para crear los circuitos"
   ]
  },
  {
   "cell_type": "code",
   "execution_count": 285,
   "id": "9370dc0d",
   "metadata": {},
   "outputs": [],
   "source": [
    "def alphas_a_circ(alphas):\n",
    "    '''Dadas las alphas (que en el artículo se llaman k) crear\n",
    "    el circuito del canal de Pauli correspondiente.'''\n",
    "    al0,al1,al2,al3 = alphas\n",
    "    #Calculamos los ángulos para crear el estado correspondiente sobre ancilla\n",
    "    th0 = np.angle(np.sqrt(al0)+1j*np.sqrt(al1)) - np.angle(np.sqrt(al2)+1j*np.sqrt(al3))\n",
    "    th1 = 2*np.arccos(np.sqrt(al0+al1))\n",
    "    th2 = np.angle(np.sqrt(al0)+1j*np.sqrt(al1)) + np.angle(np.sqrt(al2)+1j*np.sqrt(al3))\n",
    "    \n",
    "    # Hacemos el circuito.\n",
    "    qreg_q = QuantumRegister(3, 'q')  #3 registros cuánticos\n",
    "    circ = QuantumCircuit(qreg_q)\n",
    "    \n",
    "    #Le ponemos las puertas para crear el estado de qbits de ancilla\n",
    "    circ.ry(th1,1)\n",
    "    circ.ry(th0,2)\n",
    "    circ.cz(1,2)\n",
    "    circ.ry(th2,2)\n",
    "    \n",
    "    #Agregamos las puertas controladas sobre el qubit principal\n",
    "    c2y = YGate.control(YGate(),num_ctrl_qubits=2,ctrl_state='01')\n",
    "    c2x = XGate.control(XGate(),num_ctrl_qubits=2,ctrl_state='10')\n",
    "    c2z = ZGate.control(ZGate(),num_ctrl_qubits=2,ctrl_state='11')\n",
    "    circ.append(c2x, [1, 2, 0])\n",
    "    circ.append(c2y, [1, 2, 0])\n",
    "    circ.append(c2z, [1, 2, 0])\n",
    "\n",
    "    return(circ)\n",
    "\n",
    "\n",
    "def lambdas_a_alphas(lambdas):\n",
    "    '''Convertir las lambdas del tetraedro a las alphas'''\n",
    "    l1,l2,l3 = lambdas\n",
    "    al1 =  abs(1/4*(1+l1-l2-l3))\n",
    "    al2 = abs(1/4*(1-l1+l2-l3))\n",
    "    al3 = abs(1/4*(1-l1-l2+l3))\n",
    "    al0= abs(1-al1-al2-al3)\n",
    "    return(np.around([al0,al1,al2,al3],8))\n",
    "    \n",
    "\n",
    "def lambdas_a_circ(lambdas):\n",
    "    '''Crear un circuito a partir de las lambdas'''\n",
    "    return(alphas_a_circ(lambdas_a_alphas(lambdas)))\n",
    "\n",
    "\n",
    "def tomar_elemento(dic,key):\n",
    "    #Función para tomar un elemento de un diccionario sin obtener error\n",
    "    # si la key que se busca no existe, sino que da como resultado 0.\n",
    "    if key in dic:\n",
    "        return(dic[key])\n",
    "    else:\n",
    "        return(0)"
   ]
  },
  {
   "cell_type": "code",
   "execution_count": 286,
   "id": "b50b8b20",
   "metadata": {},
   "outputs": [],
   "source": [
    "def crear_circs(lista):\n",
    "    '''Crear circuitos correspondientes a puntos en el tetraedro'''\n",
    "    #Creamos la cuadricula\n",
    "    \n",
    "    \n",
    "    \n",
    "    circuitos = []\n",
    "    # Creamos los 12 circuitos de tomografia para cada punto y los ponemos\n",
    "    #todos en una lista.\n",
    "    for i in range(len(lista)):\n",
    "        lambdas = lista[i]\n",
    "        circ = lambdas_a_circ(lambdas)\n",
    "        \n",
    "        circ_qpt = library.ProcessTomography(circ, physical_qubits=[0],\n",
    "                                    measurement_indices=[0])\n",
    "        for c in circ_qpt.circuits():\n",
    "            circuitos.append(c)\n",
    "            \n",
    "    return(circuitos)\n",
    "\n"
   ]
  },
  {
   "cell_type": "code",
   "execution_count": 329,
   "id": "c785c83e",
   "metadata": {},
   "outputs": [
    {
     "name": "stdout",
     "output_type": "stream",
     "text": [
      "2040\n"
     ]
    }
   ],
   "source": [
    "circuitos = crear_circs(lista)\n",
    "print(len(circuitos))"
   ]
  },
  {
   "cell_type": "markdown",
   "id": "b0cef1c4",
   "metadata": {},
   "source": [
    "# Correr los circuitos y guardar los resultados"
   ]
  },
  {
   "cell_type": "code",
   "execution_count": 288,
   "id": "68f445f2",
   "metadata": {},
   "outputs": [
    {
     "name": "stderr",
     "output_type": "stream",
     "text": [
      "ibmqfactory.load_account:WARNING:2023-07-09 12:38:57,776: Credentials are already in use. The existing account in the session will be replaced.\n"
     ]
    }
   ],
   "source": [
    "# Primero iniciamos sesion\n",
    "from qiskit import IBMQ\n",
    "# Cargando cuenta de IBM (para realizar esto es necesaria una cuenta de IBM, preferiblemente esta sección se peude cargar desde IBM quantum lab)\n",
    "provider = IBMQ.load_account()\n",
    "provider = IBMQ.get_provider('ibm-q')\n",
    "\n",
    "#Entrar aqui https://quantum-computing.ibm.com/\n",
    "#con el correo @ciencias para ver los trabajos enviados y demás"
   ]
  },
  {
   "cell_type": "code",
   "execution_count": 289,
   "id": "2267a8d2",
   "metadata": {},
   "outputs": [],
   "source": [
    "import os\n",
    "\n",
    "def correr_circs(compu,circuitos,agregar='',header=False,inicio=0):\n",
    "    #Creamos una carpeta dentro de resultados, si es que no existe\n",
    "    if agregar == '':\n",
    "        agregar = str(np.random.randint(1,1000))\n",
    "    \n",
    "    directory = \"Resultados/\"+compu+agregar\n",
    "    if os.path.exists(directory) == False:\n",
    "        os.mkdir(directory)\n",
    "        \n",
    "    strin = directory+\"/Resultados-Binarios\"+'.csv'\n",
    "    if header==False:\n",
    "        with open(strin,\"a\") as f:\n",
    "            f.write(\"0,1\")\n",
    "            f.flush()\n",
    "\n",
    " \n",
    "    repeticiones = len(circuitos)//100\n",
    "    resultados = []\n",
    "#     qcomp=  provider.get_backend(compu)\n",
    "    qcomp = AerSimulator.from_backend(FakeLima())\n",
    "\n",
    "    \n",
    "    for j in range(inicio,repeticiones):\n",
    "        circs = circuitos[j*100:(j+1)*100]\n",
    "        job = qiskit.execute(circs,backend=qcomp, shots=20000)\n",
    "\n",
    "        # Esto es para saber cuantos trabajos van antes en la fila y como va el nuestro\n",
    "        job_monitor(job)\n",
    "        \n",
    "        res = job.result().get_counts()\n",
    "        print(\"finalizado\")\n",
    "        #y agregamos los conteos al csv\n",
    "        with open(strin,\"a\") as f:\n",
    "            for res_i in res:\n",
    "                data = [tomar_elemento(res_i,'0'),tomar_elemento(res_i,'1')]\n",
    "                f.write(\"\\n\"+str(data[0])+\",\" + str(data[1]))\n",
    "                f.flush()\n",
    "                \n",
    "                resultados.append(res_i)\n",
    "            \n",
    "    \n",
    "    #Hacemos los circuitos que faltan \n",
    "    if len(circuitos) != 100*repeticiones:\n",
    "        circs=circuitos[100*repeticiones:]\n",
    "        job = qiskit.execute(circs,backend=qcomp, shots=20000)\n",
    "\n",
    "        # Esto es para saber cuantos trabajos van antes en la fila y como va el nuestro\n",
    "        job_monitor(job)\n",
    "        \n",
    "        res = job.result().get_counts()\n",
    "        \n",
    "        with open(strin,\"a\") as f:\n",
    "            for res_i in res:\n",
    "                data = [tomar_elemento(res_i,'0'),tomar_elemento(res_i,'1')]\n",
    "                f.write(\"\\n\"+str(data[0])+\",\" + str(data[1]))\n",
    "                \n",
    "                resultados.append(res_i)\n",
    "                f.flush()\n",
    "    return(resultados)        \n"
   ]
  },
  {
   "cell_type": "code",
   "execution_count": null,
   "id": "998c1935",
   "metadata": {},
   "outputs": [],
   "source": []
  },
  {
   "cell_type": "code",
   "execution_count": 331,
   "id": "3db3f8c2",
   "metadata": {
    "scrolled": true
   },
   "outputs": [
    {
     "name": "stdout",
     "output_type": "stream",
     "text": [
      "Job Status: job has successfully run\n",
      "finalizado\n",
      "Job Status: job has successfully run\n",
      "finalizado\n",
      "Job Status: job has successfully run\n",
      "finalizado\n",
      "Job Status: job has successfully run\n",
      "finalizado\n",
      "Job Status: job has successfully run\n",
      "finalizado\n",
      "Job Status: job has successfully run\n",
      "finalizado\n",
      "Job Status: job has successfully run\n",
      "finalizado\n",
      "Job Status: job has successfully run\n",
      "finalizado\n",
      "Job Status: job has successfully run\n",
      "finalizado\n",
      "Job Status: job has successfully run\n",
      "finalizado\n",
      "Job Status: job has successfully run\n",
      "finalizado\n",
      "Job Status: job has successfully run\n",
      "finalizado\n",
      "Job Status: job has successfully run\n",
      "finalizado\n",
      "Job Status: job has successfully run\n",
      "finalizado\n",
      "Job Status: job has successfully run\n",
      "finalizado\n",
      "Job Status: job has successfully run\n",
      "finalizado\n",
      "Job Status: job has successfully run\n",
      "finalizado\n",
      "Job Status: job has successfully run\n",
      "finalizado\n",
      "Job Status: job has successfully run\n",
      "finalizado\n",
      "Job Status: job has successfully run\n",
      "finalizado\n",
      "Job Status: job has successfully run\n"
     ]
    }
   ],
   "source": [
    "correr_circs(\"ibmq_lima\",circuitos,agregar=\"z=-0.5\",header=False,inicio=0);"
   ]
  },
  {
   "cell_type": "markdown",
   "id": "380bf79d",
   "metadata": {},
   "source": [
    "#### Calcular probabilidades\n",
    "\n"
   ]
  },
  {
   "cell_type": "code",
   "execution_count": 291,
   "id": "5c94700b",
   "metadata": {},
   "outputs": [
    {
     "data": {
      "text/plain": [
       "Choi([[ 0.65+0.j,  0.  +0.j,  0.  +0.j,  0.45+0.j],\n",
       "      [ 0.  +0.j,  0.35+0.j, -0.05+0.j,  0.  +0.j],\n",
       "      [ 0.  +0.j, -0.05+0.j,  0.35+0.j,  0.  +0.j],\n",
       "      [ 0.45+0.j,  0.  +0.j,  0.  +0.j,  0.65+0.j]],\n",
       "     input_dims=(2,), output_dims=(2,))"
      ]
     },
     "execution_count": 291,
     "metadata": {},
     "output_type": "execute_result"
    }
   ],
   "source": [
    "def choi_objetivo(lambdas):\n",
    "    '''Para valores de las lambdas, regresa la matriz de Choi objetivo'''\n",
    "    \n",
    "    #Primero calculamos las alphas correspondientes\n",
    "    al0,al1,al2,al3 = lambdas_a_alphas(lambdas)\n",
    "    \n",
    "    #Escribimos la representación de Kraus a partir de las alphas \n",
    "    k = Kraus([np.sqrt(al0)*I,np.sqrt(al1)*X,\n",
    "                               np.sqrt(al2)*Y,np.sqrt(al3)*Z])\n",
    "    \n",
    "    #Ahora lo convertimos a choi usando _kraus_to_choi\n",
    "    mat_choi = np.array(qtrans._kraus_to_choi([k.data,None]))\n",
    "    \n",
    "    return(qi.Choi(mat_choi))\n",
    "choi_objetivo([0.4,0.5,0.3])"
   ]
  },
  {
   "cell_type": "code",
   "execution_count": null,
   "id": "8c9dc04a",
   "metadata": {},
   "outputs": [],
   "source": []
  },
  {
   "cell_type": "markdown",
   "id": "7a585a76",
   "metadata": {},
   "source": [
    "### BORRARRRR"
   ]
  },
  {
   "cell_type": "code",
   "execution_count": 213,
   "id": "81590825",
   "metadata": {},
   "outputs": [
    {
     "name": "stdout",
     "output_type": "stream",
     "text": [
      "[0.2125 0.5875 0.1625 0.0375]\n"
     ]
    },
    {
     "data": {
      "text/html": [
       "<pre style=\"word-wrap: normal;white-space: pre;background: #fff0;line-height: 1.1;font-family: &quot;Courier New&quot;,Courier,monospace\">                                    ┌───┐┌───┐   \n",
       "q_0: ───────────────────────────────┤ X ├┤ Y ├─■─\n",
       "     ┌────────────┐                 └─┬─┘└─┬─┘ │ \n",
       "q_1: ┤ Ry(0.9273) ├─■─────────────────o────■───■─\n",
       "     ├────────────┤ │ ┌────────────┐  │    │   │ \n",
       "q_2: ┤ Ry(0.5815) ├─■─┤ Ry(1.4772) ├──■────o───■─\n",
       "     └────────────┘   └────────────┘             </pre>"
      ],
      "text/plain": [
       "                                    ┌───┐┌───┐   \n",
       "q_0: ───────────────────────────────┤ X ├┤ Y ├─■─\n",
       "     ┌────────────┐                 └─┬─┘└─┬─┘ │ \n",
       "q_1: ┤ Ry(0.9273) ├─■─────────────────o────■───■─\n",
       "     ├────────────┤ │ ┌────────────┐  │    │   │ \n",
       "q_2: ┤ Ry(0.5815) ├─■─┤ Ry(1.4772) ├──■────o───■─\n",
       "     └────────────┘   └────────────┘             "
      ]
     },
     "execution_count": 213,
     "metadata": {},
     "output_type": "execute_result"
    }
   ],
   "source": [
    "lambdas = [0.6,-0.25,-0.5]\n",
    "print(lambdas_a_alphas(lambdas))\n",
    "alphas= lambdas_a_alphas(lambdas)\n",
    "\n",
    "c = alphas_a_circ(alphas)\n",
    "c.draw()"
   ]
  },
  {
   "cell_type": "code",
   "execution_count": 161,
   "id": "92caeec1",
   "metadata": {
    "collapsed": true
   },
   "outputs": [
    {
     "data": {
      "text/plain": [
       "Choi([[0.25 +0.j, 0.   +0.j, 0.   +0.j, 0.175+0.j],\n",
       "      [0.   +0.j, 0.75 +0.j, 0.425+0.j, 0.   +0.j],\n",
       "      [0.   +0.j, 0.425+0.j, 0.75 +0.j, 0.   +0.j],\n",
       "      [0.175+0.j, 0.   +0.j, 0.   +0.j, 0.25 +0.j]],\n",
       "     input_dims=(2,), output_dims=(2,))"
      ]
     },
     "execution_count": 161,
     "metadata": {},
     "output_type": "execute_result"
    }
   ],
   "source": [
    "ch = choi_objetivo(lambdas)\n",
    "ch"
   ]
  },
  {
   "cell_type": "code",
   "execution_count": 162,
   "id": "1e521f12",
   "metadata": {
    "collapsed": true
   },
   "outputs": [
    {
     "data": {
      "text/html": [
       "<pre style=\"word-wrap: normal;white-space: pre;background: #fff0;line-height: 1.1;font-family: &quot;Courier New&quot;,Courier,monospace\">                        ┌─────────────┐      ░       ┌───┐┌───┐    ░ »\n",
       "     q_0: ─────|0>──────┤ PauliPrepZp ├──────░───────┤ X ├┤ Y ├─■──░─»\n",
       "          ┌────────────┐└─────────────┘      ░       └─┬─┘└─┬─┘ │  ░ »\n",
       "     q_1: ┤ Ry(0.9273) ├───────■───────────────────────o────■───■────»\n",
       "          ├────────────┤       │       ┌────────────┐  │    │   │    »\n",
       "     q_2: ┤ Ry(0.5815) ├───────■───────┤ Ry(1.4772) ├──■────o───■────»\n",
       "          └────────────┘               └────────────┘                »\n",
       "c_tomo: 1/═══════════════════════════════════════════════════════════»\n",
       "                                                                     »\n",
       "«          ┌────────────┐ ░ ┌─┐\n",
       "«     q_0: ┤ PauliMeasX ├─░─┤M├\n",
       "«          └────────────┘ ░ └╥┘\n",
       "«     q_1: ──────────────────╫─\n",
       "«                            ║ \n",
       "«     q_2: ──────────────────╫─\n",
       "«                            ║ \n",
       "«c_tomo: 1/══════════════════╩═\n",
       "«                            0 </pre>"
      ],
      "text/plain": [
       "                        ┌─────────────┐      ░       ┌───┐┌───┐    ░ »\n",
       "     q_0: ─────|0>──────┤ PauliPrepZp ├──────░───────┤ X ├┤ Y ├─■──░─»\n",
       "          ┌────────────┐└─────────────┘      ░       └─┬─┘└─┬─┘ │  ░ »\n",
       "     q_1: ┤ Ry(0.9273) ├───────■───────────────────────o────■───■────»\n",
       "          ├────────────┤       │       ┌────────────┐  │    │   │    »\n",
       "     q_2: ┤ Ry(0.5815) ├───────■───────┤ Ry(1.4772) ├──■────o───■────»\n",
       "          └────────────┘               └────────────┘                »\n",
       "c_tomo: 1/═══════════════════════════════════════════════════════════»\n",
       "                                                                     »\n",
       "«          ┌────────────┐ ░ ┌─┐\n",
       "«     q_0: ┤ PauliMeasX ├─░─┤M├\n",
       "«          └────────────┘ ░ └╥┘\n",
       "«     q_1: ──────────────────╫─\n",
       "«                            ║ \n",
       "«     q_2: ──────────────────╫─\n",
       "«                            ║ \n",
       "«c_tomo: 1/══════════════════╩═\n",
       "«                            0 "
      ]
     },
     "execution_count": 162,
     "metadata": {},
     "output_type": "execute_result"
    }
   ],
   "source": [
    "qcomp = Aer.get_backend('aer_simulator')\n",
    "circ_qst = library.ProcessTomography(c, physical_qubits=[0],\n",
    "                                    measurement_indices=[0])\n",
    "\n",
    "circs= circ_qst.circuits()\n",
    "circs[1].draw()"
   ]
  },
  {
   "cell_type": "code",
   "execution_count": 163,
   "id": "3a355b96",
   "metadata": {
    "collapsed": true
   },
   "outputs": [
    {
     "name": "stdout",
     "output_type": "stream",
     "text": [
      "Job Status: job has successfully run\n"
     ]
    },
    {
     "data": {
      "text/plain": [
       "[{'1': 15036, '0': 4964},\n",
       " {'0': 9958, '1': 10042},\n",
       " {'1': 10040, '0': 9960},\n",
       " {'0': 15103, '1': 4897},\n",
       " {'0': 9982, '1': 10018},\n",
       " {'1': 9875, '0': 10125},\n",
       " {'0': 10054, '1': 9946},\n",
       " {'0': 16006, '1': 3994},\n",
       " {'0': 9971, '1': 10029},\n",
       " {'1': 9933, '0': 10067},\n",
       " {'1': 9951, '0': 10049},\n",
       " {'0': 7476, '1': 12524}]"
      ]
     },
     "execution_count": 163,
     "metadata": {},
     "output_type": "execute_result"
    }
   ],
   "source": [
    "job = qiskit.execute(circs,backend=qcomp, shots=20000)\n",
    "# Esto es para saber cuantos trabajos van antes en la fila y como va el nuestro\n",
    "job_monitor(job)        \n",
    "res = job.result().get_counts()\n",
    "res                     "
   ]
  },
  {
   "cell_type": "code",
   "execution_count": 172,
   "id": "57dc4b92",
   "metadata": {
    "collapsed": true
   },
   "outputs": [
    {
     "data": {
      "text/plain": [
       "array([[ 0.248+0.j   , -0.002+0.002j,  0.001+0.002j,  0.173+0.008j],\n",
       "       [-0.002-0.002j,  0.752+0.j   ,  0.43 +0.j   , -0.001-0.002j],\n",
       "       [ 0.001-0.002j,  0.43 -0.j   ,  0.755+0.j   , -0.001-0.006j],\n",
       "       [ 0.173-0.008j, -0.001+0.002j, -0.001+0.006j,  0.245+0.j   ]])"
      ]
     },
     "execution_count": 172,
     "metadata": {},
     "output_type": "execute_result"
    }
   ],
   "source": [
    "def rho_final(z1,z0,x1,x0,y1,y0):\n",
    "    #Dados los resultados de un circuito medido en las 3 bases,\n",
    "    #Calculamos la matriz de densidad del estado final creado\n",
    "    total = x1+x0\n",
    "    trax = (x0/total) - (x1/total)\n",
    "    tray = (y0/total) - (y1/total)\n",
    "    traz = (z0/total) - (z1/total)\n",
    "    rho = (I+trax*X+tray*Y+traz*Z)/2\n",
    "\n",
    "    \n",
    "    return(np.array(rho))\n",
    "\n",
    "def choi_desde_res(res):\n",
    "    # Obtenemos la matriz de densidad final para los 4 estados de entrada\n",
    "    #El estado 0, el estado 1, el + y el R. \n",
    "    #Los se obtienen en los 12 conteos de los circuitos qpt.\n",
    "    erho0 = rho_final(tomar_elemento(res[0],'1'),tomar_elemento(res[0],'0'),\n",
    "                      tomar_elemento(res[1],'1'),tomar_elemento(res[1],'0'),\n",
    "                    tomar_elemento(res[2],'1'),tomar_elemento(res[2],'0'))\n",
    "    \n",
    "    erho1 = rho_final(tomar_elemento(res[3],'1'),tomar_elemento(res[3],'0'),\n",
    "                      tomar_elemento(res[4],'1'),tomar_elemento(res[4],'0'),\n",
    "                    tomar_elemento(res[5],'1'),tomar_elemento(res[5],'0'))\n",
    "    \n",
    "    erhomas = rho_final(tomar_elemento(res[6],'1'),tomar_elemento(res[6],'0'),\n",
    "                      tomar_elemento(res[7],'1'),tomar_elemento(res[7],'0'),\n",
    "                    tomar_elemento(res[8],'1'),tomar_elemento(res[8],'0'))\n",
    "    \n",
    "    erhoR = rho_final(tomar_elemento(res[9],'1'),tomar_elemento(res[9],'0'),\n",
    "                      tomar_elemento(res[10],'1'),tomar_elemento(res[10],'0'),\n",
    "                    tomar_elemento(res[11],'1'),tomar_elemento(res[11],'0'))\n",
    "    \n",
    "    \n",
    "\n",
    "    #A partir de esto, calculamos la matriz de Choi\n",
    "    #sumando |i><j| \\otimes eps(|i><j|)\n",
    "    #Los eps(|i><j|) se pueden escribir como combinación lineal de los\n",
    "    # calculados en erho0, erho1, erhomas, erhoR,\n",
    "    \n",
    "    choi = np.kron(np.array([[1,0],[0,0]]),erho0)\n",
    "    choi+= np.kron(np.array([[0,1],[0,0]]),\n",
    "    erhomas+1j*erhoR-(1+1j)/2*erho0-(1+1j)/2*erho1)\n",
    "    \n",
    "    choi+= np.kron(np.array([[0,0],[1,0]]),\n",
    "            erhomas-1j*erhoR-(1-1j)/2*erho1-(1-1j)/2*erho0)\n",
    "    \n",
    "    choi+= np.kron(np.array([[0,0],[0,1]]),erho1)\n",
    "    return(qi.Choi(choi))\n",
    "\n",
    "chf = choi_desde_res(res)\n",
    "\n",
    "np.around(chf,3)"
   ]
  },
  {
   "cell_type": "code",
   "execution_count": 173,
   "id": "5eb1b18a",
   "metadata": {
    "collapsed": true
   },
   "outputs": [
    {
     "data": {
      "text/plain": [
       "Choi([[0.25 +0.j, 0.   +0.j, 0.   +0.j, 0.175+0.j],\n",
       "      [0.   +0.j, 0.75 +0.j, 0.425+0.j, 0.   +0.j],\n",
       "      [0.   +0.j, 0.425+0.j, 0.75 +0.j, 0.   +0.j],\n",
       "      [0.175+0.j, 0.   +0.j, 0.   +0.j, 0.25 +0.j]],\n",
       "     input_dims=(2,), output_dims=(2,))"
      ]
     },
     "execution_count": 173,
     "metadata": {},
     "output_type": "execute_result"
    }
   ],
   "source": [
    "ch"
   ]
  },
  {
   "cell_type": "code",
   "execution_count": null,
   "id": "e757af2d",
   "metadata": {},
   "outputs": [],
   "source": [
    "\n",
    "\n",
    "\n"
   ]
  },
  {
   "cell_type": "code",
   "execution_count": null,
   "id": "de1fc09f",
   "metadata": {},
   "outputs": [],
   "source": []
  },
  {
   "cell_type": "markdown",
   "id": "950da797",
   "metadata": {},
   "source": [
    "##### Choi desde resultados"
   ]
  },
  {
   "cell_type": "code",
   "execution_count": 292,
   "id": "39f67a00",
   "metadata": {},
   "outputs": [],
   "source": [
    "def rho_final(z1,z0,x1,x0,y1,y0):\n",
    "    #Dados los resultados de un circuito medido en las 3 bases,\n",
    "    #Calculamos la matriz de densidad del estado final creado\n",
    "    total = x1+x0\n",
    "    trax = (x0/total) - (x1/total)\n",
    "    tray = (y0/total) - (y1/total)\n",
    "    traz = (z0/total) - (z1/total)\n",
    "    rho = (I+trax*X+tray*Y+traz*Z)/2\n",
    "    \n",
    "    return(np.array(rho))\n",
    "\n",
    "\n",
    "\n",
    "def tomar_elemento(dic,key):\n",
    "    #Función para tomar un elemento de un diccionario sin obtener error\n",
    "    # si la key que se busca no existe, sino que da como resultado 0.\n",
    "    if key in dic:\n",
    "        return(dic[key])\n",
    "    else:\n",
    "        return(0)\n",
    "    \n",
    "    \n",
    "def choi_desde_res(res):\n",
    "    # Obtenemos la matriz de densidad final para los 4 estados de entrada\n",
    "    #El estado 0, el estado 1, el + y el R. \n",
    "    #Los se obtienen en los 12 conteos de los circuitos qpt.\n",
    "    erho0 = rho_final(tomar_elemento(res[0],'1'),tomar_elemento(res[0],'0'),\n",
    "                      tomar_elemento(res[1],'1'),tomar_elemento(res[1],'0'),\n",
    "                    tomar_elemento(res[2],'1'),tomar_elemento(res[2],'0'))\n",
    "    \n",
    "    erho1 = rho_final(tomar_elemento(res[3],'1'),tomar_elemento(res[3],'0'),\n",
    "                      tomar_elemento(res[4],'1'),tomar_elemento(res[4],'0'),\n",
    "                    tomar_elemento(res[5],'1'),tomar_elemento(res[5],'0'))\n",
    "    \n",
    "    erhomas = rho_final(tomar_elemento(res[6],'1'),tomar_elemento(res[6],'0'),\n",
    "                      tomar_elemento(res[7],'1'),tomar_elemento(res[7],'0'),\n",
    "                    tomar_elemento(res[8],'1'),tomar_elemento(res[8],'0'))\n",
    "    \n",
    "    erhoR = rho_final(tomar_elemento(res[9],'1'),tomar_elemento(res[9],'0'),\n",
    "                      tomar_elemento(res[10],'1'),tomar_elemento(res[10],'0'),\n",
    "                    tomar_elemento(res[11],'1'),tomar_elemento(res[11],'0'))\n",
    "    \n",
    "    \n",
    "\n",
    "    #A partir de esto, calculamos la matriz de Choi\n",
    "    #sumando |i><j| \\otimes eps(|i><j|)\n",
    "    #Los eps(|i><j|) se pueden escribir como combinación lineal de los\n",
    "    # calculados en erho0, erho1, erhomas, erhoR,\n",
    "    \n",
    "    choi = np.kron(np.array([[1,0],[0,0]]),erho0)\n",
    "    choi+= np.kron(np.array([[0,1],[0,0]]),\n",
    "    erhomas+1j*erhoR-(1+1j)/2*erho0-(1+1j)/2*erho1)\n",
    "    \n",
    "    choi+= np.kron(np.array([[0,0],[1,0]]),\n",
    "            erhomas-1j*erhoR-(1-1j)/2*erho1-(1-1j)/2*erho0)\n",
    "    \n",
    "    choi+= np.kron(np.array([[0,0],[0,1]]),erho1)\n",
    "    return(qi.Choi(choi))\n"
   ]
  },
  {
   "cell_type": "code",
   "execution_count": 293,
   "id": "33550485",
   "metadata": {},
   "outputs": [],
   "source": [
    "import pandas as pd\n",
    "\n",
    "def crear_dict(df):\n",
    "    d = []\n",
    "    lista = np.array(df)\n",
    "    for a in lista:\n",
    "        d.append({'0': a[0], '1': a[1]})\n",
    "    return(d)\n",
    "\n",
    "\n",
    "def fidelidades(direction,lista):\n",
    "    resultados_bin = pd.read_csv(direction + \"/Resultados-Binarios.csv\")\n",
    "    strin = direction+\"/fidelidades.csv\"\n",
    "    \n",
    "    with open(strin,\"w\") as f:\n",
    "        f.write(\"lambda1, lambda2, lambda3, fidelidad\")\n",
    "    \n",
    "    for i, lam in enumerate(lista):\n",
    "        resul_i = resultados_bin.iloc[12*i:12*i+12]\n",
    "        d = crear_dict(resul_i)\n",
    "        \n",
    "        choi_obj = choi_objetivo(lam)\n",
    "        choi_compu = choi_desde_res(d)\n",
    "        \n",
    "        fid =qi.process_fidelity(qi.Choi(choi_compu),target=choi_obj)\n",
    "        \n",
    "        \n",
    "        data = (lam[0],lam[1],lam[2],fid)\n",
    "        \n",
    "        with open(strin,\"a\") as f:\n",
    "            f.write(\"\\n\"+str(data[0])+\",\" + str(data[1])+\",\"+str(data[2])+\",\"+str(data[3]))\n",
    "\n",
    "            \n",
    "            \n",
    "def fidelidades_proba(direction,lista):\n",
    "    resultados_bin = pd.read_csv(direction + \"/Resultados-Binarios.csv\")\n",
    "    strin = direction+\"/fidelidades_diam1.csv\"\n",
    "    \n",
    "    with open(strin,\"w\") as f:\n",
    "        f.write(\"lambda1, lambda2, lambda3, fidelidad\")\n",
    "    \n",
    "    for i, lam in enumerate(lista):\n",
    "        resul_i = resultados_bin.iloc[12*i:12*i+12]\n",
    "        d = crear_dict(resul_i)\n",
    "        \n",
    "        choi_obj = choi_objetivo(lam)\n",
    "        choi_compu = choi_desde_res(d)\n",
    "        \n",
    "        fid =qi.diamond_norm(qi.Choi(choi_compu)-choi_obj)\n",
    "        \n",
    "        proba= 1/2+1/4*fid\n",
    "        data = (lam[0],lam[1],lam[2],proba)\n",
    "        \n",
    "        with open(strin,\"a\") as f:\n",
    "            f.write(\"\\n\"+str(data[0])+\",\" + str(data[1])+\",\"+str(data[2])+\",\"+str(data[3]))\n",
    "\n",
    "\n",
    "            \n",
    "def fidelidades_diam(direction,lista):\n",
    "    resultados_bin = pd.read_csv(direction + \"/Resultados-Binarios.csv\")\n",
    "    strin = direction+\"/fidelidades_diam1.csv\"\n",
    "    \n",
    "    with open(strin,\"w\") as f:\n",
    "        f.write(\"lambda1, lambda2, lambda3, fidelidad\")\n",
    "    \n",
    "    for i, lam in enumerate(lista):\n",
    "        resul_i = resultados_bin.iloc[12*i:12*i+12]\n",
    "        d = crear_dict(resul_i)\n",
    "        \n",
    "        choi_obj = choi_objetivo(lam)\n",
    "        choi_compu = choi_desde_res(d)\n",
    "        \n",
    "        fid =qi.diamond_norm(qi.Choi(choi_compu)-choi_obj)\n",
    "        \n",
    "        data = (lam[0],lam[1],lam[2],1-0.5*fid)\n",
    "        \n",
    "        with open(strin,\"a\") as f:\n",
    "            f.write(\"\\n\"+str(data[0])+\",\" + str(data[1])+\",\"+str(data[2])+\",\"+str(data[3]))\n",
    "\n",
    "   \n"
   ]
  },
  {
   "cell_type": "code",
   "execution_count": 332,
   "id": "b6f0ae0b",
   "metadata": {},
   "outputs": [
    {
     "name": "stdout",
     "output_type": "stream",
     "text": [
      "170\n"
     ]
    }
   ],
   "source": [
    "lista =crear_puntos(22,-0.5)\n",
    "print(len(lista))"
   ]
  },
  {
   "cell_type": "code",
   "execution_count": 333,
   "id": "6aa35fe9",
   "metadata": {},
   "outputs": [],
   "source": [
    "fidelidades_diam(\"Resultados/ibmq_limaz=-0.5\",lista)\n"
   ]
  },
  {
   "cell_type": "markdown",
   "id": "9b484e1e",
   "metadata": {},
   "source": [
    "## Dibujar"
   ]
  },
  {
   "cell_type": "code",
   "execution_count": 334,
   "id": "166e875e",
   "metadata": {},
   "outputs": [
    {
     "name": "stderr",
     "output_type": "stream",
     "text": [
      "C:\\Users\\tbasi\\AppData\\Local\\Temp\\ipykernel_10540\\2037186507.py:56: MatplotlibDeprecationWarning: Unable to determine Axes to steal space for Colorbar. Using gca(), but will raise in the future. Either provide the *cax* argument to use as the Axes for the Colorbar, provide the *ax* argument to steal space from it, or add *mappable* to an Axes.\n",
      "  cb = fig.colorbar(colmap)\n"
     ]
    },
    {
     "data": {
      "image/png": "[encoded data removed]",
      "text/plain": [
       "<Figure size 640x480 with 2 Axes>"
      ]
     },
     "metadata": {},
     "output_type": "display_data"
    }
   ],
   "source": [
    "import matplotlib.pyplot as plt\n",
    "import numpy as np\n",
    "\n",
    "%matplotlib inline\n",
    "import csv\n",
    "from matplotlib import cm\n",
    "def graficar(documento): \n",
    "    file = open(documento)\n",
    "    csvreader = csv.reader(file)\n",
    "    \n",
    "    fig = plt.figure()\n",
    "    ax = plt.axes(projection='3d')\n",
    "        \n",
    "    ax.plot([1,1],[1,-1],[1,-1],'k')\n",
    "    ax.plot([1,-1],[1,1],[1,-1],'k--')\n",
    "    ax.plot([1,-1],[1,-1],[1,1],'k')\n",
    "    ax.plot([-1,1],[1,-1],[-1,-1],'k--')\n",
    "    ax.plot([-1,-1],[1,-1],[-1,1],'k--')\n",
    "    ax.plot([1,-1],[-1,-1],[-1,1],'k')\n",
    "    #     plt.plot(0,0,0,'ko')\n",
    "\n",
    "    ax.text(1,1,1,'$\\sigma_0$',size=15)\n",
    "    ax.text(1,-1,-1,'$\\sigma_1$',size=15)\n",
    "    ax.text(-1,1,-1,'$\\sigma_2$',size=15)\n",
    "    ax.text(-1,-1,1,'$\\sigma_3$',size=15)\n",
    "#     ax.text(0,0,0,'O',size=20)\n",
    "\n",
    "    ax.set_xlabel(r'$\\tau_1$', fontsize=15)\n",
    "    ax.set_ylabel(r'$\\tau_2$',fontsize=15)\n",
    "\n",
    "    plt.xticks([-1,0,1],fontsize=10)\n",
    "    plt.yticks([-1,0,1],fontsize=10)\n",
    "    ax.set_zticks([-1, 0, 1])\n",
    "    ax.set_zticklabels([-1,0,1],fontsize=10)\n",
    "    ax.set_zlabel(r'$\\tau_3$', fontsize=15, rotation = 0)\n",
    "\n",
    "\n",
    "    xs = []\n",
    "    ys = []\n",
    "    zs = []\n",
    "    four= []\n",
    "    for row in csvreader:\n",
    "        if row[0] == 'lambda1':\n",
    "            continue\n",
    "        xs.append(float(row[0]))\n",
    "        ys.append(float(row[1]))\n",
    "        zs.append(float(row[2]))\n",
    "        four.append(float(row[3]))\n",
    "        \n",
    "    colors = cm.viridis((np.array(four)-min(four))/(max(four)-min(four)))\n",
    "    colmap = cm.ScalarMappable(cmap=cm.viridis)\n",
    "    colmap.set_array(four)\n",
    "    \n",
    "    \n",
    "    yg = ax.scatter(xs, ys, zs, c=colors, marker='o',s=80)\n",
    "    cb = fig.colorbar(colmap)\n",
    "    cb.ax.tick_params(labelsize=15) \n",
    "    \n",
    "    cb.ax.set_title(\"$p_{succ}$\",fontsize=18)\n",
    "    ax.view_init(6,290)\n",
    "\n",
    "    plt.show()\n",
    "\n",
    "graficar('Resultados/ibmq_limatetra9/fidelidades_diam1.csv')"
   ]
  },
  {
   "cell_type": "code",
   "execution_count": null,
   "id": "c3ad70f6",
   "metadata": {},
   "outputs": [],
   "source": []
  },
  {
   "cell_type": "code",
   "execution_count": 339,
   "id": "3fb0186b",
   "metadata": {},
   "outputs": [
    {
     "name": "stdout",
     "output_type": "stream",
     "text": [
      "[0.0]\n"
     ]
    },
    {
     "name": "stderr",
     "output_type": "stream",
     "text": [
      "C:\\Users\\tbasi\\AppData\\Local\\Temp\\ipykernel_10540\\249073413.py:57: MatplotlibDeprecationWarning: Unable to determine Axes to steal space for Colorbar. Using gca(), but will raise in the future. Either provide the *cax* argument to use as the Axes for the Colorbar, provide the *ax* argument to steal space from it, or add *mappable* to an Axes.\n",
      "  cb = fig.colorbar(colmap)\n"
     ]
    },
    {
     "data": {
      "image/png": "[encoded data removed]",
      "text/plain": [
       "<Figure size 640x480 with 2 Axes>"
      ]
     },
     "metadata": {},
     "output_type": "display_data"
    }
   ],
   "source": [
    "%matplotlib inline\n",
    "\n",
    "from matplotlib import cm\n",
    "\n",
    "file = open('Resultados/ibmq_limaz=0/fidelidades_diam1.csv')\n",
    "csvreader = csv.reader(file)\n",
    "xs = []\n",
    "ys = []\n",
    "zs = []\n",
    "trio=[]\n",
    "color = []\n",
    "for row in csvreader:\n",
    "    if row[0] == 'lambda1':\n",
    "        continue\n",
    "    xs.append(float(row[0]))\n",
    "    ys.append(float(row[1]))\n",
    "    zs.append(float(row[2]))\n",
    "    trio.append([float(row[0]),float(row[1]),float(row[2]),\n",
    "#                  (((1-float(row[3]))*2*1)*1.25-0.301)/0.621])\n",
    "#                  cm.rainbow_r( (((1-float(row[3]))*2*1)*1.25-0.301)/0.621)   ])\n",
    "                 cm.rainbow_r((float(row[3])-0.5846)/(0.9356-0.5846))])\n",
    "\n",
    "setz = sorted(set(zs))\n",
    "print(setz)\n",
    "i=1\n",
    "\n",
    "for z in setz:\n",
    "    fig,ax = plt.subplots()\n",
    "\n",
    "    for obj in trio:\n",
    "        if z == obj[2]:\n",
    "            plt.plot(obj[0],obj[1],marker='o',c=obj[3],markersize=14)\n",
    "            \n",
    "    plt.xticks([-1,1],fontsize=1)\n",
    "    ax.tick_params(axis=\"x\",direction=\"in\",pad=-20)\n",
    "    plt.yticks([-1,1],fontsize=1)\n",
    "    ax.tick_params(axis=\"y\",direction=\"in\",pad=-20)\n",
    "    \n",
    "    plt.text(-0.2,-1,r'$\\tau_1$',fontsize=18)\n",
    "    plt.text(-1.05,-0.1,r'$\\tau_2$',fontsize=18)\n",
    "    plt.text(-1.05,0.95,\"1\",fontsize=15)\n",
    "    plt.text(-1.05,-1.02,\"-1\",fontsize=15)\n",
    "    plt.text(0.97,-1.02,\"1\",fontsize=15)\n",
    "    \n",
    "#     plt.xlabel(r\"$\\tau_1$\",fontsize=20)\n",
    "#     plt.ylabel(r\"$\\tau_2$\",fontsize=20)\n",
    "\n",
    "    plt.xlim([-1.1,1.1])\n",
    "    plt.ylim([-1.1,1.1])\n",
    "    \n",
    "    plt.text(-0.8,0.85,r'Cut with $\\tau_3 = $' + str(np.around(z,3)),fontsize=18)\n",
    "#     plt.title(r'Cut with $\\tau_3 = $' + str(np.around(z,3)),fontsize=18)\n",
    "    \n",
    "    colmap = cm.ScalarMappable(cmap=cm.rainbow_r)\n",
    "    colmap.set_array([0.301,0.922])\n",
    "    \n",
    "    cb = fig.colorbar(colmap)\n",
    "#     cb.ax.tick_params(labelsize=10) \n",
    "    \n",
    "#     cb.ax.set_title(\"$f$\",fontsize=18)\n",
    "    \n",
    "#     plt.savefig('imagenes-tetra/'+'Corte ' + 'z cte'+str(i)+'.png')\n",
    "    plt.show()\n",
    "    i+=1\n"
   ]
  },
  {
   "cell_type": "code",
   "execution_count": null,
   "id": "e06b96be",
   "metadata": {},
   "outputs": [],
   "source": []
  },
  {
   "cell_type": "code",
   "execution_count": 345,
   "id": "e212cf64",
   "metadata": {
    "scrolled": false
   },
   "outputs": [
    {
     "data": {
      "image/png": "[encoded data removed]",
      "text/plain": [
       "<Figure size 640x480 with 1 Axes>"
      ]
     },
     "metadata": {},
     "output_type": "display_data"
    }
   ],
   "source": [
    "import matplotlib.transforms as mtransforms\n",
    "\n",
    "\n",
    "from matplotlib import cm\n",
    "\n",
    "file = open('Resultados/ibmq_limaz=0/fidelidades_diam1.csv')\n",
    "csvreader = csv.reader(file)\n",
    "xs = []\n",
    "ys = []\n",
    "zs = []\n",
    "trio=[]\n",
    "color = []\n",
    "for row in csvreader:\n",
    "    if row[0] == 'lambda1':\n",
    "        continue\n",
    "    xs.append(float(row[0]))\n",
    "    ys.append(float(row[1]))\n",
    "    zs.append(float(row[2]))\n",
    "    trio.append([float(row[0]),float(row[1]),float(row[2]),\n",
    "                 (float(row[3])-0.5846)/(0.9356-0.5846)])\n",
    "                 \n",
    "                 \n",
    "\n",
    "def do_plot(ax, Z, transform):\n",
    "    im = ax.imshow(Z, interpolation='none',\n",
    "                   origin='lower',\n",
    "                   extent=[0, 1, 0, 1], clip_on=True,\n",
    "                   cmap =cm.rainbow_r,\n",
    "                  vmin=0,\n",
    "                  vmax=1)\n",
    "\n",
    "    trans_data = transform + ax.transData\n",
    "    im.set_transform(trans_data)\n",
    "\n",
    "    # display intended extent of the image\n",
    "    x1, x2, y1, y2 = im.get_extent()\n",
    "#     ax.plot([x1, x2, x2, x1, x1], [y1, y1, y2, y2, y1],\n",
    "#             transform=trans_data)\n",
    "    ax.set_xlim(-1, 1)\n",
    "    ax.set_ylim(-1, 1)\n",
    "    \n",
    "tz = 0\n",
    "    \n",
    "def transformacion(x,y,tz):\n",
    "    res1 = x*(1-tz) + y * (1+tz) - 1\n",
    "    res2 = x*(tz-1) + y*(1+tz) - tz\n",
    "    \n",
    "    return(res1,res2)\n",
    "    \n",
    "    \n",
    "ny = 12\n",
    "nx = 12\n",
    "\n",
    "\n",
    "def mas_cercano(px,py):\n",
    "    mini = 1000\n",
    "    for  i in range(len(xs)):\n",
    "        punto = [xs[i],ys[i]]\n",
    "        distancia = (px-xs[i])**2 + (py-ys[i])**2   \n",
    "        \n",
    "        if distancia < mini:\n",
    "            mini = distancia\n",
    "            mejor_i = i\n",
    "    return(trio[mejor_i][-1])\n",
    "        \n",
    "mat = np.zeros((nx,ny))\n",
    "for i in range(nx):\n",
    "    for j in range(ny):\n",
    "        px,py = transformacion(i/nx, j/ny,tz)\n",
    "        \n",
    "        mat[i][j] = mas_cercano(px,py)\n",
    "        \n",
    "\n",
    "        \n",
    "fig, ax = plt.subplots(1,1)\n",
    "\n",
    "do_plot(ax, mat, mtransforms.Affine2D().scale(np.sqrt(2)*(tz+1),np.sqrt(2)*(tz-1)).rotate_deg(45).translate(-1,-tz))\n",
    "\n",
    "plt.xticks([-1,1],fontsize=15)\n",
    "# ax.tick_params(axis=\"x\",direction=\"in\",pad=-2)\n",
    "plt.yticks([-1,1],fontsize=15)\n",
    "# ax.tick_params(axis=\"y\",direction=\"in\",pad=-20)\n",
    "    \n",
    "# plt.text(-0.2,-1,r'$\\tau_1$',fontsize=18)\n",
    "# plt.text(-1.05,-0.15,r'$\\tau_2$',fontsize=18)\n",
    "# plt.text(-1.05,0.95,\"1\",fontsize=15)\n",
    "# plt.text(-1.05,-1.02,\"-1\",fontsize=15)\n",
    "# plt.text(0.97,-1.02,\"1\",fontsize=15)\n",
    "    \n",
    "plt.xlabel(r\"$\\tau_1$\",fontsize=18)\n",
    "plt.ylabel(r\"$\\tau_2$\",fontsize=18)\n",
    "ax.xaxis.set_label_coords(0.5, -.01)\n",
    "ax.yaxis.set_label_coords(-0.01, 0.5)\n",
    "\n",
    "\n",
    "plt.xlim([-1.1,1.1])\n",
    "plt.ylim([-1.1,1.1])\n",
    "    \n",
    "plt.text(-0.9,0.85,r'$\\tau_3 = 0$' \n",
    "# plt.text(0.3,0.85,r'$\\tau_3 =-0.5$' \n",
    "\n",
    "         #+ str(np.around(tz,3)),\n",
    "         ,fontsize=18)\n",
    "\n",
    "plt.show()\n"
   ]
  },
  {
   "cell_type": "code",
   "execution_count": 103,
   "id": "23fa7f95",
   "metadata": {},
   "outputs": [
    {
     "data": {
      "text/plain": [
       "-0.04376979079977427"
      ]
     },
     "execution_count": 103,
     "metadata": {},
     "output_type": "execute_result"
    }
   ],
   "source": [
    "# 0.5  15,8\n",
    "# -0.5 8,15    0.95\n",
    "# 0 12,12      0.97\n",
    "# -1  8,50    0.93\n",
    "# 1 50,8\n",
    " "
   ]
  },
  {
   "cell_type": "code",
   "execution_count": 42,
   "id": "e704f462",
   "metadata": {},
   "outputs": [
    {
     "data": {
      "text/plain": [
       "[-0.9047619047619048,\n",
       " -0.9047619047619048,\n",
       " -0.8095238095238095,\n",
       " -0.8095238095238095,\n",
       " -0.8095238095238095,\n",
       " -0.8095238095238095,\n",
       " -0.7142857142857143,\n",
       " -0.7142857142857143,\n",
       " -0.7142857142857143,\n",
       " -0.7142857142857143,\n",
       " -0.7142857142857143,\n",
       " -0.7142857142857143,\n",
       " -0.6190476190476191,\n",
       " -0.6190476190476191,\n",
       " -0.6190476190476191,\n",
       " -0.6190476190476191,\n",
       " -0.6190476190476191,\n",
       " -0.6190476190476191,\n",
       " -0.6190476190476191,\n",
       " -0.6190476190476191,\n",
       " -0.5238095238095238,\n",
       " -0.5238095238095238,\n",
       " -0.5238095238095238,\n",
       " -0.5238095238095238,\n",
       " -0.5238095238095238,\n",
       " -0.5238095238095238,\n",
       " -0.5238095238095238,\n",
       " -0.5238095238095238,\n",
       " -0.5238095238095238,\n",
       " -0.5238095238095238,\n",
       " -0.4285714285714286,\n",
       " -0.4285714285714286,\n",
       " -0.4285714285714286,\n",
       " -0.4285714285714286,\n",
       " -0.4285714285714286,\n",
       " -0.4285714285714286,\n",
       " -0.4285714285714286,\n",
       " -0.4285714285714286,\n",
       " -0.4285714285714286,\n",
       " -0.4285714285714286,\n",
       " -0.4285714285714286,\n",
       " -0.33333333333333337,\n",
       " -0.33333333333333337,\n",
       " -0.33333333333333337,\n",
       " -0.33333333333333337,\n",
       " -0.33333333333333337,\n",
       " -0.33333333333333337,\n",
       " -0.33333333333333337,\n",
       " -0.33333333333333337,\n",
       " -0.33333333333333337,\n",
       " -0.33333333333333337,\n",
       " -0.33333333333333337,\n",
       " -0.23809523809523814,\n",
       " -0.23809523809523814,\n",
       " -0.23809523809523814,\n",
       " -0.23809523809523814,\n",
       " -0.23809523809523814,\n",
       " -0.23809523809523814,\n",
       " -0.23809523809523814,\n",
       " -0.23809523809523814,\n",
       " -0.23809523809523814,\n",
       " -0.23809523809523814,\n",
       " -0.23809523809523814,\n",
       " -0.1428571428571429,\n",
       " -0.1428571428571429,\n",
       " -0.1428571428571429,\n",
       " -0.1428571428571429,\n",
       " -0.1428571428571429,\n",
       " -0.1428571428571429,\n",
       " -0.1428571428571429,\n",
       " -0.1428571428571429,\n",
       " -0.1428571428571429,\n",
       " -0.1428571428571429,\n",
       " -0.1428571428571429,\n",
       " -0.04761904761904767,\n",
       " -0.04761904761904767,\n",
       " -0.04761904761904767,\n",
       " -0.04761904761904767,\n",
       " -0.04761904761904767,\n",
       " -0.04761904761904767,\n",
       " -0.04761904761904767,\n",
       " -0.04761904761904767,\n",
       " -0.04761904761904767,\n",
       " -0.04761904761904767,\n",
       " -0.04761904761904767,\n",
       " 0.04761904761904745,\n",
       " 0.04761904761904745,\n",
       " 0.04761904761904745,\n",
       " 0.04761904761904745,\n",
       " 0.04761904761904745,\n",
       " 0.04761904761904745,\n",
       " 0.04761904761904745,\n",
       " 0.04761904761904745,\n",
       " 0.04761904761904745,\n",
       " 0.04761904761904745,\n",
       " 0.04761904761904745,\n",
       " 0.1428571428571428,\n",
       " 0.1428571428571428,\n",
       " 0.1428571428571428,\n",
       " 0.1428571428571428,\n",
       " 0.1428571428571428,\n",
       " 0.1428571428571428,\n",
       " 0.1428571428571428,\n",
       " 0.1428571428571428,\n",
       " 0.1428571428571428,\n",
       " 0.1428571428571428,\n",
       " 0.1428571428571428,\n",
       " 0.23809523809523814,\n",
       " 0.23809523809523814,\n",
       " 0.23809523809523814,\n",
       " 0.23809523809523814,\n",
       " 0.23809523809523814,\n",
       " 0.23809523809523814,\n",
       " 0.23809523809523814,\n",
       " 0.23809523809523814,\n",
       " 0.23809523809523814,\n",
       " 0.23809523809523814,\n",
       " 0.23809523809523814,\n",
       " 0.33333333333333326,\n",
       " 0.33333333333333326,\n",
       " 0.33333333333333326,\n",
       " 0.33333333333333326,\n",
       " 0.33333333333333326,\n",
       " 0.33333333333333326,\n",
       " 0.33333333333333326,\n",
       " 0.33333333333333326,\n",
       " 0.33333333333333326,\n",
       " 0.33333333333333326,\n",
       " 0.33333333333333326,\n",
       " 0.4285714285714284,\n",
       " 0.4285714285714284,\n",
       " 0.4285714285714284,\n",
       " 0.4285714285714284,\n",
       " 0.4285714285714284,\n",
       " 0.4285714285714284,\n",
       " 0.4285714285714284,\n",
       " 0.4285714285714284,\n",
       " 0.4285714285714284,\n",
       " 0.4285714285714284,\n",
       " 0.4285714285714284,\n",
       " 0.5238095238095237,\n",
       " 0.5238095238095237,\n",
       " 0.5238095238095237,\n",
       " 0.5238095238095237,\n",
       " 0.5238095238095237,\n",
       " 0.5238095238095237,\n",
       " 0.5238095238095237,\n",
       " 0.5238095238095237,\n",
       " 0.5238095238095237,\n",
       " 0.5238095238095237,\n",
       " 0.6190476190476191,\n",
       " 0.6190476190476191,\n",
       " 0.6190476190476191,\n",
       " 0.6190476190476191,\n",
       " 0.6190476190476191,\n",
       " 0.6190476190476191,\n",
       " 0.6190476190476191,\n",
       " 0.6190476190476191,\n",
       " 0.7142857142857142,\n",
       " 0.7142857142857142,\n",
       " 0.7142857142857142,\n",
       " 0.7142857142857142,\n",
       " 0.7142857142857142,\n",
       " 0.7142857142857142,\n",
       " 0.8095238095238093,\n",
       " 0.8095238095238093,\n",
       " 0.8095238095238093,\n",
       " 0.8095238095238093,\n",
       " 0.9047619047619047,\n",
       " 0.9047619047619047]"
      ]
     },
     "execution_count": 42,
     "metadata": {},
     "output_type": "execute_result"
    }
   ],
   "source": [
    "xs"
   ]
  },
  {
   "cell_type": "code",
   "execution_count": null,
   "id": "9c33e317",
   "metadata": {},
   "outputs": [],
   "source": []
  },
  {
   "cell_type": "code",
   "execution_count": null,
   "id": "46560c38",
   "metadata": {},
   "outputs": [],
   "source": []
  },
  {
   "cell_type": "code",
   "execution_count": 73,
   "id": "fd1dab80",
   "metadata": {},
   "outputs": [
    {
     "name": "stdout",
     "output_type": "stream",
     "text": [
      "[1.0]\n"
     ]
    },
    {
     "name": "stderr",
     "output_type": "stream",
     "text": [
      "C:\\Users\\tbasi\\AppData\\Local\\Temp\\ipykernel_12792\\4009705603.py:56: MatplotlibDeprecationWarning: Unable to determine Axes to steal space for Colorbar. Using gca(), but will raise in the future. Either provide the *cax* argument to use as the Axes for the Colorbar, provide the *ax* argument to steal space from it, or add *mappable* to an Axes.\n",
      "  cb = fig.colorbar(colmap)\n"
     ]
    },
    {
     "data": {
      "image/png": "[encoded data removed]",
      "text/plain": [
       "<Figure size 640x480 with 2 Axes>"
      ]
     },
     "metadata": {},
     "output_type": "display_data"
    }
   ],
   "source": [
    "%matplotlib inline\n",
    "\n",
    "from matplotlib import cm\n",
    "\n",
    "file = open('Resultados/ibmq_limaz=1/fidelidades_diam1.csv')\n",
    "csvreader = csv.reader(file)\n",
    "xs = []\n",
    "ys = []\n",
    "zs = []\n",
    "trio=[]\n",
    "color = []\n",
    "for row in csvreader:\n",
    "    if row[0] == 'lambda1':\n",
    "        continue\n",
    "    xs.append(float(row[0]))\n",
    "    ys.append(float(row[1]))\n",
    "    zs.append(float(row[2]))\n",
    "    trio.append([float(row[0]),float(row[1]),float(row[2]),\n",
    "                 cm.rainbow_r( (((1-float(row[3]))*2*1)*1.25-0.301)/0.621)   ])\n",
    "\n",
    "\n",
    "setz = sorted(set(zs))\n",
    "print(setz)\n",
    "i=1\n",
    "\n",
    "for z in setz:\n",
    "    fig,ax = plt.subplots()\n",
    "\n",
    "    for obj in trio:\n",
    "        if z == obj[2]:\n",
    "            plt.plot(obj[0],obj[1],marker='o',c=obj[3],markersize=14)\n",
    "            \n",
    "    plt.xticks([-1,1],fontsize=1)\n",
    "    ax.tick_params(axis=\"x\",direction=\"in\",pad=-20)\n",
    "    plt.yticks([-1,1],fontsize=1)\n",
    "    ax.tick_params(axis=\"y\",direction=\"in\",pad=-20)\n",
    "    \n",
    "    plt.text(-0.2,-1,r'$\\tau_1$',fontsize=18)\n",
    "    plt.text(-1.05,-0.1,r'$\\tau_2$',fontsize=18)\n",
    "    plt.text(-1.05,0.95,\"1\",fontsize=15)\n",
    "    plt.text(-1.05,-1.02,\"-1\",fontsize=15)\n",
    "    plt.text(0.97,-1.02,\"1\",fontsize=15)\n",
    "    \n",
    "#     plt.xlabel(r\"$\\tau_1$\",fontsize=20)\n",
    "#     plt.ylabel(r\"$\\tau_2$\",fontsize=20)\n",
    "\n",
    "    plt.xlim([-1.1,1.1])\n",
    "    plt.ylim([-1.1,1.1])\n",
    "    \n",
    "    plt.text(-0.8,0.85,r'Cut with $\\tau_3 = $' + str(np.around(z,3)),fontsize=18)\n",
    "#     plt.title(r'Cut with $\\tau_3 = $' + str(np.around(z,3)),fontsize=18)\n",
    "    \n",
    "    colmap = cm.ScalarMappable(cmap=cm.rainbow_r)\n",
    "    colmap.set_array([0.301,0.922])\n",
    "    \n",
    "    cb = fig.colorbar(colmap)\n",
    "    cb.ax.tick_params(labelsize=10) \n",
    "    \n",
    "    cb.ax.set_title(\"$f$\",fontsize=18)\n",
    "    \n",
    "#     plt.savefig('imagenes-tetra/'+'Corte ' + 'z cte'+str(i)+'.png')\n",
    "    plt.show()\n",
    "    i+=1\n"
   ]
  },
  {
   "cell_type": "code",
   "execution_count": null,
   "id": "0f639e38",
   "metadata": {},
   "outputs": [],
   "source": []
  }
 ],
 "metadata": {
  "kernelspec": {
   "display_name": "Python 3 (ipykernel)",
   "language": "python",
   "name": "python3"
  },
  "language_info": {
   "codemirror_mode": {
    "name": "ipython",
    "version": 3
   },
   "file_extension": ".py",
   "mimetype": "text/x-python",
   "name": "python",
   "nbconvert_exporter": "python",
   "pygments_lexer": "ipython3",
   "version": "3.10.11"
  }
 },
 "nbformat": 4,
 "nbformat_minor": 5
}
