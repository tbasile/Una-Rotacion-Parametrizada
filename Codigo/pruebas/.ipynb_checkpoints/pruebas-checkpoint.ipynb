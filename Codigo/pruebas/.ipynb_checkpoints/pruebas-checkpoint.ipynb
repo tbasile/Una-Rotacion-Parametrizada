{
 "cells": [
  {
   "cell_type": "code",
   "execution_count": 48,
   "id": "c9ade81d",
   "metadata": {
    "scrolled": true
   },
   "outputs": [],
   "source": [
    "#Importamos algunas cosas\n",
    "\n",
    "import numpy as np\n",
    "import matplotlib.pyplot as plt\n",
    "\n",
    "from qiskit.providers.ibmq import least_busy\n",
    "import qiskit\n",
    "from qiskit.visualization import plot_histogram\n",
    "\n",
    "# Needed for functions\n",
    "import time\n",
    "\n",
    "import qiskit.quantum_info as qi\n",
    "from qiskit.providers.aer import noise\n",
    "from qiskit.compiler import assemble\n",
    "\n",
    "from qiskit.ignis.verification.tomography import state_tomography_circuits, StateTomographyFitter\n",
    "from qiskit.ignis.verification.tomography import process_tomography_circuits, ProcessTomographyFitter\n",
    "from qiskit.circuit.library import XGate, YGate, ZGate, U1Gate\n",
    "\n",
    "from qiskit.quantum_info import Choi, Kraus, Operator\n",
    "from qiskit.extensions import HGate, XGate\n",
    "import qiskit.quantum_info.operators.channel.transformations as qtrans\n",
    "import itertools\n",
    "import csv\n",
    "from qiskit.tools.monitor import job_monitor\n",
    "\n",
    "from qiskit import QuantumCircuit, QuantumRegister,execute, Aer\n",
    "\n",
    "\n",
    "\n",
    "#Definimos las matrices de Pauli\n",
    "I = np.array([[1,0],[0,1]])\n",
    "X = np.array([[0,1],[1,0]])\n",
    "Y = np.array([[0,-1j],[1j,0]])\n",
    "Z = np.array([[1,0],[0,-1]])"
   ]
  },
  {
   "cell_type": "code",
   "execution_count": 15,
   "id": "0ab47b8b",
   "metadata": {},
   "outputs": [
    {
     "name": "stderr",
     "output_type": "stream",
     "text": [
      "ibmqfactory.load_account:WARNING:2023-05-05 17:35:01,455: Credentials are already in use. The existing account in the session will be replaced.\n"
     ]
    }
   ],
   "source": [
    "# Primero iniciamos sesion\n",
    "from qiskit import IBMQ\n",
    "# Cargando cuenta de IBM (para realizar esto es necesaria una cuenta de IBM, preferiblemente esta sección se peude cargar desde IBM quantum lab)\n",
    "provider = IBMQ.load_account()\n",
    "provider = IBMQ.get_provider('ibm-q')\n",
    "\n",
    "#Entrar aqui https://quantum-computing.ibm.com/\n",
    "#con el correo @ciencias para ver los trabajos enviados y demás"
   ]
  },
  {
   "cell_type": "code",
   "execution_count": 16,
   "id": "7c4a7f8b",
   "metadata": {},
   "outputs": [
    {
     "name": "stdout",
     "output_type": "stream",
     "text": [
      "     \n",
      "q_0: \n",
      "     \n",
      "q_1: \n",
      "     \n",
      "q_2: \n",
      "     \n"
     ]
    }
   ],
   "source": [
    "qreg_q = QuantumRegister(3, 'q')  #3 registros cuánticos\n",
    "\n",
    "circ = QuantumCircuit(qreg_q)\n",
    "print(circ)"
   ]
  },
  {
   "cell_type": "code",
   "execution_count": 32,
   "id": "2593c72b",
   "metadata": {},
   "outputs": [],
   "source": [
    "def crear_puntos(cantidad):\n",
    "    '''Crear puntos en el tetraedro'''\n",
    "    conjunto=[]\n",
    "\n",
    "    #Creamos los puntos de lambdas 1, 2 y 3.\n",
    "    l1s = np.linspace(-1,1,cantidad)\n",
    "    l2s = np.linspace(-1,1,cantidad)\n",
    "    l3s = np.linspace(-1,1,cantidad)\n",
    "\n",
    "    #Vamos iterando sobre cada punto\n",
    "    for elem in itertools.product(l1s,l2s,l3s):\n",
    "        #Checamos si el punto pertenece al tetrahedro (sino, continuamos)\n",
    "        if 1+elem[0]-elem[1]-elem[2]<0:\n",
    "            continue\n",
    "        if 1+elem[1]-elem[2]-elem[0]<0:\n",
    "            continue\n",
    "        if 1+elem[2]-elem[1]-elem[0]<0:\n",
    "            continue\n",
    "        if 1+elem[0]+elem[1]+elem[2]<0:\n",
    "            continue\n",
    "            \n",
    "        else:\n",
    "            #si pertenece, lo agregamos al conjunto de puntos\n",
    "            conjunto.append(elem)\n",
    "    return(conjunto)\n",
    "\n",
    "def tomar_elemento(dic,key):\n",
    "    #Función para tomar un elemento de un diccionario sin obtener error\n",
    "    # si la key que se busca no existe, sino que da como resultado 0.\n",
    "    if key in dic:\n",
    "        return(dic[key])\n",
    "    else:\n",
    "        return(0)\n",
    "\n",
    "def crear_circs(cantidad=9):\n",
    "    '''Crear circuitos correspondientes a puntos en el tetraedro'''\n",
    "    #Creamos la cuadricula\n",
    "    conjunto = crear_puntos(cantidad)\n",
    "    \n",
    "    \n",
    "    circuitos = []\n",
    "    # Creamos los 12 circuitos de tomografia para cada punto y los ponemos\n",
    "    #todos en una lista.\n",
    "    for i in range(len(conjunto)):\n",
    "        lambdas = conjunto[i]\n",
    "        circ = lambdas_a_circ(lambdas)\n",
    "        qpt_circs = process_tomography_circuits(circ,[0],prepared_qubits=[0])\n",
    "        for c in qpt_circs:\n",
    "            circuitos.append(c)\n",
    "            \n",
    "    return(circuitos)\n"
   ]
  },
  {
   "cell_type": "code",
   "execution_count": 30,
   "id": "d20f9e46",
   "metadata": {},
   "outputs": [],
   "source": [
    "import os\n",
    "\n",
    "def correr_circs(compu,circuitos,agregar='',header=False,inicio=0):\n",
    "    #Creamos una carpeta dentro de resultados, si es que no existe\n",
    "    directory = \"Resultados/\"+compu+agregar\n",
    "    if os.path.exists(directory) == False:\n",
    "        os.mkdir(directory)\n",
    "        \n",
    "    strin = directory+\"/Resultados-Binarios\"+'.csv'\n",
    "    if header==False:\n",
    "        with open(strin,\"a\") as f:\n",
    "            f.write(\"0,1\")\n",
    "            f.flush()\n",
    "\n",
    "        \n",
    "    repeticiones = len(circuitos)//100\n",
    "    resultados = []\n",
    "    qcomp=  provider.get_backend(compu)\n",
    "\n",
    "    \n",
    "    for j in range(inicio,repeticiones):\n",
    "        circs = circuitos[j*100:(j+1)*100]\n",
    "        job = qiskit.execute(circs,backend=qcomp, shots=20000)\n",
    "\n",
    "        # Esto es para saber cuantos trabajos van antes en la fila y como va el nuestro\n",
    "        job_monitor(job)\n",
    "        \n",
    "        res = job.result().get_counts()\n",
    "        print(\"finalizado\")\n",
    "        #y agregamos los conteos al csv\n",
    "        with open(strin,\"a\") as f:\n",
    "            for res_i in res:\n",
    "                data = [tomar_elemento(res_i,'0'),tomar_elemento(res_i,'1')]\n",
    "                f.write(\"\\n\"+str(data[0])+\",\" + str(data[1]))\n",
    "                f.flush()\n",
    "                \n",
    "                resultados.append(res_i)\n",
    "            \n",
    "    \n",
    "    #Hacemos los circuitos que faltan \n",
    "    if len(circuitos) != 100*repeticiones:\n",
    "        circs=circuitos[100*repeticiones:]\n",
    "        job = qiskit.execute(circs,backend=qcomp, shots=20000)\n",
    "\n",
    "        # Esto es para saber cuantos trabajos van antes en la fila y como va el nuestro\n",
    "        job_monitor(job)\n",
    "        \n",
    "        res = job.result().get_counts()\n",
    "        print(res)\n",
    "        \n",
    "        with open(strin,\"a\") as f:\n",
    "            for res_u in res:\n",
    "                data = [tomar_elemento(res_i,'0'),tomar_elemento(res_i,'1')]\n",
    "                f.write(\"\\n\"+str(data[0])+\",\" + str(data[1]))\n",
    "                \n",
    "                resultados.append(res_i)\n",
    "                f.flush()\n",
    "    return(resultados)        \n"
   ]
  },
  {
   "cell_type": "code",
   "execution_count": 29,
   "id": "a876a129",
   "metadata": {},
   "outputs": [
    {
     "data": {
      "text/plain": [
       "<qiskit.circuit.quantumcircuit.QuantumCircuit at 0x2329b024c08>"
      ]
     },
     "execution_count": 29,
     "metadata": {},
     "output_type": "execute_result"
    }
   ],
   "source": [
    "qpt_circs = ProcessTomography(circ,measurement_indices=[0],\n",
    "                              preparation_indices=[0])\n",
    "qpt_circs.circuits()[0]"
   ]
  },
  {
   "cell_type": "code",
   "execution_count": 31,
   "id": "6fd908cd",
   "metadata": {
    "collapsed": true
   },
   "outputs": [
    {
     "name": "stdout",
     "output_type": "stream",
     "text": [
      "12\n",
      "Job Status: job has successfully run\n",
      "[{'0': 19881, '1': 119}, {'0': 10104, '1': 9896}, {'0': 9704, '1': 10296}, {'0': 914, '1': 19086}, {'0': 9883, '1': 10117}, {'0': 9557, '1': 10443}, {'0': 9988, '1': 10012}, {'0': 19757, '1': 243}, {'0': 9649, '1': 10351}, {'0': 10017, '1': 9983}, {'0': 10917, '1': 9083}, {'0': 19791, '1': 209}]\n"
     ]
    },
    {
     "ename": "NameError",
     "evalue": "name 'tomar_elemento' is not defined",
     "output_type": "error",
     "traceback": [
      "\u001b[1;31m---------------------------------------------------------------------------\u001b[0m",
      "\u001b[1;31mNameError\u001b[0m                                 Traceback (most recent call last)",
      "\u001b[1;32m~\\AppData\\Local\\Temp\\ipykernel_5976\\3129739359.py\u001b[0m in \u001b[0;36m<module>\u001b[1;34m\u001b[0m\n\u001b[0;32m      1\u001b[0m \u001b[0mcircuitos\u001b[0m \u001b[1;33m=\u001b[0m\u001b[0mqpt_circs\u001b[0m\u001b[1;33m.\u001b[0m\u001b[0mcircuits\u001b[0m\u001b[1;33m(\u001b[0m\u001b[1;33m)\u001b[0m\u001b[1;33m\u001b[0m\u001b[1;33m\u001b[0m\u001b[0m\n\u001b[0;32m      2\u001b[0m \u001b[0mprint\u001b[0m\u001b[1;33m(\u001b[0m\u001b[0mlen\u001b[0m\u001b[1;33m(\u001b[0m\u001b[0mcircuitos\u001b[0m\u001b[1;33m)\u001b[0m\u001b[1;33m)\u001b[0m\u001b[1;33m\u001b[0m\u001b[1;33m\u001b[0m\u001b[0m\n\u001b[1;32m----> 3\u001b[1;33m \u001b[0mres\u001b[0m \u001b[1;33m=\u001b[0m \u001b[0mcorrer_circs\u001b[0m\u001b[1;33m(\u001b[0m\u001b[1;34m'ibmq_lima'\u001b[0m\u001b[1;33m,\u001b[0m\u001b[0mcircuitos\u001b[0m\u001b[1;33m,\u001b[0m\u001b[1;34m''\u001b[0m\u001b[1;33m,\u001b[0m\u001b[1;32mFalse\u001b[0m\u001b[1;33m,\u001b[0m\u001b[1;36m0\u001b[0m\u001b[1;33m)\u001b[0m\u001b[1;33m\u001b[0m\u001b[1;33m\u001b[0m\u001b[0m\n\u001b[0m",
      "\u001b[1;32m~\\AppData\\Local\\Temp\\ipykernel_5976\\2552960362.py\u001b[0m in \u001b[0;36mcorrer_circs\u001b[1;34m(compu, circuitos, agregar, header, inicio)\u001b[0m\n\u001b[0;32m     51\u001b[0m         \u001b[1;32mwith\u001b[0m \u001b[0mopen\u001b[0m\u001b[1;33m(\u001b[0m\u001b[0mstrin\u001b[0m\u001b[1;33m,\u001b[0m\u001b[1;34m\"a\"\u001b[0m\u001b[1;33m)\u001b[0m \u001b[1;32mas\u001b[0m \u001b[0mf\u001b[0m\u001b[1;33m:\u001b[0m\u001b[1;33m\u001b[0m\u001b[1;33m\u001b[0m\u001b[0m\n\u001b[0;32m     52\u001b[0m             \u001b[1;32mfor\u001b[0m \u001b[0mres_u\u001b[0m \u001b[1;32min\u001b[0m \u001b[0mres\u001b[0m\u001b[1;33m:\u001b[0m\u001b[1;33m\u001b[0m\u001b[1;33m\u001b[0m\u001b[0m\n\u001b[1;32m---> 53\u001b[1;33m                 \u001b[0mdata\u001b[0m \u001b[1;33m=\u001b[0m \u001b[1;33m[\u001b[0m\u001b[0mtomar_elemento\u001b[0m\u001b[1;33m(\u001b[0m\u001b[0mres_i\u001b[0m\u001b[1;33m,\u001b[0m\u001b[1;34m'0'\u001b[0m\u001b[1;33m)\u001b[0m\u001b[1;33m,\u001b[0m\u001b[0mtomar_elemento\u001b[0m\u001b[1;33m(\u001b[0m\u001b[0mres_i\u001b[0m\u001b[1;33m,\u001b[0m\u001b[1;34m'1'\u001b[0m\u001b[1;33m)\u001b[0m\u001b[1;33m]\u001b[0m\u001b[1;33m\u001b[0m\u001b[1;33m\u001b[0m\u001b[0m\n\u001b[0m\u001b[0;32m     54\u001b[0m                 \u001b[0mf\u001b[0m\u001b[1;33m.\u001b[0m\u001b[0mwrite\u001b[0m\u001b[1;33m(\u001b[0m\u001b[1;34m\"\\n\"\u001b[0m\u001b[1;33m+\u001b[0m\u001b[0mstr\u001b[0m\u001b[1;33m(\u001b[0m\u001b[0mdata\u001b[0m\u001b[1;33m[\u001b[0m\u001b[1;36m0\u001b[0m\u001b[1;33m]\u001b[0m\u001b[1;33m)\u001b[0m\u001b[1;33m+\u001b[0m\u001b[1;34m\",\"\u001b[0m \u001b[1;33m+\u001b[0m \u001b[0mstr\u001b[0m\u001b[1;33m(\u001b[0m\u001b[0mdata\u001b[0m\u001b[1;33m[\u001b[0m\u001b[1;36m1\u001b[0m\u001b[1;33m]\u001b[0m\u001b[1;33m)\u001b[0m\u001b[1;33m)\u001b[0m\u001b[1;33m\u001b[0m\u001b[1;33m\u001b[0m\u001b[0m\n\u001b[0;32m     55\u001b[0m \u001b[1;33m\u001b[0m\u001b[0m\n",
      "\u001b[1;31mNameError\u001b[0m: name 'tomar_elemento' is not defined"
     ]
    }
   ],
   "source": [
    "circuitos =qpt_circs.circuits()\n",
    "print(len(circuitos))\n",
    "res = correr_circs('ibmq_lima',circuitos,'',False,0)"
   ]
  },
  {
   "cell_type": "code",
   "execution_count": 33,
   "id": "ea730f42",
   "metadata": {},
   "outputs": [
    {
     "data": {
      "text/plain": [
       "Choi([[ 0.65+0.j,  0.  +0.j,  0.  +0.j,  0.45+0.j],\n",
       "      [ 0.  +0.j,  0.35+0.j, -0.05+0.j,  0.  +0.j],\n",
       "      [ 0.  +0.j, -0.05+0.j,  0.35+0.j,  0.  +0.j],\n",
       "      [ 0.45+0.j,  0.  +0.j,  0.  +0.j,  0.65+0.j]],\n",
       "     input_dims=(2,), output_dims=(2,))"
      ]
     },
     "execution_count": 33,
     "metadata": {},
     "output_type": "execute_result"
    }
   ],
   "source": [
    "def choi_objetivo(lambdas):\n",
    "    '''Para valores de las lambdas, regresa la matriz de Choi objetivo'''\n",
    "    \n",
    "    #Primero calculamos las alphas correspondientes\n",
    "    l1,l2,l3 = lambdas\n",
    "    al1 =  1/4*(1+l1-l2-l3)\n",
    "    al2 = 1/4*(1-l1+l2-l3)\n",
    "    al3 = 1/4*(1-l1-l2+l3)\n",
    "    al0=1-al1-al2-al3\n",
    "    \n",
    "    #Escribimos la representación de Kraus a partir de las alphas \n",
    "    k = Kraus([np.sqrt(al0)*I,np.sqrt(al1)*X,\n",
    "                               np.sqrt(al2)*Y,np.sqrt(al3)*Z])\n",
    "    \n",
    "    #Ahora lo convertimos a choi usando _kraus_to_choi\n",
    "    mat_choi = np.array(qtrans._kraus_to_choi([k.data,None]))\n",
    "    \n",
    "    return(Choi(mat_choi))\n",
    "choi_objetivo([0.4,0.5,0.3])"
   ]
  },
  {
   "cell_type": "code",
   "execution_count": 64,
   "id": "92a646ff",
   "metadata": {},
   "outputs": [],
   "source": [
    "def rho_final(x1,x0,y1,y0,z1,z0):\n",
    "    #Dados los resultados de un circuito medido en las 3 bases,\n",
    "    #Calculamos la matriz de densidad del estado final creado\n",
    "    total = x1+x0\n",
    "    trax = (x0/total)**2 - (x1/total)**2\n",
    "    tray = (y0/total)**2 - (y1/total)**2\n",
    "    traz = (z0/total)**2 - (z1/total)**2\n",
    "    rho = (I+trax*X+tray*Y+traz*Z)/2\n",
    "    return(np.array(rho))\n",
    "\n",
    "def tensorproduct(*args):\n",
    "    \"\"\"\n",
    "    Calculate tensor product.\n",
    "\n",
    "    m = tensorproduct(a,b,c,...) returns the kronecker product of its arguments.\n",
    "    Each argument should either be a tensor, or a tuple containing a\n",
    "    tensor and an integer, and tensor is put in zero-index slot.\n",
    "    In the latter case, the integer specifies the repeat count for the tensor,\n",
    "    e.g. tensorproduct(a,(b,3),c) = tensorproduct(a,b,b,b,c).\n",
    "\n",
    "    Args:\n",
    "            - args:\n",
    "    Returns:\n",
    "            np.ndarray: the tensor product\n",
    "    \"\"\"\n",
    "    m_l = 1\n",
    "    for j, _ in enumerate(args):\n",
    "        if isinstance(args[j], tuple):\n",
    "            m = args[j][0] if isinstance(args[j][0], np.ndarray) else np.asarray(args[j][0])\n",
    "            for _ in range(args[j][1]):\n",
    "                m_l = np.kron(m_l, m)\n",
    "        else:\n",
    "            m = args[j] if isinstance(args[j], np.ndarray) else np.asarray(args[j])\n",
    "            m_l = np.kron(m_l, m)\n",
    "    return m_l\n",
    "\n",
    "\n",
    "\n",
    "def tomar_elemento(dic,key):\n",
    "    #Función para tomar un elemento de un diccionario sin obtener error\n",
    "    # si la key que se busca no existe, sino que da como resultado 0.\n",
    "    if key in dic:\n",
    "        return(dic[key])\n",
    "    else:\n",
    "        return(0)\n",
    "    \n",
    "    \n",
    "def choi_desde_res(res):\n",
    "    # Obtenemos la matriz de densidad final para los 4 estados de entrada\n",
    "    #El estado 0, el estado 1, el + y el R. \n",
    "    #Los se obtienen en los 12 conteos de los circuitos qpt.\n",
    "    erho0 = rho_final(tomar_elemento(res[0],'1'),tomar_elemento(res[0],'0'),\n",
    "                      tomar_elemento(res[1],'1'),tomar_elemento(res[1],'0'),\n",
    "                    tomar_elemento(res[2],'1'),tomar_elemento(res[2],'0'))\n",
    "    \n",
    "    erho1 = rho_final(tomar_elemento(res[3],'1'),tomar_elemento(res[3],'0'),\n",
    "                      tomar_elemento(res[4],'1'),tomar_elemento(res[4],'0'),\n",
    "                    tomar_elemento(res[5],'1'),tomar_elemento(res[5],'0'))\n",
    "    \n",
    "    erhomas = rho_final(tomar_elemento(res[6],'1'),tomar_elemento(res[6],'0'),\n",
    "                      tomar_elemento(res[7],'1'),tomar_elemento(res[7],'0'),\n",
    "                    tomar_elemento(res[8],'1'),tomar_elemento(res[8],'0'))\n",
    "    \n",
    "    erhoR = rho_final(tomar_elemento(res[9],'1'),tomar_elemento(res[9],'0'),\n",
    "                      tomar_elemento(res[10],'1'),tomar_elemento(res[10],'0'),\n",
    "                    tomar_elemento(res[11],'1'),tomar_elemento(res[11],'0'))\n",
    "    \n",
    "    \n",
    "\n",
    "    #A partir de esto, calculamos la matriz de Choi\n",
    "    #sumando |i><j| \\otimes eps(|i><j|)\n",
    "    #Los eps(|i><j|) se pueden escribir como combinación lineal de los\n",
    "    # calculados en erho0, erho1, erhomas, erhoR,\n",
    "    \n",
    "#     choi = np.outer(np.array([[1,0],[0,0]]),erho0)\n",
    "    choi = np.kron(erho0,np.array([[1,0],[0,0]]))\n",
    "#     choi+= np.outer(np.array([[0,1],[0,0]]),\n",
    "#     erhomas+1j*erhoR-(1+1j)/2*erho0-(1+1j)/2*erho1)\n",
    "    choi+= np.kron(erhomas+1j*erhoR-(1+1j)/2*erho0-(1+1j)/2*erho1,\n",
    "                   np.array([[0,1],[0,0]]))\n",
    "    \n",
    "#     choi+= np.outer(np.array([[0,0],[1,0]]),\n",
    "#             erhomas-1j*erhoR-(1-1j)/2*erho1-(1-1j)/2*erho0)\n",
    "    choi+= np.kron(erhomas-1j*erhoR-(1-1j)/2*erho1-(1-1j)/2*erho0,\n",
    "                   np.array([[0,0],[1,0]]))\n",
    "    \n",
    "    choi+= np.kron(erho1,np.array([[0,0],[0,1]]))\n",
    "    return(qi.Choi(choi))\n",
    "\n",
    "import pandas as pd\n",
    "\n",
    "def crear_dict(df):\n",
    "    d = []\n",
    "    lista = np.array(df)\n",
    "    for a in lista:\n",
    "        d.append({'0': a[0], '1': a[1]})\n",
    "    return(d)"
   ]
  },
  {
   "cell_type": "code",
   "execution_count": 65,
   "id": "d727f8de",
   "metadata": {},
   "outputs": [
    {
     "name": "stderr",
     "output_type": "stream",
     "text": [
      "Input channel is not CP. Choi-matrix has negative eigenvalues: [-0.04747036 -0.00938583]\n",
      "Input channel is not TP. Tr_2[Choi] - I has non-zero eigenvalues: [-0.05427511  0.05427511]\n"
     ]
    },
    {
     "name": "stdout",
     "output_type": "stream",
     "text": [
      "0.278340435076369\n"
     ]
    }
   ],
   "source": [
    "\n",
    "import pandas as pd \n",
    "resultados_bin = pd.read_csv(\"Resultados/ibmq_lima-id/Resultados-Binarios.csv\")\n",
    "    \n",
    "resul_i = resultados_bin.iloc[0:12]\n",
    "d = crear_dict(resul_i)\n",
    "\n",
    "choi_obj = choi_objetivo([1,1,1])\n",
    "choi_compu = choi_desde_res(d)\n",
    "    \n",
    "fid =qi.process_fidelity(qi.Choi(choi_compu),target=choi_obj)\n",
    "      \n",
    "print(fid)\n",
    "        "
   ]
  },
  {
   "cell_type": "code",
   "execution_count": 52,
   "id": "f54d6e65",
   "metadata": {},
   "outputs": [],
   "source": [
    "Operator.tensor?"
   ]
  },
  {
   "cell_type": "code",
   "execution_count": null,
   "id": "ea35a395",
   "metadata": {},
   "outputs": [],
   "source": []
  }
 ],
 "metadata": {
  "kernelspec": {
   "display_name": "Python 3 (ipykernel)",
   "language": "python",
   "name": "python3"
  },
  "language_info": {
   "codemirror_mode": {
    "name": "ipython",
    "version": 3
   },
   "file_extension": ".py",
   "mimetype": "text/x-python",
   "name": "python",
   "nbconvert_exporter": "python",
   "pygments_lexer": "ipython3",
   "version": "3.7.7rc1"
  }
 },
 "nbformat": 4,
 "nbformat_minor": 5
}
