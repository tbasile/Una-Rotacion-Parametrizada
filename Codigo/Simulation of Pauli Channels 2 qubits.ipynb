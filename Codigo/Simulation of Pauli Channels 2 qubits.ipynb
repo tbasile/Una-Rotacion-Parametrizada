{
 "cells": [
  {
   "cell_type": "code",
   "execution_count": 2,
   "id": "e10c7682",
   "metadata": {},
   "outputs": [],
   "source": [
    "import numpy as np\n",
    "import matplotlib.pyplot as plt\n",
    "import itertools\n",
    "import csv\n",
    "\n",
    "import qiskit\n",
    "from qiskit_experiments import library\n",
    "import qiskit.quantum_info as qi\n",
    "from qiskit.circuit.library import XGate, YGate, ZGate, U1Gate\n",
    "from qiskit.quantum_info import Choi, Kraus\n",
    "#import qiskit.aqua.utils as utils\n",
    "from qiskit.tools.monitor import job_monitor\n",
    "from qiskit import QuantumCircuit, QuantumRegister,execute, Aer\n",
    "import qiskit.quantum_info.operators.channel.transformations as qtrans\n",
    "from qiskit_aer import AerSimulator\n",
    "\n",
    "from qiskit.ignis.verification.tomography import state_tomography_circuits, StateTomographyFitter\n",
    "from qiskit.ignis.verification.tomography import process_tomography_circuits, ProcessTomographyFitter\n",
    "from qiskit.ignis.verification.tomography import gateset_tomography_circuits, GatesetTomographyFitter\n",
    "import qiskit.ignis.mitigation.measurement as mc\n",
    "#Pauli matrices:\n",
    "I = np.array([[1,0],[0,1]])\n",
    "X = np.array([[0,1],[1,0]])\n",
    "Y = np.array([[0,-1j],[1j,0]])\n",
    "Z = np.array([[1,0],[0,-1]])\n"
   ]
  },
  {
   "cell_type": "markdown",
   "id": "e3edaf94",
   "metadata": {},
   "source": [
    "# 2 Qubit-channel\n",
    "\n",
    "Now we will use the algorithm to simulate a 2-qubit quantum channel. In particular, the channel we will simulate is \n",
    "\n",
    "$$ \\varepsilon(\\rho) = k_0 \\rho + k_1 (\\sigma_3 \\otimes I) \\rho (\\sigma_3 \\otimes I) + k_2 (I \\otimes \\sigma_3) \\rho (I \\otimes \\sigma_3) . $$\n",
    "\n",
    "with $k_0 + k_1 + k_2 = 1$. To simulate this particular channel, we will need the two principal qubits and two ancilla qubits (to create the probabilities $k_0, k_1, k_2$. \n"
   ]
  },
  {
   "cell_type": "code",
   "execution_count": 3,
   "id": "3de76cdc",
   "metadata": {},
   "outputs": [],
   "source": [
    "\"\"\"Function to create the circuit given the values of k:\"\"\"\n",
    "\n",
    "def ks_to_circuit(ks):    \n",
    "    k0,k1,k2 = ks\n",
    "    \n",
    "    #We calculate the angles theta0, theta1, theta2.\n",
    "    theta0 = np.angle(np.sqrt(k0)+1j*np.sqrt(k1))\n",
    "    theta1 = 2*np.arccos(np.sqrt(k0+k1))\n",
    "    theta2 = np.angle(np.sqrt(k0)+1j*np.sqrt(k1))\n",
    "    \n",
    "    # We create the circuit with 3 qubits.\n",
    "    qreg_q = QuantumRegister(4, 'q') \n",
    "    circ = QuantumCircuit(qreg_q)\n",
    "    \n",
    "    #Add the quantum gates to create the ancilla qubit state.\n",
    "    circ.ry(theta1,2)\n",
    "    circ.ry(theta0,3)\n",
    "    circ.cz(2,3)\n",
    "    circ.ry(theta2,3)\n",
    "    \n",
    "    #Add the controlled gates.\n",
    "    ciz = ZGate.control(ZGate(),num_ctrl_qubits=2,ctrl_state='01')\n",
    "    czi = ZGate.control(ZGate(),num_ctrl_qubits=2,ctrl_state='10')\n",
    "    \n",
    "    \n",
    "    \n",
    "    circ.append(ciz, [2,3, 0])\n",
    "    circ.append(czi, [2,3, 1])\n",
    "\n",
    "    return(circ)\n",
    "\n"
   ]
  },
  {
   "cell_type": "markdown",
   "id": "8cd76ac4",
   "metadata": {},
   "source": [
    "Create many instances of the channel for different values of $p_0,p_1,p_2$:"
   ]
  },
  {
   "cell_type": "code",
   "execution_count": 4,
   "id": "64b3788e",
   "metadata": {
    "scrolled": true
   },
   "outputs": [
    {
     "data": {
      "text/plain": [
       "<matplotlib.collections.PathCollection at 0x1abb130be80>"
      ]
     },
     "execution_count": 4,
     "metadata": {},
     "output_type": "execute_result"
    },
    {
     "data": {
      "image/png": "[encoded data removed]",
      "text/plain": [
       "<Figure size 640x480 with 1 Axes>"
      ]
     },
     "metadata": {},
     "output_type": "display_data"
    }
   ],
   "source": [
    "points = []; p1s=[]; p2s=[]\n",
    "for p1 in np.arange(0,1,0.1):\n",
    "    for p2 in np.arange(0,1,0.1):\n",
    "        if 1-p1-p2 >0:\n",
    "            points.append(np.around([1-p1-p2,p1,p2],2))\n",
    "            p1s.append(np.around(p1,2))\n",
    "            p2s.append(np.around(p2,2))\n",
    "            \n",
    "plt.scatter(p1s,p2s)\n"
   ]
  },
  {
   "cell_type": "code",
   "execution_count": 104,
   "id": "ca3d9447",
   "metadata": {},
   "outputs": [
    {
     "data": {
      "text/html": [
       "<pre style=\"word-wrap: normal;white-space: pre;background: #fff0;line-height: 1.1;font-family: &quot;Courier New&quot;,Courier,monospace\">                                            \n",
       "q_0: ──────────────────────────────────■────\n",
       "                                       │    \n",
       "q_1: ──────────────────────────────────┼──■─\n",
       "        ┌───────┐                      │  │ \n",
       "q_2: ───┤ Ry(0) ├────■─────────────────■──o─\n",
       "     ┌──┴───────┴──┐ │ ┌─────────────┐ │  │ \n",
       "q_3: ┤ Ry(0.32175) ├─■─┤ Ry(0.32175) ├─o──■─\n",
       "     └─────────────┘   └─────────────┘      </pre>"
      ],
      "text/plain": [
       "                                            \n",
       "q_0: ──────────────────────────────────■────\n",
       "                                       │    \n",
       "q_1: ──────────────────────────────────┼──■─\n",
       "        ┌───────┐                      │  │ \n",
       "q_2: ───┤ Ry(0) ├────■─────────────────■──o─\n",
       "     ┌──┴───────┴──┐ │ ┌─────────────┐ │  │ \n",
       "q_3: ┤ Ry(0.32175) ├─■─┤ Ry(0.32175) ├─o──■─\n",
       "     └─────────────┘   └─────────────┘      "
      ]
     },
     "execution_count": 104,
     "metadata": {},
     "output_type": "execute_result"
    }
   ],
   "source": [
    "\n",
    "circuits = []\n",
    "for p in points:\n",
    "    circuits.append(ks_to_circuit(p))\n",
    "\n",
    "circuits[10].draw()\n"
   ]
  },
  {
   "cell_type": "markdown",
   "id": "6a6cb6b0",
   "metadata": {},
   "source": [
    "### Run Quantum Process tomography"
   ]
  },
  {
   "cell_type": "code",
   "execution_count": 107,
   "id": "92a4ccde",
   "metadata": {},
   "outputs": [],
   "source": [
    "def choi_theoretical(ks):\n",
    "    '''For some values of taus describing a Pauli channel, this function\n",
    "    returns the choi matrix of said channel.\n",
    "    \n",
    "    Args:\n",
    "        taus (list): The list of taus [tau1,tau2,tau3] that defines a Pauli channel.\n",
    "    \n",
    "    Returns:\n",
    "        mat_choi (qi.choi): The choi matrix of the channel.\n",
    "    '''\n",
    "\n",
    "    \n",
    "    #First we convert the taus to the ks that describe the channel.\n",
    "    k0,k1,k2 = ks\n",
    "    \n",
    "    #We can write the Kraus representation of the channel, using that the \n",
    "    # Kraus operators are \\sqrt{k_i} \\sigma_i with \\sigma_i the ith Pauli matrix.\n",
    "    \n",
    "    k = Kraus([np.sqrt(k0)*np.kron(I,I),np.sqrt(k1)*np.kron(Z,I),\n",
    "                               np.sqrt(k2)*np.kron(I,Z)])\n",
    "    \n",
    "    #We convert the Kraus representation to the choi representation of the channel.\n",
    "    mat_choi = np.array(qtrans._kraus_to_choi([k.data,None]))\n",
    "    \n",
    "    return(qi.Choi(mat_choi))\n",
    "\n"
   ]
  },
  {
   "cell_type": "code",
   "execution_count": 105,
   "id": "9f465607",
   "metadata": {},
   "outputs": [],
   "source": [
    "from qiskit_experiments.library import ProcessTomography\n",
    "import qiskit\n",
    "from qiskit_aer import AerSimulator\n",
    "from qiskit.providers.fake_provider import FakeLima"
   ]
  },
  {
   "cell_type": "code",
   "execution_count": 115,
   "id": "f62b5cb5",
   "metadata": {
    "collapsed": true
   },
   "outputs": [
    {
     "name": "stdout",
     "output_type": "stream",
     "text": [
      "0\n",
      "1\n",
      "2\n",
      "3\n",
      "4\n",
      "5\n",
      "6\n",
      "7\n",
      "8\n",
      "9\n",
      "10\n",
      "11\n",
      "12\n",
      "13\n",
      "14\n",
      "15\n",
      "16\n",
      "17\n",
      "18\n",
      "19\n",
      "20\n",
      "21\n",
      "22\n",
      "23\n",
      "24\n",
      "25\n",
      "26\n",
      "27\n",
      "28\n",
      "29\n",
      "30\n",
      "31\n",
      "32\n",
      "33\n",
      "34\n",
      "35\n",
      "36\n",
      "37\n",
      "38\n",
      "39\n",
      "40\n",
      "41\n",
      "42\n",
      "43\n",
      "44\n",
      "45\n",
      "46\n",
      "47\n",
      "48\n",
      "49\n",
      "50\n",
      "51\n",
      "52\n",
      "53\n",
      "54\n"
     ]
    }
   ],
   "source": [
    "backend = AerSimulator.from_backend(FakeLima())\n",
    "# backend = Aer.get_backend('aer_simulator')\n",
    "\n",
    "fidelities = []\n",
    "for i in range(len(points)):\n",
    "    print(i)\n",
    "    point = points[i]\n",
    "    circ = circuits[i]\n",
    "    \n",
    "    \n",
    "    qpt = ProcessTomography(circ,backend,measurement_indices=[0,1],\n",
    "                            preparation_indices=[0,1])\n",
    "    qpt.set_run_options(shots=20000)\n",
    "    \n",
    "    qpt_run = qpt.run()\n",
    "    qptdata = qpt_run.block_for_results()\n",
    "    \n",
    "    \n",
    "    \n",
    "    choi_simu = qptdata.analysis_results(\"state\").value\n",
    "    choi_theo = choi_theoretical(point)\n",
    "    \n",
    "    dis =qi.diamond_norm(qi.Choi(choi_simu)-choi_theo)\n",
    "    fidelities.append(1-0.5*dis)\n",
    "    "
   ]
  },
  {
   "cell_type": "code",
   "execution_count": 127,
   "id": "c70393ad",
   "metadata": {},
   "outputs": [],
   "source": [
    "with open(\"Para subir/Simulation-imbq_lima/fidelity-2qbit.csv\",\"w\") as f:\n",
    "    f.write(\"p1,p2,fid\")\n",
    "    \n",
    "    for i in range(len(points)):\n",
    "        f.write(\"\\n\" + str(p1s[i]) + \",\" + str(p2s[i]) + \",\" + str(fidelities[i]))\n",
    "        "
   ]
  },
  {
   "cell_type": "code",
   "execution_count": 9,
   "id": "f7fd0c2a",
   "metadata": {
    "scrolled": true
   },
   "outputs": [],
   "source": [
    "fidelities =[]\n",
    "\n",
    "import csv\n",
    "import pandas as pd\n",
    "\n",
    "\n",
    "data = pd.read_csv(\"Para subir/Simulation-imbq_lima/fidelity-2qbit.csv\")\n",
    "\n",
    "        \n",
    "fidelities = data['fid']\n",
    "fidelities = np.array(fidelities)"
   ]
  },
  {
   "cell_type": "code",
   "execution_count": 114,
   "id": "0ae03756",
   "metadata": {},
   "outputs": [
    {
     "name": "stderr",
     "output_type": "stream",
     "text": [
      "C:\\Users\\tbasi\\AppData\\Local\\Temp\\ipykernel_7848\\677954327.py:29: MatplotlibDeprecationWarning: Unable to determine Axes to steal space for Colorbar. Using gca(), but will raise in the future. Either provide the *cax* argument to use as the Axes for the Colorbar, provide the *ax* argument to steal space from it, or add *mappable* to an Axes.\n",
      "  cb = fig.colorbar(colmap)\n"
     ]
    },
    {
     "data": {
      "text/plain": [
       "Text(0, 0.5, '$k_2$')"
      ]
     },
     "execution_count": 114,
     "metadata": {},
     "output_type": "execute_result"
    },
    {
     "data": {
      "image/png": "[encoded data removed]",
      "text/plain": [
       "<Figure size 640x480 with 2 Axes>"
      ]
     },
     "metadata": {},
     "output_type": "display_data"
    }
   ],
   "source": [
    "from matplotlib import cm\n",
    "\n",
    "points = []; p1s=[]; p2s=[]\n",
    "for p1 in np.arange(0,1,0.1):\n",
    "    for p2 in np.arange(0,1,0.1):\n",
    "        if 1-p1-p2 >0:\n",
    "            points.append(np.around([1-p1-p2,p1,p2],2))\n",
    "            p1s.append(np.around(p1,2))\n",
    "            p2s.append(np.around(p2,2))\n",
    "\n",
    "            \n",
    "fig = plt.figure()\n",
    "\n",
    "\n",
    "# colors = cm.rainbow_r((np.array(fidelities)-min(fidelities))/(max(fidelities)-min(fidelities)))\n",
    "\n",
    "colors = cm.viridis(np.array(fidelities))\n",
    "for i in range(len(p2s)):\n",
    "    p2s[i]=p2s[i]+0.065\n",
    "    \n",
    "for i in range(len(p1s)):\n",
    "    p1s[i]=p1s[i]+0.057\n",
    "\n",
    "\n",
    "colmap = cm.ScalarMappable(cmap=cm.viridis)\n",
    "colmap.set_array(fidelities)\n",
    "\n",
    "plt.scatter(p1s,p2s,c=colors,s=800,marker='s')\n",
    "cb = fig.colorbar(colmap)\n",
    "\n",
    "a = 1.0325\n",
    "b= 0.0285\n",
    "plt.scatter(b,a,c='w',s=800,marker='D')\n",
    "\n",
    "for j in range(200):\n",
    "    plt.scatter(b+0.005*j,a-0.005*j,c='w',s=800,marker='D')\n",
    "\n",
    "plt.xlabel(\"$k_1$\")\n",
    "plt.ylabel(\"$k_2$\")"
   ]
  },
  {
   "cell_type": "code",
   "execution_count": 37,
   "id": "b369f924",
   "metadata": {},
   "outputs": [],
   "source": [
    "a= p2s+[0.4]*len(p2s)"
   ]
  },
  {
   "cell_type": "code",
   "execution_count": 38,
   "id": "6dcd3bf8",
   "metadata": {},
   "outputs": [
    {
     "data": {
      "text/plain": [
       "[0.0,\n",
       " 0.1,\n",
       " 0.2,\n",
       " 0.3,\n",
       " 0.4,\n",
       " 0.5,\n",
       " 0.6,\n",
       " 0.7,\n",
       " 0.8,\n",
       " 0.9,\n",
       " 0.0,\n",
       " 0.1,\n",
       " 0.2,\n",
       " 0.3,\n",
       " 0.4,\n",
       " 0.5,\n",
       " 0.6,\n",
       " 0.7,\n",
       " 0.8,\n",
       " 0.0,\n",
       " 0.1,\n",
       " 0.2,\n",
       " 0.3,\n",
       " 0.4,\n",
       " 0.5,\n",
       " 0.6,\n",
       " 0.7,\n",
       " 0.0,\n",
       " 0.1,\n",
       " 0.2,\n",
       " 0.3,\n",
       " 0.4,\n",
       " 0.5,\n",
       " 0.6,\n",
       " 0.0,\n",
       " 0.1,\n",
       " 0.2,\n",
       " 0.3,\n",
       " 0.4,\n",
       " 0.5,\n",
       " 0.0,\n",
       " 0.1,\n",
       " 0.2,\n",
       " 0.3,\n",
       " 0.4,\n",
       " 0.0,\n",
       " 0.1,\n",
       " 0.2,\n",
       " 0.3,\n",
       " 0.0,\n",
       " 0.1,\n",
       " 0.2,\n",
       " 0.0,\n",
       " 0.1,\n",
       " 0.0,\n",
       " 0.4,\n",
       " 0.4,\n",
       " 0.4,\n",
       " 0.4,\n",
       " 0.4,\n",
       " 0.4,\n",
       " 0.4,\n",
       " 0.4,\n",
       " 0.4,\n",
       " 0.4,\n",
       " 0.4,\n",
       " 0.4,\n",
       " 0.4,\n",
       " 0.4,\n",
       " 0.4,\n",
       " 0.4,\n",
       " 0.4,\n",
       " 0.4,\n",
       " 0.4,\n",
       " 0.4,\n",
       " 0.4,\n",
       " 0.4,\n",
       " 0.4,\n",
       " 0.4,\n",
       " 0.4,\n",
       " 0.4,\n",
       " 0.4,\n",
       " 0.4,\n",
       " 0.4,\n",
       " 0.4,\n",
       " 0.4,\n",
       " 0.4,\n",
       " 0.4,\n",
       " 0.4,\n",
       " 0.4,\n",
       " 0.4,\n",
       " 0.4,\n",
       " 0.4,\n",
       " 0.4,\n",
       " 0.4,\n",
       " 0.4,\n",
       " 0.4,\n",
       " 0.4,\n",
       " 0.4,\n",
       " 0.4,\n",
       " 0.4,\n",
       " 0.4,\n",
       " 0.4,\n",
       " 0.4,\n",
       " 0.4,\n",
       " 0.4,\n",
       " 0.4,\n",
       " 0.4,\n",
       " 0.4,\n",
       " 0.4]"
      ]
     },
     "execution_count": 38,
     "metadata": {},
     "output_type": "execute_result"
    }
   ],
   "source": [
    "a"
   ]
  },
  {
   "cell_type": "code",
   "execution_count": null,
   "id": "bc3551ee",
   "metadata": {},
   "outputs": [],
   "source": []
  }
 ],
 "metadata": {
  "kernelspec": {
   "display_name": "Python 3 (ipykernel)",
   "language": "python",
   "name": "python3"
  },
  "language_info": {
   "codemirror_mode": {
    "name": "ipython",
    "version": 3
   },
   "file_extension": ".py",
   "mimetype": "text/x-python",
   "name": "python",
   "nbconvert_exporter": "python",
   "pygments_lexer": "ipython3",
   "version": "3.10.11"
  }
 },
 "nbformat": 4,
 "nbformat_minor": 5
}
