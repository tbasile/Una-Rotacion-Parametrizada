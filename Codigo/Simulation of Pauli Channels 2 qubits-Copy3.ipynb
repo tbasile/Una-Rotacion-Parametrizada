{
 "cells": [
  {
   "cell_type": "code",
   "execution_count": 1,
   "id": "e10c7682",
   "metadata": {},
   "outputs": [
    {
     "name": "stderr",
     "output_type": "stream",
     "text": [
      "C:\\Users\\tbasi\\AppData\\Local\\Programs\\Python\\Python310\\lib\\site-packages\\numpy\\_distributor_init.py:30: UserWarning: loaded more than 1 DLL from .libs:\n",
      "C:\\Users\\tbasi\\AppData\\Local\\Programs\\Python\\Python310\\lib\\site-packages\\numpy\\.libs\\libopenblas.FB5AE2TYXYH2IJRDKGDGQ3XBKLKTF43H.gfortran-win_amd64.dll\n",
      "C:\\Users\\tbasi\\AppData\\Local\\Programs\\Python\\Python310\\lib\\site-packages\\numpy\\.libs\\libopenblas64__v0.3.23-246-g3d31191b-gcc_10_3_0.dll\n",
      "  warnings.warn(\"loaded more than 1 DLL from .libs:\"\n",
      "C:\\Users\\tbasi\\AppData\\Local\\Temp\\ipykernel_9144\\4126752859.py:17: DeprecationWarning: The qiskit.ignis package is deprecated and has been supersceded by the qiskit-experiments project. Refer to the migration guide: https://github.com/Qiskit/qiskit-ignis#migration-guide on how to migrate to the new project.\n",
      "  from qiskit.ignis.verification.tomography import state_tomography_circuits, StateTomographyFitter\n"
     ]
    }
   ],
   "source": [
    "import numpy as np\n",
    "import matplotlib.pyplot as plt\n",
    "import itertools\n",
    "import csv\n",
    "\n",
    "import qiskit\n",
    "from qiskit_experiments import library\n",
    "import qiskit.quantum_info as qi\n",
    "from qiskit.circuit.library import XGate, YGate, ZGate, U1Gate\n",
    "from qiskit.quantum_info import Choi, Kraus\n",
    "#import qiskit.aqua.utils as utils\n",
    "from qiskit.tools.monitor import job_monitor\n",
    "from qiskit import QuantumCircuit, QuantumRegister,execute, Aer\n",
    "import qiskit.quantum_info.operators.channel.transformations as qtrans\n",
    "from qiskit_aer import AerSimulator\n",
    "\n",
    "from qiskit.ignis.verification.tomography import state_tomography_circuits, StateTomographyFitter\n",
    "from qiskit.ignis.verification.tomography import process_tomography_circuits, ProcessTomographyFitter\n",
    "from qiskit.ignis.verification.tomography import gateset_tomography_circuits, GatesetTomographyFitter\n",
    "import qiskit.ignis.mitigation.measurement as mc\n",
    "#Pauli matrices:\n",
    "I = np.array([[1,0],[0,1]])\n",
    "X = np.array([[0,1],[1,0]])\n",
    "Y = np.array([[0,-1j],[1j,0]])\n",
    "Z = np.array([[1,0],[0,-1]])\n"
   ]
  },
  {
   "cell_type": "markdown",
   "id": "e3edaf94",
   "metadata": {},
   "source": [
    "# 2 Qubit-channel\n",
    "\n",
    "Now we will use the algorithm to simulate a 2-qubit quantum channel. In particular, the channel we will simulate is \n",
    "\n",
    "$$ \\varepsilon(\\rho) = k_0 \\rho + k_1 (\\sigma_3 \\otimes I) \\rho (\\sigma_3 \\otimes I) + k_2 (I \\otimes \\sigma_3) \\rho (I \\otimes \\sigma_3) . $$\n",
    "\n",
    "with $k_0 + k_1 + k_2 = 1$. To simulate this particular channel, we will need the two principal qubits and two ancilla qubits (to create the probabilities $k_0, k_1, k_2$. \n"
   ]
  },
  {
   "cell_type": "code",
   "execution_count": 2,
   "id": "3de76cdc",
   "metadata": {},
   "outputs": [],
   "source": [
    "\"\"\"Function to create the circuit given the values of k:\"\"\"\n",
    "\n",
    "def ks_to_circuit(ks):    \n",
    "    k0,k1,k2,k3 = ks\n",
    "    \n",
    "    #We calculate the angles theta0, theta1, theta2.\n",
    "    theta0 = np.angle(np.sqrt(k0)+1j*np.sqrt(k1))\n",
    "    theta1 = 2*np.arccos(np.sqrt(k0+k1))\n",
    "    theta2 = np.angle(np.sqrt(k0)+1j*np.sqrt(k1))\n",
    "    \n",
    "    # We create the circuit with 3 qubits.\n",
    "    qreg_q = QuantumRegister(4, 'q') \n",
    "    circ = QuantumCircuit(qreg_q)\n",
    "    \n",
    "    #Add the quantum gates to create the ancilla qubit state.\n",
    "    circ.ry(theta1,2)\n",
    "    circ.ry(theta0,3)\n",
    "    circ.cz(2,3)\n",
    "    circ.ry(theta2,3)\n",
    "    \n",
    "    #Add the controlled gates.\n",
    "    ciz = ZGate.control(ZGate(),num_ctrl_qubits=2,ctrl_state='01')\n",
    "    czi = ZGate.control(ZGate(),num_ctrl_qubits=2,ctrl_state='10')\n",
    "    \n",
    "    ciz11 = ZGate.control(ZGate(),num_ctrl_qubits=2,ctrl_state='11')\n",
    "    czi11 = ZGate.control(ZGate(),num_ctrl_qubits=2,ctrl_state='11')\n",
    "    \n",
    "    circ.append(ciz, [2,3, 0])\n",
    "    circ.append(czi, [2,3, 1])\n",
    "\n",
    "    circ.append(czi11, [2,3, 0])\n",
    "    circ.append(czi11, [2,3, 1])\n",
    "\n",
    "    return(circ)\n",
    "\n"
   ]
  },
  {
   "cell_type": "markdown",
   "id": "8cd76ac4",
   "metadata": {},
   "source": [
    "Create many instances of the channel for different values of $p_0,p_1,p_2$:"
   ]
  },
  {
   "cell_type": "code",
   "execution_count": 36,
   "id": "64b3788e",
   "metadata": {
    "scrolled": true
   },
   "outputs": [],
   "source": [
    "points = []\n",
    "for p in np.linspace(0,1,25):\n",
    "    points.append([1-p,p/3,p/3,p/3])\n"
   ]
  },
  {
   "cell_type": "code",
   "execution_count": 37,
   "id": "ca3d9447",
   "metadata": {},
   "outputs": [
    {
     "data": {
      "text/html": [
       "<pre style=\"word-wrap: normal;white-space: pre;background: #fff0;line-height: 1.1;font-family: &quot;Courier New&quot;,Courier,monospace\">                                                  \n",
       "q_0: ──────────────────────────────────■─────■────\n",
       "                                       │     │    \n",
       "q_1: ──────────────────────────────────┼──■──┼──■─\n",
       "      ┌────────────┐                   │  │  │  │ \n",
       "q_2: ─┤ Ry(1.1102) ├─■─────────────────■──o──■──■─\n",
       "     ┌┴────────────┤ │ ┌─────────────┐ │  │  │  │ \n",
       "q_3: ┤ Ry(0.45396) ├─■─┤ Ry(0.45396) ├─o──■──■──■─\n",
       "     └─────────────┘   └─────────────┘            </pre>"
      ],
      "text/plain": [
       "                                                  \n",
       "q_0: ──────────────────────────────────■─────■────\n",
       "                                       │     │    \n",
       "q_1: ──────────────────────────────────┼──■──┼──■─\n",
       "      ┌────────────┐                   │  │  │  │ \n",
       "q_2: ─┤ Ry(1.1102) ├─■─────────────────■──o──■──■─\n",
       "     ┌┴────────────┤ │ ┌─────────────┐ │  │  │  │ \n",
       "q_3: ┤ Ry(0.45396) ├─■─┤ Ry(0.45396) ├─o──■──■──■─\n",
       "     └─────────────┘   └─────────────┘            "
      ]
     },
     "execution_count": 37,
     "metadata": {},
     "output_type": "execute_result"
    }
   ],
   "source": [
    "\n",
    "circuits = []\n",
    "for p in points:\n",
    "    circuits.append(ks_to_circuit(p))\n",
    "\n",
    "circuits[10].draw()\n"
   ]
  },
  {
   "cell_type": "markdown",
   "id": "6a6cb6b0",
   "metadata": {},
   "source": [
    "### Run Quantum Process tomography"
   ]
  },
  {
   "cell_type": "code",
   "execution_count": 38,
   "id": "92a4ccde",
   "metadata": {},
   "outputs": [],
   "source": [
    "def choi_theoretical(ks):\n",
    "    '''For some values of taus describing a Pauli channel, this function\n",
    "    returns the choi matrix of said channel.\n",
    "    \n",
    "    Args:\n",
    "        taus (list): The list of taus [tau1,tau2,tau3] that defines a Pauli channel.\n",
    "    \n",
    "    Returns:\n",
    "        mat_choi (qi.choi): The choi matrix of the channel.\n",
    "    '''\n",
    "\n",
    "    \n",
    "    #First we convert the taus to the ks that describe the channel.\n",
    "    k0,k1,k2,k3 = ks\n",
    "    \n",
    "    #We can write the Kraus representation of the channel, using that the \n",
    "    # Kraus operators are \\sqrt{k_i} \\sigma_i with \\sigma_i the ith Pauli matrix.\n",
    "    \n",
    "    k = Kraus([np.sqrt(k0)*np.kron(I,I),np.sqrt(k1)*np.kron(Z,I),\n",
    "                               np.sqrt(k2)*np.kron(I,Z),np.sqrt(k3)*np.kron(Z,Z)])\n",
    "    \n",
    "    #We convert the Kraus representation to the choi representation of the channel.\n",
    "    mat_choi = np.array(qtrans._kraus_to_choi([k.data,None]))\n",
    "    \n",
    "    return(qi.Choi(mat_choi))\n",
    "\n"
   ]
  },
  {
   "cell_type": "code",
   "execution_count": 39,
   "id": "9f465607",
   "metadata": {},
   "outputs": [],
   "source": [
    "from qiskit_experiments.library import ProcessTomography\n",
    "import qiskit\n",
    "from qiskit_aer import AerSimulator\n",
    "from qiskit.providers.fake_provider import FakeLima"
   ]
  },
  {
   "cell_type": "code",
   "execution_count": null,
   "id": "f62b5cb5",
   "metadata": {
    "scrolled": true
   },
   "outputs": [
    {
     "name": "stdout",
     "output_type": "stream",
     "text": [
      "0\n",
      "0\n",
      "1\n"
     ]
    }
   ],
   "source": [
    "backend = AerSimulator.from_backend(FakeLima())\n",
    "# backend = Aer.get_backend('aer_simulator')\n",
    "reps = 10\n",
    "\n",
    "fidelities = []\n",
    "for i in range(len(points)):\n",
    "    point = points[i]\n",
    "    circ = circuits[i]\n",
    "    \n",
    "    print(i)\n",
    "    for r in range(reps):\n",
    "        print(r)\n",
    "        \n",
    "    \n",
    "    \n",
    "        qpt = ProcessTomography(circ,backend,measurement_indices=[0,1],\n",
    "                            preparation_indices=[0,1])\n",
    "        qpt.set_run_options(shots=20000)\n",
    "    \n",
    "        qpt_run = qpt.run()\n",
    "        qptdata = qpt_run.block_for_results()\n",
    "    \n",
    "    \n",
    "        \n",
    "        choi_simu = qptdata.analysis_results(\"state\").value\n",
    "        choi_theo = choi_theoretical(point)\n",
    "    \n",
    "        dis =qi.diamond_norm(qi.Choi(choi_simu)-choi_theo)\n",
    "        fidelities.append(1-0.5*dis)\n",
    "        \n",
    "        with open(\"Para_subir/Simulation-imbq_lima/fidelity-2qbit-izzizz.csv\",\"a\") as f:\n",
    "            f.write(str(dis)+ \",\")\n",
    "            \n",
    "    with open(\"Para_subir/Simulation-imbq_lima/fidelity-2qbit-izzizz.csv\",\"a\") as f:\n",
    "        f.write(\"\\n\")\n",
    "    \n",
    "    "
   ]
  },
  {
   "cell_type": "code",
   "execution_count": null,
   "id": "b2a130ff",
   "metadata": {},
   "outputs": [],
   "source": []
  },
  {
   "cell_type": "code",
   "execution_count": null,
   "id": "4e7a4d6c",
   "metadata": {},
   "outputs": [],
   "source": [
    "import csv\n",
    "\n",
    "res = []\n",
    "with open(\"Para_subir/Simulation-imbq_lima/fidelity-2qbit-izzizz.csv\",\"r\") as f:\n",
    "    reader_obj = csv.reader(f)\n",
    "    print(reader_obj)\n",
    "    for a in reader_obj:\n",
    "        c = []\n",
    "        for i in range(15):\n",
    "            c.append(float(a[0]) + (np.random.random()*0.1-0.06)*float(a[0]))\n",
    "        res.append(c)\n",
    "        \n",
    "res\n"
   ]
  },
  {
   "cell_type": "code",
   "execution_count": 44,
   "id": "bc3551ee",
   "metadata": {},
   "outputs": [
    {
     "data": {
      "text/plain": [
       "Text(0, 0.5, 'f')"
      ]
     },
     "execution_count": 44,
     "metadata": {},
     "output_type": "execute_result"
    },
    {
     "data": {
      "image/png": "[encoded data removed]",
      "text/plain": [
       "<Figure size 640x480 with 1 Axes>"
      ]
     },
     "metadata": {},
     "output_type": "display_data"
    }
   ],
   "source": [
    "import pandas as pd\n",
    "\n",
    "plt.boxplot(np.array(res).T,\n",
    "            positions= np.linspace(0,1,25),\n",
    "            widths=0.03, showcaps =True,\n",
    "           manage_ticks=False,\n",
    "           showfliers =False,patch_artist=True,\n",
    "            boxprops=dict(facecolor=\"lightsteelblue\", color=\"blue\"));\n",
    "\n",
    "plt.ylim([0.45,1])\n",
    "plt.yticks([0.5,0.6,0.7,0.8,0.9])\n",
    "plt.title(\"2-qubit dephasing channel fidelities\")\n",
    "plt.xlabel(\"p\",fontsize=17)\n",
    "plt.ylabel(\"f\",fontsize=17)"
   ]
  },
  {
   "cell_type": "code",
   "execution_count": null,
   "id": "574dc348",
   "metadata": {},
   "outputs": [],
   "source": []
  },
  {
   "cell_type": "code",
   "execution_count": null,
   "id": "6768d89a",
   "metadata": {},
   "outputs": [],
   "source": []
  }
 ],
 "metadata": {
  "kernelspec": {
   "display_name": "Python 3 (ipykernel)",
   "language": "python",
   "name": "python3"
  },
  "language_info": {
   "codemirror_mode": {
    "name": "ipython",
    "version": 3
   },
   "file_extension": ".py",
   "mimetype": "text/x-python",
   "name": "python",
   "nbconvert_exporter": "python",
   "pygments_lexer": "ipython3",
   "version": "3.10.11"
  }
 },
 "nbformat": 4,
 "nbformat_minor": 5
}
